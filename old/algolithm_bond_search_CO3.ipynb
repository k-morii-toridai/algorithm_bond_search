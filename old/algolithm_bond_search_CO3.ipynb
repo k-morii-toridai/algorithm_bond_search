{
 "cells": [
  {
   "cell_type": "code",
   "execution_count": 26,
   "id": "c8152ead-1c64-4b8f-82a2-feb4daa80c53",
   "metadata": {
    "tags": []
   },
   "outputs": [],
   "source": [
    "import pandas as pd\n",
    "import numpy as np\n",
    "from package_file_conversion.nnlist2df import nnlist2df"
   ]
  },
  {
   "cell_type": "code",
   "execution_count": 32,
   "id": "0329eae4-3f7e-4ac2-984a-4d9c0346a03f",
   "metadata": {
    "tags": []
   },
   "outputs": [],
   "source": [
    "nnlist_path = 'sample_test_files/POSCAR.nnlist'"
   ]
  },
  {
   "cell_type": "code",
   "execution_count": 33,
   "id": "181e09fa-6d2d-46fe-8f5b-796113d5f903",
   "metadata": {
    "tags": []
   },
   "outputs": [],
   "source": [
    "df_nnlist = nnlist2df(nnlist_path=nnlist_path)"
   ]
  },
  {
   "cell_type": "code",
   "execution_count": 34,
   "id": "f8c45eb0-6a52-495d-87c4-6e8b34920dbd",
   "metadata": {
    "tags": []
   },
   "outputs": [
    {
     "data": {
      "text/html": [
       "<div>\n",
       "<style scoped>\n",
       "    .dataframe tbody tr th:only-of-type {\n",
       "        vertical-align: middle;\n",
       "    }\n",
       "\n",
       "    .dataframe tbody tr th {\n",
       "        vertical-align: top;\n",
       "    }\n",
       "\n",
       "    .dataframe thead th {\n",
       "        text-align: right;\n",
       "    }\n",
       "</style>\n",
       "<table border=\"1\" class=\"dataframe\">\n",
       "  <thead>\n",
       "    <tr style=\"text-align: right;\">\n",
       "      <th></th>\n",
       "      <th>central_atom_id</th>\n",
       "      <th>neighboring_atom_id</th>\n",
       "      <th>rel_distance</th>\n",
       "      <th>rel_x</th>\n",
       "      <th>rel_y</th>\n",
       "      <th>rel_z</th>\n",
       "      <th>unitcell_x</th>\n",
       "      <th>unitcell_y</th>\n",
       "      <th>unitcell_z</th>\n",
       "      <th>central_atom_symbol</th>\n",
       "      <th>neighboring_atom_symbol</th>\n",
       "    </tr>\n",
       "  </thead>\n",
       "  <tbody>\n",
       "    <tr>\n",
       "      <th>0</th>\n",
       "      <td>1</td>\n",
       "      <td>1</td>\n",
       "      <td>0.000000</td>\n",
       "      <td>0.000000</td>\n",
       "      <td>0.000000</td>\n",
       "      <td>0.000000</td>\n",
       "      <td>0</td>\n",
       "      <td>0</td>\n",
       "      <td>0</td>\n",
       "      <td>C</td>\n",
       "      <td>C</td>\n",
       "    </tr>\n",
       "    <tr>\n",
       "      <th>1</th>\n",
       "      <td>1</td>\n",
       "      <td>9</td>\n",
       "      <td>1.282630</td>\n",
       "      <td>0.000000</td>\n",
       "      <td>1.281885</td>\n",
       "      <td>-0.043713</td>\n",
       "      <td>0</td>\n",
       "      <td>0</td>\n",
       "      <td>0</td>\n",
       "      <td>C</td>\n",
       "      <td>O</td>\n",
       "    </tr>\n",
       "    <tr>\n",
       "      <th>2</th>\n",
       "      <td>1</td>\n",
       "      <td>13</td>\n",
       "      <td>1.289100</td>\n",
       "      <td>1.112990</td>\n",
       "      <td>-0.650283</td>\n",
       "      <td>0.012857</td>\n",
       "      <td>0</td>\n",
       "      <td>0</td>\n",
       "      <td>0</td>\n",
       "      <td>C</td>\n",
       "      <td>O</td>\n",
       "    </tr>\n",
       "    <tr>\n",
       "      <th>3</th>\n",
       "      <td>1</td>\n",
       "      <td>16</td>\n",
       "      <td>1.289100</td>\n",
       "      <td>-1.112990</td>\n",
       "      <td>-0.650283</td>\n",
       "      <td>0.012857</td>\n",
       "      <td>0</td>\n",
       "      <td>0</td>\n",
       "      <td>0</td>\n",
       "      <td>C</td>\n",
       "      <td>O</td>\n",
       "    </tr>\n",
       "    <tr>\n",
       "      <th>4</th>\n",
       "      <td>2</td>\n",
       "      <td>2</td>\n",
       "      <td>0.000000</td>\n",
       "      <td>0.000000</td>\n",
       "      <td>0.000000</td>\n",
       "      <td>0.000000</td>\n",
       "      <td>0</td>\n",
       "      <td>0</td>\n",
       "      <td>0</td>\n",
       "      <td>C</td>\n",
       "      <td>C</td>\n",
       "    </tr>\n",
       "  </tbody>\n",
       "</table>\n",
       "</div>"
      ],
      "text/plain": [
       "  central_atom_id neighboring_atom_id  rel_distance     rel_x     rel_y  \\\n",
       "0               1                   1      0.000000  0.000000  0.000000   \n",
       "1               1                   9      1.282630  0.000000  1.281885   \n",
       "2               1                  13      1.289100  1.112990 -0.650283   \n",
       "3               1                  16      1.289100 -1.112990 -0.650283   \n",
       "4               2                   2      0.000000  0.000000  0.000000   \n",
       "\n",
       "      rel_z  unitcell_x  unitcell_y  unitcell_z central_atom_symbol  \\\n",
       "0  0.000000           0           0           0                   C   \n",
       "1 -0.043713           0           0           0                   C   \n",
       "2  0.012857           0           0           0                   C   \n",
       "3  0.012857           0           0           0                   C   \n",
       "4  0.000000           0           0           0                   C   \n",
       "\n",
       "  neighboring_atom_symbol  \n",
       "0                       C  \n",
       "1                       O  \n",
       "2                       O  \n",
       "3                       O  \n",
       "4                       C  "
      ]
     },
     "execution_count": 34,
     "metadata": {},
     "output_type": "execute_result"
    }
   ],
   "source": [
    "df_nnlist.head()"
   ]
  },
  {
   "cell_type": "code",
   "execution_count": 63,
   "id": "f65db6e3-49a1-4dff-a90e-2320c77f1a2b",
   "metadata": {
    "tags": []
   },
   "outputs": [
    {
     "data": {
      "text/html": [
       "<div>\n",
       "<style scoped>\n",
       "    .dataframe tbody tr th:only-of-type {\n",
       "        vertical-align: middle;\n",
       "    }\n",
       "\n",
       "    .dataframe tbody tr th {\n",
       "        vertical-align: top;\n",
       "    }\n",
       "\n",
       "    .dataframe thead th {\n",
       "        text-align: right;\n",
       "    }\n",
       "</style>\n",
       "<table border=\"1\" class=\"dataframe\">\n",
       "  <thead>\n",
       "    <tr style=\"text-align: right;\">\n",
       "      <th></th>\n",
       "      <th>central_atom_id</th>\n",
       "      <th>neighboring_atom_id</th>\n",
       "      <th>rel_distance</th>\n",
       "      <th>rel_x</th>\n",
       "      <th>rel_y</th>\n",
       "      <th>rel_z</th>\n",
       "      <th>unitcell_x</th>\n",
       "      <th>unitcell_y</th>\n",
       "      <th>unitcell_z</th>\n",
       "      <th>central_atom_symbol</th>\n",
       "      <th>neighboring_atom_symbol</th>\n",
       "      <th>neighboring_atom_symbol_is_O</th>\n",
       "    </tr>\n",
       "  </thead>\n",
       "  <tbody>\n",
       "    <tr>\n",
       "      <th>0</th>\n",
       "      <td>1</td>\n",
       "      <td>1</td>\n",
       "      <td>0.000000</td>\n",
       "      <td>0.000000</td>\n",
       "      <td>0.000000</td>\n",
       "      <td>0.000000</td>\n",
       "      <td>0</td>\n",
       "      <td>0</td>\n",
       "      <td>0</td>\n",
       "      <td>C</td>\n",
       "      <td>C</td>\n",
       "      <td>False</td>\n",
       "    </tr>\n",
       "    <tr>\n",
       "      <th>1</th>\n",
       "      <td>1</td>\n",
       "      <td>9</td>\n",
       "      <td>1.282630</td>\n",
       "      <td>0.000000</td>\n",
       "      <td>1.281885</td>\n",
       "      <td>-0.043713</td>\n",
       "      <td>0</td>\n",
       "      <td>0</td>\n",
       "      <td>0</td>\n",
       "      <td>C</td>\n",
       "      <td>O</td>\n",
       "      <td>True</td>\n",
       "    </tr>\n",
       "    <tr>\n",
       "      <th>2</th>\n",
       "      <td>1</td>\n",
       "      <td>13</td>\n",
       "      <td>1.289100</td>\n",
       "      <td>1.112990</td>\n",
       "      <td>-0.650283</td>\n",
       "      <td>0.012857</td>\n",
       "      <td>0</td>\n",
       "      <td>0</td>\n",
       "      <td>0</td>\n",
       "      <td>C</td>\n",
       "      <td>O</td>\n",
       "      <td>True</td>\n",
       "    </tr>\n",
       "    <tr>\n",
       "      <th>3</th>\n",
       "      <td>1</td>\n",
       "      <td>16</td>\n",
       "      <td>1.289100</td>\n",
       "      <td>-1.112990</td>\n",
       "      <td>-0.650283</td>\n",
       "      <td>0.012857</td>\n",
       "      <td>0</td>\n",
       "      <td>0</td>\n",
       "      <td>0</td>\n",
       "      <td>C</td>\n",
       "      <td>O</td>\n",
       "      <td>True</td>\n",
       "    </tr>\n",
       "    <tr>\n",
       "      <th>4</th>\n",
       "      <td>2</td>\n",
       "      <td>2</td>\n",
       "      <td>0.000000</td>\n",
       "      <td>0.000000</td>\n",
       "      <td>0.000000</td>\n",
       "      <td>0.000000</td>\n",
       "      <td>0</td>\n",
       "      <td>0</td>\n",
       "      <td>0</td>\n",
       "      <td>C</td>\n",
       "      <td>C</td>\n",
       "      <td>False</td>\n",
       "    </tr>\n",
       "    <tr>\n",
       "      <th>5</th>\n",
       "      <td>2</td>\n",
       "      <td>10</td>\n",
       "      <td>1.282630</td>\n",
       "      <td>0.000000</td>\n",
       "      <td>-1.281885</td>\n",
       "      <td>-0.043713</td>\n",
       "      <td>0</td>\n",
       "      <td>0</td>\n",
       "      <td>0</td>\n",
       "      <td>C</td>\n",
       "      <td>O</td>\n",
       "      <td>True</td>\n",
       "    </tr>\n",
       "    <tr>\n",
       "      <th>6</th>\n",
       "      <td>2</td>\n",
       "      <td>14</td>\n",
       "      <td>1.289100</td>\n",
       "      <td>-1.112990</td>\n",
       "      <td>0.650283</td>\n",
       "      <td>0.012857</td>\n",
       "      <td>0</td>\n",
       "      <td>0</td>\n",
       "      <td>0</td>\n",
       "      <td>C</td>\n",
       "      <td>O</td>\n",
       "      <td>True</td>\n",
       "    </tr>\n",
       "    <tr>\n",
       "      <th>7</th>\n",
       "      <td>2</td>\n",
       "      <td>17</td>\n",
       "      <td>1.289100</td>\n",
       "      <td>1.112990</td>\n",
       "      <td>0.650283</td>\n",
       "      <td>0.012857</td>\n",
       "      <td>0</td>\n",
       "      <td>0</td>\n",
       "      <td>0</td>\n",
       "      <td>C</td>\n",
       "      <td>O</td>\n",
       "      <td>True</td>\n",
       "    </tr>\n",
       "    <tr>\n",
       "      <th>8</th>\n",
       "      <td>3</td>\n",
       "      <td>3</td>\n",
       "      <td>0.000000</td>\n",
       "      <td>0.000000</td>\n",
       "      <td>0.000000</td>\n",
       "      <td>0.000000</td>\n",
       "      <td>0</td>\n",
       "      <td>0</td>\n",
       "      <td>0</td>\n",
       "      <td>C</td>\n",
       "      <td>C</td>\n",
       "      <td>False</td>\n",
       "    </tr>\n",
       "    <tr>\n",
       "      <th>9</th>\n",
       "      <td>3</td>\n",
       "      <td>11</td>\n",
       "      <td>1.282630</td>\n",
       "      <td>0.000000</td>\n",
       "      <td>-1.281885</td>\n",
       "      <td>0.043713</td>\n",
       "      <td>0</td>\n",
       "      <td>0</td>\n",
       "      <td>0</td>\n",
       "      <td>C</td>\n",
       "      <td>O</td>\n",
       "      <td>True</td>\n",
       "    </tr>\n",
       "    <tr>\n",
       "      <th>10</th>\n",
       "      <td>3</td>\n",
       "      <td>15</td>\n",
       "      <td>1.289100</td>\n",
       "      <td>-1.112990</td>\n",
       "      <td>0.650283</td>\n",
       "      <td>-0.012857</td>\n",
       "      <td>0</td>\n",
       "      <td>0</td>\n",
       "      <td>0</td>\n",
       "      <td>C</td>\n",
       "      <td>O</td>\n",
       "      <td>True</td>\n",
       "    </tr>\n",
       "    <tr>\n",
       "      <th>11</th>\n",
       "      <td>3</td>\n",
       "      <td>19</td>\n",
       "      <td>1.289100</td>\n",
       "      <td>1.112990</td>\n",
       "      <td>0.650283</td>\n",
       "      <td>-0.012857</td>\n",
       "      <td>0</td>\n",
       "      <td>0</td>\n",
       "      <td>0</td>\n",
       "      <td>C</td>\n",
       "      <td>O</td>\n",
       "      <td>True</td>\n",
       "    </tr>\n",
       "    <tr>\n",
       "      <th>12</th>\n",
       "      <td>4</td>\n",
       "      <td>4</td>\n",
       "      <td>0.000000</td>\n",
       "      <td>0.000000</td>\n",
       "      <td>0.000000</td>\n",
       "      <td>0.000000</td>\n",
       "      <td>0</td>\n",
       "      <td>0</td>\n",
       "      <td>0</td>\n",
       "      <td>C</td>\n",
       "      <td>C</td>\n",
       "      <td>False</td>\n",
       "    </tr>\n",
       "    <tr>\n",
       "      <th>13</th>\n",
       "      <td>4</td>\n",
       "      <td>12</td>\n",
       "      <td>1.282630</td>\n",
       "      <td>0.000000</td>\n",
       "      <td>1.281885</td>\n",
       "      <td>0.043713</td>\n",
       "      <td>0</td>\n",
       "      <td>0</td>\n",
       "      <td>0</td>\n",
       "      <td>C</td>\n",
       "      <td>O</td>\n",
       "      <td>True</td>\n",
       "    </tr>\n",
       "    <tr>\n",
       "      <th>14</th>\n",
       "      <td>4</td>\n",
       "      <td>18</td>\n",
       "      <td>1.289100</td>\n",
       "      <td>1.112990</td>\n",
       "      <td>-0.650283</td>\n",
       "      <td>-0.012857</td>\n",
       "      <td>0</td>\n",
       "      <td>0</td>\n",
       "      <td>0</td>\n",
       "      <td>C</td>\n",
       "      <td>O</td>\n",
       "      <td>True</td>\n",
       "    </tr>\n",
       "    <tr>\n",
       "      <th>15</th>\n",
       "      <td>4</td>\n",
       "      <td>20</td>\n",
       "      <td>1.289100</td>\n",
       "      <td>-1.112990</td>\n",
       "      <td>-0.650283</td>\n",
       "      <td>-0.012857</td>\n",
       "      <td>0</td>\n",
       "      <td>0</td>\n",
       "      <td>0</td>\n",
       "      <td>C</td>\n",
       "      <td>O</td>\n",
       "      <td>True</td>\n",
       "    </tr>\n",
       "  </tbody>\n",
       "</table>\n",
       "</div>"
      ],
      "text/plain": [
       "   central_atom_id neighboring_atom_id  rel_distance     rel_x     rel_y  \\\n",
       "0                1                   1      0.000000  0.000000  0.000000   \n",
       "1                1                   9      1.282630  0.000000  1.281885   \n",
       "2                1                  13      1.289100  1.112990 -0.650283   \n",
       "3                1                  16      1.289100 -1.112990 -0.650283   \n",
       "4                2                   2      0.000000  0.000000  0.000000   \n",
       "5                2                  10      1.282630  0.000000 -1.281885   \n",
       "6                2                  14      1.289100 -1.112990  0.650283   \n",
       "7                2                  17      1.289100  1.112990  0.650283   \n",
       "8                3                   3      0.000000  0.000000  0.000000   \n",
       "9                3                  11      1.282630  0.000000 -1.281885   \n",
       "10               3                  15      1.289100 -1.112990  0.650283   \n",
       "11               3                  19      1.289100  1.112990  0.650283   \n",
       "12               4                   4      0.000000  0.000000  0.000000   \n",
       "13               4                  12      1.282630  0.000000  1.281885   \n",
       "14               4                  18      1.289100  1.112990 -0.650283   \n",
       "15               4                  20      1.289100 -1.112990 -0.650283   \n",
       "\n",
       "       rel_z  unitcell_x  unitcell_y  unitcell_z central_atom_symbol  \\\n",
       "0   0.000000           0           0           0                   C   \n",
       "1  -0.043713           0           0           0                   C   \n",
       "2   0.012857           0           0           0                   C   \n",
       "3   0.012857           0           0           0                   C   \n",
       "4   0.000000           0           0           0                   C   \n",
       "5  -0.043713           0           0           0                   C   \n",
       "6   0.012857           0           0           0                   C   \n",
       "7   0.012857           0           0           0                   C   \n",
       "8   0.000000           0           0           0                   C   \n",
       "9   0.043713           0           0           0                   C   \n",
       "10 -0.012857           0           0           0                   C   \n",
       "11 -0.012857           0           0           0                   C   \n",
       "12  0.000000           0           0           0                   C   \n",
       "13  0.043713           0           0           0                   C   \n",
       "14 -0.012857           0           0           0                   C   \n",
       "15 -0.012857           0           0           0                   C   \n",
       "\n",
       "   neighboring_atom_symbol neighboring_atom_symbol_is_O  \n",
       "0                        C                        False  \n",
       "1                        O                         True  \n",
       "2                        O                         True  \n",
       "3                        O                         True  \n",
       "4                        C                        False  \n",
       "5                        O                         True  \n",
       "6                        O                         True  \n",
       "7                        O                         True  \n",
       "8                        C                        False  \n",
       "9                        O                         True  \n",
       "10                       O                         True  \n",
       "11                       O                         True  \n",
       "12                       C                        False  \n",
       "13                       O                         True  \n",
       "14                       O                         True  \n",
       "15                       O                         True  "
      ]
     },
     "execution_count": 63,
     "metadata": {},
     "output_type": "execute_result"
    }
   ],
   "source": [
    "df_nnlist_squeezed_center_atom = df_nnlist[df_nnlist['central_atom_symbol'] == 'C']\n",
    "df_nnlist_squeezed_center_atom"
   ]
  },
  {
   "cell_type": "markdown",
   "id": "bb33a527-9e3d-4a0e-88aa-014d78936b20",
   "metadata": {
    "tags": []
   },
   "source": [
    "### 2．POSCAR.nnlistにおいて，原子Cから0-2．のCO結合距離以内に，原子Oを3つ以上含む，中心原子Cが存在する．"
   ]
  },
  {
   "cell_type": "markdown",
   "id": "4cfddf61-1928-4a9d-942a-eeb73b1dab33",
   "metadata": {
    "tags": []
   },
   "source": [
    "#### 2．の試行錯誤"
   ]
  },
  {
   "cell_type": "code",
   "execution_count": 61,
   "id": "31511eeb-8bcf-49f1-9221-c19b42a3eb53",
   "metadata": {
    "tags": []
   },
   "outputs": [
    {
     "data": {
      "text/plain": [
       "{'1': [0, 1, 2, 3], '2': [4, 5, 6, 7], '3': [8, 9, 10, 11], '4': [12, 13, 14, 15]}"
      ]
     },
     "execution_count": 61,
     "metadata": {},
     "output_type": "execute_result"
    }
   ],
   "source": [
    "df_nnlist_group_dict = df_nnlist[df_nnlist['central_atom_symbol'] == 'C'].groupby('central_atom_id').groups\n",
    "df_nnlist_group_dict"
   ]
  },
  {
   "cell_type": "code",
   "execution_count": 85,
   "id": "243fc268-adb8-4852-9b0d-9a8cf86a0890",
   "metadata": {
    "tags": []
   },
   "outputs": [
    {
     "data": {
      "text/plain": [
       "True"
      ]
     },
     "execution_count": 85,
     "metadata": {},
     "output_type": "execute_result"
    }
   ],
   "source": [
    "df_nnlist_squeezed_center_atom.iloc[df_nnlist_group_dict['2']]['neighboring_atom_symbol'].tolist().count('O') >= 3"
   ]
  },
  {
   "cell_type": "code",
   "execution_count": 139,
   "id": "c351324a-bde9-4023-9c7d-13f477016bc9",
   "metadata": {
    "tags": []
   },
   "outputs": [
    {
     "data": {
      "text/plain": [
       "array(['1', '2', '3', '4'], dtype='<U1')"
      ]
     },
     "execution_count": 139,
     "metadata": {},
     "output_type": "execute_result"
    }
   ],
   "source": [
    "df_nnlist_central_atom_ids = np.array(list(df_nnlist_group_dict.keys()))\n",
    "df_nnlist_central_atom_ids"
   ]
  },
  {
   "cell_type": "code",
   "execution_count": 141,
   "id": "d65a4446-1e41-4598-9815-4d3a740953c0",
   "metadata": {
    "tags": []
   },
   "outputs": [],
   "source": [
    "bool_list = []\n",
    "for key in df_nnlist_central_atom_ids:\n",
    "    bool_list.append(df_nnlist_squeezed_center_atom.iloc[df_nnlist_group_dict[key]]['neighboring_atom_symbol'].tolist().count('O') >= 3)"
   ]
  },
  {
   "cell_type": "code",
   "execution_count": 149,
   "id": "25488974-c67b-475f-9d52-50c2ad3b3bc4",
   "metadata": {
    "tags": []
   },
   "outputs": [
    {
     "data": {
      "text/plain": [
       "array(['1', '2', '3', '4'], dtype='<U1')"
      ]
     },
     "execution_count": 149,
     "metadata": {},
     "output_type": "execute_result"
    }
   ],
   "source": [
    "df_nnlist_central_atom_ids_fillterd = df_nnlist_central_atom_ids[bool_list]\n",
    "df_nnlist_central_atom_ids_fillterd"
   ]
  },
  {
   "cell_type": "code",
   "execution_count": 153,
   "id": "05fee39c-316a-4c76-a9bd-3df1e71a5252",
   "metadata": {
    "tags": []
   },
   "outputs": [],
   "source": [
    "bool_filter_2 = len(df_nnlist_central_atom_ids_fillterd) >= 1"
   ]
  },
  {
   "cell_type": "code",
   "execution_count": null,
   "id": "f99f9d46-4480-4b7a-b173-65d1109c3441",
   "metadata": {},
   "outputs": [],
   "source": []
  },
  {
   "cell_type": "code",
   "execution_count": 18,
   "id": "5cebc7bc-3114-408a-8193-cb90585df71e",
   "metadata": {
    "tags": []
   },
   "outputs": [],
   "source": [
    "df_nnlist_group_dict = df_nnlist[df_nnlist['central_atom_symbol'] == 'C'].groupby('central_atom_id').groups"
   ]
  },
  {
   "cell_type": "code",
   "execution_count": 36,
   "id": "bae91c34-385a-4ea1-bcc0-4380e2c4bdc2",
   "metadata": {
    "tags": []
   },
   "outputs": [
    {
     "data": {
      "text/plain": [
       "{'1': [0, 1, 2, 3], '2': [4, 5, 6, 7], '3': [8, 9, 10, 11], '4': [12, 13, 14, 15]}"
      ]
     },
     "execution_count": 36,
     "metadata": {},
     "output_type": "execute_result"
    }
   ],
   "source": [
    "df_nnlist_group_dict"
   ]
  },
  {
   "cell_type": "code",
   "execution_count": 37,
   "id": "52aa04a6-76ef-4afc-a186-83d93f17dcd6",
   "metadata": {
    "tags": []
   },
   "outputs": [
    {
     "data": {
      "text/plain": [
       "{'1': Int64Index([0, 1, 2, 3], dtype='int64'),\n",
       " '2': Int64Index([4, 5, 6, 7], dtype='int64'),\n",
       " '3': Int64Index([8, 9, 10, 11], dtype='int64'),\n",
       " '4': Int64Index([12, 13, 14, 15], dtype='int64')}"
      ]
     },
     "execution_count": 37,
     "metadata": {},
     "output_type": "execute_result"
    }
   ],
   "source": [
    "{key: df_nnlist_group_dict[key] for key in df_nnlist_group_dict.keys()}"
   ]
  },
  {
   "cell_type": "code",
   "execution_count": 38,
   "id": "0377bf9d-c9fc-4ddd-b0fc-ee745d59c754",
   "metadata": {
    "tags": []
   },
   "outputs": [
    {
     "data": {
      "text/plain": [
       "{'1': Int64Index([0, 1, 2, 3], dtype='int64'),\n",
       " '2': Int64Index([4, 5, 6, 7], dtype='int64'),\n",
       " '3': Int64Index([8, 9, 10, 11], dtype='int64'),\n",
       " '4': Int64Index([12, 13, 14, 15], dtype='int64')}"
      ]
     },
     "execution_count": 38,
     "metadata": {},
     "output_type": "execute_result"
    }
   ],
   "source": [
    "{key: df_nnlist_group_dict[key] for key in df_nnlist_group_dict.keys() if key in df_nnlist_central_atom_ids_fillterd}"
   ]
  },
  {
   "cell_type": "markdown",
   "id": "f446b241-054a-49a4-ac05-534a02a5cfc4",
   "metadata": {},
   "source": [
    "#### 2．の関数化"
   ]
  },
  {
   "cell_type": "code",
   "execution_count": 4,
   "id": "aac1810e-82e9-4be1-a0d9-4367c640658d",
   "metadata": {
    "tags": []
   },
   "outputs": [],
   "source": [
    "def filter_2(df_nnlist):\n",
    "    df_nnlist_squeezed_center_atom = df_nnlist[df_nnlist['central_atom_symbol'] == 'C']\n",
    "    df_nnlist_group_dict = df_nnlist[df_nnlist['central_atom_symbol'] == 'C'].groupby('central_atom_id').groups\n",
    "    df_nnlist_central_atom_ids = np.array(list(df_nnlist_group_dict.keys()))\n",
    "    bool_list = []\n",
    "    for key in df_nnlist_central_atom_ids:\n",
    "        bool_list.append(df_nnlist_squeezed_center_atom.iloc[df_nnlist_group_dict[key]]['neighboring_atom_symbol'].tolist().count('O') >= 3)\n",
    "    df_nnlist_central_atom_ids_fillterd = df_nnlist_central_atom_ids[bool_list]\n",
    "    bool_filter_2 = len(df_nnlist_central_atom_ids_fillterd) >= 1\n",
    "    filtered_df_nnlist_group_dict = {key: df_nnlist_group_dict[key] for key in df_nnlist_group_dict.keys() if key in df_nnlist_central_atom_ids_fillterd}\n",
    "    return bool_filter_2, filtered_df_nnlist_group_dict"
   ]
  },
  {
   "cell_type": "code",
   "execution_count": 5,
   "id": "46b36c9a-3b42-4dc1-a1f6-4d784fd99517",
   "metadata": {
    "tags": []
   },
   "outputs": [],
   "source": [
    "bool_2, dict_2 = filter_2(df_nnlist=df_nnlist)"
   ]
  },
  {
   "cell_type": "code",
   "execution_count": 6,
   "id": "b399255f-90cd-4aab-a658-5c7ccca3896f",
   "metadata": {
    "tags": []
   },
   "outputs": [
    {
     "data": {
      "text/plain": [
       "True"
      ]
     },
     "execution_count": 6,
     "metadata": {},
     "output_type": "execute_result"
    }
   ],
   "source": [
    "bool_2"
   ]
  },
  {
   "cell_type": "code",
   "execution_count": 7,
   "id": "1c736816-bc44-4295-a8a2-d9a35ecf0f5d",
   "metadata": {
    "tags": []
   },
   "outputs": [
    {
     "data": {
      "text/plain": [
       "{'1': Int64Index([0, 1, 2, 3], dtype='int64'),\n",
       " '2': Int64Index([4, 5, 6, 7], dtype='int64'),\n",
       " '3': Int64Index([8, 9, 10, 11], dtype='int64'),\n",
       " '4': Int64Index([12, 13, 14, 15], dtype='int64')}"
      ]
     },
     "execution_count": 7,
     "metadata": {},
     "output_type": "execute_result"
    }
   ],
   "source": [
    "dict_2"
   ]
  },
  {
   "cell_type": "markdown",
   "id": "72ba5efe-5f8a-4889-888f-0a54206effde",
   "metadata": {},
   "source": [
    "### 3．2．の中心原子Cに対して，1番近い原子がOであり，かつ2番目に近い原子もOであり，かつ3番目に近い原子もOである，中心原子Cが存在する．\n"
   ]
  },
  {
   "cell_type": "code",
   "execution_count": 77,
   "id": "6bb96c34-9618-48a5-a506-c1cb1291ab5c",
   "metadata": {
    "tags": []
   },
   "outputs": [
    {
     "data": {
      "text/plain": [
       "{'1': Int64Index([0, 1, 2, 3], dtype='int64'),\n",
       " '2': Int64Index([4, 5, 6, 7], dtype='int64'),\n",
       " '3': Int64Index([8, 9, 10, 11], dtype='int64'),\n",
       " '4': Int64Index([12, 13, 14, 15], dtype='int64')}"
      ]
     },
     "execution_count": 77,
     "metadata": {},
     "output_type": "execute_result"
    }
   ],
   "source": [
    "dict_"
   ]
  },
  {
   "cell_type": "code",
   "execution_count": 54,
   "id": "b30ca27d-7625-4197-b164-3b5734c0a0e0",
   "metadata": {
    "tags": []
   },
   "outputs": [
    {
     "data": {
      "text/html": [
       "<div>\n",
       "<style scoped>\n",
       "    .dataframe tbody tr th:only-of-type {\n",
       "        vertical-align: middle;\n",
       "    }\n",
       "\n",
       "    .dataframe tbody tr th {\n",
       "        vertical-align: top;\n",
       "    }\n",
       "\n",
       "    .dataframe thead th {\n",
       "        text-align: right;\n",
       "    }\n",
       "</style>\n",
       "<table border=\"1\" class=\"dataframe\">\n",
       "  <thead>\n",
       "    <tr style=\"text-align: right;\">\n",
       "      <th></th>\n",
       "      <th>central_atom_id</th>\n",
       "      <th>neighboring_atom_id</th>\n",
       "      <th>rel_distance</th>\n",
       "      <th>rel_x</th>\n",
       "      <th>rel_y</th>\n",
       "      <th>rel_z</th>\n",
       "      <th>unitcell_x</th>\n",
       "      <th>unitcell_y</th>\n",
       "      <th>unitcell_z</th>\n",
       "      <th>central_atom_symbol</th>\n",
       "      <th>neighboring_atom_symbol</th>\n",
       "    </tr>\n",
       "  </thead>\n",
       "  <tbody>\n",
       "    <tr>\n",
       "      <th>0</th>\n",
       "      <td>1</td>\n",
       "      <td>1</td>\n",
       "      <td>0.000000</td>\n",
       "      <td>0.000000</td>\n",
       "      <td>0.000000</td>\n",
       "      <td>0.000000</td>\n",
       "      <td>0</td>\n",
       "      <td>0</td>\n",
       "      <td>0</td>\n",
       "      <td>C</td>\n",
       "      <td>C</td>\n",
       "    </tr>\n",
       "    <tr>\n",
       "      <th>1</th>\n",
       "      <td>1</td>\n",
       "      <td>9</td>\n",
       "      <td>1.282630</td>\n",
       "      <td>0.000000</td>\n",
       "      <td>1.281885</td>\n",
       "      <td>-0.043713</td>\n",
       "      <td>0</td>\n",
       "      <td>0</td>\n",
       "      <td>0</td>\n",
       "      <td>C</td>\n",
       "      <td>O</td>\n",
       "    </tr>\n",
       "    <tr>\n",
       "      <th>2</th>\n",
       "      <td>1</td>\n",
       "      <td>13</td>\n",
       "      <td>1.289100</td>\n",
       "      <td>1.112990</td>\n",
       "      <td>-0.650283</td>\n",
       "      <td>0.012857</td>\n",
       "      <td>0</td>\n",
       "      <td>0</td>\n",
       "      <td>0</td>\n",
       "      <td>C</td>\n",
       "      <td>O</td>\n",
       "    </tr>\n",
       "    <tr>\n",
       "      <th>3</th>\n",
       "      <td>1</td>\n",
       "      <td>16</td>\n",
       "      <td>1.289100</td>\n",
       "      <td>-1.112990</td>\n",
       "      <td>-0.650283</td>\n",
       "      <td>0.012857</td>\n",
       "      <td>0</td>\n",
       "      <td>0</td>\n",
       "      <td>0</td>\n",
       "      <td>C</td>\n",
       "      <td>O</td>\n",
       "    </tr>\n",
       "  </tbody>\n",
       "</table>\n",
       "</div>"
      ],
      "text/plain": [
       "  central_atom_id neighboring_atom_id  rel_distance     rel_x     rel_y  \\\n",
       "0               1                   1      0.000000  0.000000  0.000000   \n",
       "1               1                   9      1.282630  0.000000  1.281885   \n",
       "2               1                  13      1.289100  1.112990 -0.650283   \n",
       "3               1                  16      1.289100 -1.112990 -0.650283   \n",
       "\n",
       "      rel_z  unitcell_x  unitcell_y  unitcell_z central_atom_symbol  \\\n",
       "0  0.000000           0           0           0                   C   \n",
       "1 -0.043713           0           0           0                   C   \n",
       "2  0.012857           0           0           0                   C   \n",
       "3  0.012857           0           0           0                   C   \n",
       "\n",
       "  neighboring_atom_symbol  \n",
       "0                       C  \n",
       "1                       O  \n",
       "2                       O  \n",
       "3                       O  "
      ]
     },
     "execution_count": 54,
     "metadata": {},
     "output_type": "execute_result"
    }
   ],
   "source": [
    "df_nnlist.iloc[ids['1']].sort_values(by='rel_distance')"
   ]
  },
  {
   "cell_type": "code",
   "execution_count": 56,
   "id": "6fd5c5b0-22a6-4649-bf21-e9a05daf72ed",
   "metadata": {
    "tags": []
   },
   "outputs": [
    {
     "data": {
      "text/plain": [
       "['C', 'O', 'O', 'O']"
      ]
     },
     "execution_count": 56,
     "metadata": {},
     "output_type": "execute_result"
    }
   ],
   "source": [
    "df_nnlist.iloc[ids['1']].sort_values(by='rel_distance')['neighboring_atom_symbol'].tolist()"
   ]
  },
  {
   "cell_type": "code",
   "execution_count": 57,
   "id": "8ce55e8a-6146-426a-af53-f69b29cd9f6c",
   "metadata": {
    "tags": []
   },
   "outputs": [
    {
     "data": {
      "text/plain": [
       "['O', 'O', 'O']"
      ]
     },
     "execution_count": 57,
     "metadata": {},
     "output_type": "execute_result"
    }
   ],
   "source": [
    "df_nnlist.iloc[ids['1']].sort_values(by='rel_distance')['neighboring_atom_symbol'].tolist()[1:4]"
   ]
  },
  {
   "cell_type": "code",
   "execution_count": 61,
   "id": "1189f172-298e-415e-9143-5f3f8149d889",
   "metadata": {
    "tags": []
   },
   "outputs": [
    {
     "data": {
      "text/plain": [
       "True"
      ]
     },
     "execution_count": 61,
     "metadata": {},
     "output_type": "execute_result"
    }
   ],
   "source": [
    "set(df_nnlist.iloc[ids['1']].sort_values(by='rel_distance')['neighboring_atom_symbol'].tolist()[1:4]) == {'O'}"
   ]
  },
  {
   "cell_type": "code",
   "execution_count": 80,
   "id": "2533e15a-4722-4898-932f-3efb360f93e5",
   "metadata": {
    "tags": []
   },
   "outputs": [
    {
     "name": "stdout",
     "output_type": "stream",
     "text": [
      "1 Int64Index([0, 1, 2, 3], dtype='int64')\n",
      "2 Int64Index([4, 5, 6, 7], dtype='int64')\n",
      "3 Int64Index([8, 9, 10, 11], dtype='int64')\n",
      "4 Int64Index([12, 13, 14, 15], dtype='int64')\n"
     ]
    }
   ],
   "source": [
    "for k, v in dict_.items():\n",
    "    print(k, v)"
   ]
  },
  {
   "cell_type": "code",
   "execution_count": 81,
   "id": "9f5c0157-ea88-4854-9dcd-7f7c906168ce",
   "metadata": {
    "tags": []
   },
   "outputs": [],
   "source": [
    "bool_list_3 = []\n",
    "for k, v in dict_.items():\n",
    "    bool_list_3.append(set(df_nnlist.iloc[dict_[k]].sort_values(by='rel_distance')['neighboring_atom_symbol'].tolist()[1:4]) == {'O'})"
   ]
  },
  {
   "cell_type": "code",
   "execution_count": 82,
   "id": "bfc9bdb4-0d09-469a-9dac-059caf074648",
   "metadata": {
    "tags": []
   },
   "outputs": [
    {
     "data": {
      "text/plain": [
       "[True, True, True, True]"
      ]
     },
     "execution_count": 82,
     "metadata": {},
     "output_type": "execute_result"
    }
   ],
   "source": [
    "bool_list_3"
   ]
  },
  {
   "cell_type": "code",
   "execution_count": 93,
   "id": "9a9c5411-7008-459a-b1b3-a45d648b5d6b",
   "metadata": {
    "tags": []
   },
   "outputs": [],
   "source": [
    "bool_list_3 = []\n",
    "for k, v in dict_.items():\n",
    "    bool_list_3.append(set(df_nnlist.iloc[dict_[k]].sort_values(by='rel_distance')['neighboring_atom_symbol'].tolist()[1:4]) == {'O'})\n",
    "df_nnlist_central_atom_ids_fillterd_3 = np.array(list(dict_.keys()))[bool_list_3]\n",
    "filtered_3_df_nnlist_group_dict = {key: dict_[key] for key in dict_.keys() if key in df_nnlist_central_atom_ids_fillterd_3}"
   ]
  },
  {
   "cell_type": "code",
   "execution_count": null,
   "id": "4a4f24a6-a9a7-4c09-8377-76a169ca69cc",
   "metadata": {},
   "outputs": [],
   "source": []
  },
  {
   "cell_type": "markdown",
   "id": "c21c029f-5ab1-448d-a8d6-b863fd2a15ae",
   "metadata": {},
   "source": [
    "#### 3．の関数化"
   ]
  },
  {
   "cell_type": "code",
   "execution_count": 8,
   "id": "395668ec-3ba2-4963-b185-77e05aa6cd1e",
   "metadata": {
    "tags": []
   },
   "outputs": [],
   "source": [
    "def filter_3(df_nnlist, dict_2):\n",
    "    bool_list_3 = []\n",
    "    for k, v in dict_2.items():\n",
    "        bool_list_3.append(set(df_nnlist.iloc[dict_2[k]].sort_values(by='rel_distance')['neighboring_atom_symbol'].tolist()[1:4]) == {'O'})\n",
    "    df_nnlist_central_atom_ids_fillterd_3 = np.array(list(dict_2.keys()))[bool_list_3]\n",
    "    filtered_3_df_nnlist_group_dict = {key: dict_2[key] for key in dict_2.keys() if key in df_nnlist_central_atom_ids_fillterd_3}\n",
    "    bool_filter_3 = len(df_nnlist_central_atom_ids_fillterd_3) >= 1\n",
    "    return bool_filter_3, filtered_3_df_nnlist_group_dict"
   ]
  },
  {
   "cell_type": "code",
   "execution_count": 9,
   "id": "fa0a4486-6b22-4423-b3e6-bdf0e4424999",
   "metadata": {
    "tags": []
   },
   "outputs": [],
   "source": [
    "bool_3, dict_3 = filter_3(df_nnlist=df_nnlist, dict_2=dict_2)"
   ]
  },
  {
   "cell_type": "code",
   "execution_count": 10,
   "id": "9289e259-58a7-47b2-bd7a-8f0439a195e7",
   "metadata": {
    "tags": []
   },
   "outputs": [
    {
     "data": {
      "text/plain": [
       "True"
      ]
     },
     "execution_count": 10,
     "metadata": {},
     "output_type": "execute_result"
    }
   ],
   "source": [
    "bool_3"
   ]
  },
  {
   "cell_type": "code",
   "execution_count": 11,
   "id": "a34b7945-6b3f-4432-88ed-fa6851b803d0",
   "metadata": {
    "tags": []
   },
   "outputs": [
    {
     "data": {
      "text/plain": [
       "{'1': Int64Index([0, 1, 2, 3], dtype='int64'),\n",
       " '2': Int64Index([4, 5, 6, 7], dtype='int64'),\n",
       " '3': Int64Index([8, 9, 10, 11], dtype='int64'),\n",
       " '4': Int64Index([12, 13, 14, 15], dtype='int64')}"
      ]
     },
     "execution_count": 11,
     "metadata": {},
     "output_type": "execute_result"
    }
   ],
   "source": [
    "dict_3"
   ]
  },
  {
   "cell_type": "code",
   "execution_count": null,
   "id": "3a8eb9d2-7f9b-407b-8469-dcd2b068e6dc",
   "metadata": {},
   "outputs": [],
   "source": []
  },
  {
   "cell_type": "markdown",
   "id": "289b8ea4-7126-49c2-bf8a-69140b009563",
   "metadata": {},
   "source": [
    "### 4．2．の中心原子Cに対して4番目に近い原子が存在しない．→ 条件1をクリア．それ以外→アウト\n"
   ]
  },
  {
   "cell_type": "code",
   "execution_count": null,
   "id": "ba2439d9-60d3-4dd5-bbb6-82d42d3c1e0c",
   "metadata": {},
   "outputs": [],
   "source": []
  },
  {
   "cell_type": "code",
   "execution_count": 29,
   "id": "5f96f5f6-275a-4590-9664-6058bd4e5b08",
   "metadata": {
    "tags": []
   },
   "outputs": [
    {
     "data": {
      "text/plain": [
       "['C', 'O', 'O', 'O']"
      ]
     },
     "execution_count": 29,
     "metadata": {},
     "output_type": "execute_result"
    }
   ],
   "source": [
    "df_nnlist.iloc[dict_3['1']].sort_values(by='rel_distance')['neighboring_atom_symbol'].tolist()"
   ]
  },
  {
   "cell_type": "code",
   "execution_count": 30,
   "id": "72e86265-1f4b-4c85-b559-d8ddff22fb8a",
   "metadata": {
    "tags": []
   },
   "outputs": [
    {
     "data": {
      "text/plain": [
       "4"
      ]
     },
     "execution_count": 30,
     "metadata": {},
     "output_type": "execute_result"
    }
   ],
   "source": [
    "len(df_nnlist.iloc[dict_3['1']].sort_values(by='rel_distance')['neighboring_atom_symbol'].tolist())"
   ]
  },
  {
   "cell_type": "code",
   "execution_count": 12,
   "id": "cd176d82-3428-469c-8c46-d7e64df70b4a",
   "metadata": {
    "tags": []
   },
   "outputs": [],
   "source": [
    "def filter_4(df_nnlist, dict_3):\n",
    "    bool_list_4 = []\n",
    "    for k, v in dict_3.items():\n",
    "        bool_list_4.append(len(df_nnlist.iloc[dict_3[k]].sort_values(by='rel_distance')['neighboring_atom_symbol'].tolist()) == 4)\n",
    "    df_nnlist_central_atom_ids_fillterd_4 = np.array(list(dict_3.keys()))[bool_list_4]\n",
    "    filtered_4_df_nnlist_group_dict = {key: dict_3[key] for key in dict_3.keys() if key in df_nnlist_central_atom_ids_fillterd_4}\n",
    "    bool_filter_4 = len(df_nnlist_central_atom_ids_fillterd_4) >= 1\n",
    "    return bool_filter_4, filtered_4_df_nnlist_group_dict"
   ]
  },
  {
   "cell_type": "code",
   "execution_count": 14,
   "id": "381d63b7-4df0-4920-8bb6-59adfe738474",
   "metadata": {
    "tags": []
   },
   "outputs": [],
   "source": [
    "bool_4, dict_4 = filter_4(df_nnlist=df_nnlist, dict_3=dict_3)"
   ]
  },
  {
   "cell_type": "code",
   "execution_count": 15,
   "id": "c3d52d39-07db-46ec-abc9-8a736fcaefa0",
   "metadata": {
    "tags": []
   },
   "outputs": [
    {
     "data": {
      "text/plain": [
       "True"
      ]
     },
     "execution_count": 15,
     "metadata": {},
     "output_type": "execute_result"
    }
   ],
   "source": [
    "bool_4"
   ]
  },
  {
   "cell_type": "code",
   "execution_count": 16,
   "id": "81c6cb1e-4327-48e9-9ef0-eece28f9a801",
   "metadata": {
    "tags": []
   },
   "outputs": [
    {
     "data": {
      "text/plain": [
       "{'1': Int64Index([0, 1, 2, 3], dtype='int64'),\n",
       " '2': Int64Index([4, 5, 6, 7], dtype='int64'),\n",
       " '3': Int64Index([8, 9, 10, 11], dtype='int64'),\n",
       " '4': Int64Index([12, 13, 14, 15], dtype='int64')}"
      ]
     },
     "execution_count": 16,
     "metadata": {},
     "output_type": "execute_result"
    }
   ],
   "source": [
    "dict_4"
   ]
  },
  {
   "cell_type": "markdown",
   "id": "2f23ad80-b930-4fa7-87b8-0138279de4b7",
   "metadata": {},
   "source": [
    "### 5．2．の中心原子Cに対して4番目に近い原子が，Cに3番目に近い原子OとCのCO距離より大きい．→ 条件1をクリア．"
   ]
  },
  {
   "cell_type": "code",
   "execution_count": 17,
   "id": "a5ab51bb-8010-49b3-b6bc-9b510d914910",
   "metadata": {
    "tags": []
   },
   "outputs": [
    {
     "data": {
      "text/plain": [
       "{'1': Int64Index([0, 1, 2, 3], dtype='int64'),\n",
       " '2': Int64Index([4, 5, 6, 7], dtype='int64'),\n",
       " '3': Int64Index([8, 9, 10, 11], dtype='int64'),\n",
       " '4': Int64Index([12, 13, 14, 15], dtype='int64')}"
      ]
     },
     "execution_count": 17,
     "metadata": {},
     "output_type": "execute_result"
    }
   ],
   "source": [
    "dict_4"
   ]
  },
  {
   "cell_type": "code",
   "execution_count": 18,
   "id": "0e8e1e15-be83-4f2b-8c78-189dfbdb3b82",
   "metadata": {
    "tags": []
   },
   "outputs": [
    {
     "data": {
      "text/html": [
       "<div>\n",
       "<style scoped>\n",
       "    .dataframe tbody tr th:only-of-type {\n",
       "        vertical-align: middle;\n",
       "    }\n",
       "\n",
       "    .dataframe tbody tr th {\n",
       "        vertical-align: top;\n",
       "    }\n",
       "\n",
       "    .dataframe thead th {\n",
       "        text-align: right;\n",
       "    }\n",
       "</style>\n",
       "<table border=\"1\" class=\"dataframe\">\n",
       "  <thead>\n",
       "    <tr style=\"text-align: right;\">\n",
       "      <th></th>\n",
       "      <th>central_atom_id</th>\n",
       "      <th>neighboring_atom_id</th>\n",
       "      <th>rel_distance</th>\n",
       "      <th>rel_x</th>\n",
       "      <th>rel_y</th>\n",
       "      <th>rel_z</th>\n",
       "      <th>unitcell_x</th>\n",
       "      <th>unitcell_y</th>\n",
       "      <th>unitcell_z</th>\n",
       "      <th>central_atom_symbol</th>\n",
       "      <th>neighboring_atom_symbol</th>\n",
       "    </tr>\n",
       "  </thead>\n",
       "  <tbody>\n",
       "    <tr>\n",
       "      <th>0</th>\n",
       "      <td>1</td>\n",
       "      <td>1</td>\n",
       "      <td>0.000000</td>\n",
       "      <td>0.000000</td>\n",
       "      <td>0.000000</td>\n",
       "      <td>0.000000</td>\n",
       "      <td>0</td>\n",
       "      <td>0</td>\n",
       "      <td>0</td>\n",
       "      <td>C</td>\n",
       "      <td>C</td>\n",
       "    </tr>\n",
       "    <tr>\n",
       "      <th>1</th>\n",
       "      <td>1</td>\n",
       "      <td>9</td>\n",
       "      <td>1.282630</td>\n",
       "      <td>0.000000</td>\n",
       "      <td>1.281885</td>\n",
       "      <td>-0.043713</td>\n",
       "      <td>0</td>\n",
       "      <td>0</td>\n",
       "      <td>0</td>\n",
       "      <td>C</td>\n",
       "      <td>O</td>\n",
       "    </tr>\n",
       "    <tr>\n",
       "      <th>2</th>\n",
       "      <td>1</td>\n",
       "      <td>13</td>\n",
       "      <td>1.289100</td>\n",
       "      <td>1.112990</td>\n",
       "      <td>-0.650283</td>\n",
       "      <td>0.012857</td>\n",
       "      <td>0</td>\n",
       "      <td>0</td>\n",
       "      <td>0</td>\n",
       "      <td>C</td>\n",
       "      <td>O</td>\n",
       "    </tr>\n",
       "    <tr>\n",
       "      <th>3</th>\n",
       "      <td>1</td>\n",
       "      <td>16</td>\n",
       "      <td>1.289100</td>\n",
       "      <td>-1.112990</td>\n",
       "      <td>-0.650283</td>\n",
       "      <td>0.012857</td>\n",
       "      <td>0</td>\n",
       "      <td>0</td>\n",
       "      <td>0</td>\n",
       "      <td>C</td>\n",
       "      <td>O</td>\n",
       "    </tr>\n",
       "  </tbody>\n",
       "</table>\n",
       "</div>"
      ],
      "text/plain": [
       "  central_atom_id neighboring_atom_id  rel_distance     rel_x     rel_y  \\\n",
       "0               1                   1      0.000000  0.000000  0.000000   \n",
       "1               1                   9      1.282630  0.000000  1.281885   \n",
       "2               1                  13      1.289100  1.112990 -0.650283   \n",
       "3               1                  16      1.289100 -1.112990 -0.650283   \n",
       "\n",
       "      rel_z  unitcell_x  unitcell_y  unitcell_z central_atom_symbol  \\\n",
       "0  0.000000           0           0           0                   C   \n",
       "1 -0.043713           0           0           0                   C   \n",
       "2  0.012857           0           0           0                   C   \n",
       "3  0.012857           0           0           0                   C   \n",
       "\n",
       "  neighboring_atom_symbol  \n",
       "0                       C  \n",
       "1                       O  \n",
       "2                       O  \n",
       "3                       O  "
      ]
     },
     "execution_count": 18,
     "metadata": {},
     "output_type": "execute_result"
    }
   ],
   "source": [
    "df_nnlist.iloc[dict_4['1']].sort_values(by='rel_distance')"
   ]
  },
  {
   "cell_type": "code",
   "execution_count": 19,
   "id": "dac209cc-6280-41fd-804b-2eba180d3ff8",
   "metadata": {
    "tags": []
   },
   "outputs": [
    {
     "data": {
      "text/plain": [
       "0   0.000000\n",
       "1   1.282630\n",
       "2   1.289100\n",
       "3   1.289100\n",
       "Name: rel_distance, dtype: float64"
      ]
     },
     "execution_count": 19,
     "metadata": {},
     "output_type": "execute_result"
    }
   ],
   "source": [
    "df_nnlist.iloc[dict_4['1']].sort_values(by='rel_distance')['rel_distance']"
   ]
  },
  {
   "cell_type": "code",
   "execution_count": 24,
   "id": "b3f80011-656a-4d18-9aca-91a1d5445678",
   "metadata": {
    "tags": []
   },
   "outputs": [
    {
     "data": {
      "text/plain": [
       "1.2891"
      ]
     },
     "execution_count": 24,
     "metadata": {},
     "output_type": "execute_result"
    }
   ],
   "source": [
    "third_CO_bond_dist = df_nnlist.iloc[dict_4['1']].sort_values(by='rel_distance')['rel_distance'].tolist()[3]\n",
    "third_CO_bond_dist"
   ]
  },
  {
   "cell_type": "code",
   "execution_count": 22,
   "id": "f16dbd08-b223-4c22-8518-b9e366180578",
   "metadata": {
    "tags": []
   },
   "outputs": [],
   "source": [
    "forth_dist = df_nnlist.iloc[dict_4['1']].sort_values(by='rel_distance')['rel_distance'].tolist()[4]"
   ]
  },
  {
   "cell_type": "code",
   "execution_count": null,
   "id": "837e108e-7353-46a8-9ef3-0d9e86a41fd5",
   "metadata": {},
   "outputs": [],
   "source": [
    "third_CO_bond_dist < forth_dist"
   ]
  },
  {
   "cell_type": "code",
   "execution_count": null,
   "id": "f76ffd19-da01-46e9-b92b-05653552f3b4",
   "metadata": {},
   "outputs": [],
   "source": [
    "bool_list_5 = []\n",
    "for k, v in dict_4.items():\n",
    "    third_CO_bond_dist = df_nnlist.iloc[dict_4[k]].sort_values(by='rel_distance')['rel_distance'].tolist()[3]\n",
    "    forth_dist = df_nnlist.iloc[dict_4['1']].sort_values(by='rel_distance')['rel_distance'].tolist()[4]\n",
    "    bool_list_5.append(third_CO_bond_dist < forth_dist)\n",
    "df_nnlist_central_atom_ids_fillterd_5 = np.array(list(dict_4.keys()))[bool_list_5]"
   ]
  },
  {
   "cell_type": "code",
   "execution_count": 25,
   "id": "4ea0f74f-947c-49b0-86eb-40792ce6a306",
   "metadata": {
    "tags": []
   },
   "outputs": [],
   "source": [
    "def filter_5(df_nnlist, dict_4):\n",
    "    bool_list_5 = []\n",
    "    for k, v in dict_4.items():\n",
    "        third_CO_bond_dist = df_nnlist.iloc[dict_4[k]].sort_values(by='rel_distance')['rel_distance'].tolist()[3]\n",
    "        forth_dist = df_nnlist.iloc[dict_4['1']].sort_values(by='rel_distance')['rel_distance'].tolist()[4]\n",
    "        bool_list_5.append(third_CO_bond_dist < forth_dist)\n",
    "    df_nnlist_central_atom_ids_fillterd_5 = np.array(list(dict_4.keys()))[bool_list_5]\n",
    "    filtered_5_df_nnlist_group_dict = {key: dict_4[key] for key in dict_4.keys() if key in df_nnlist_central_atom_ids_fillterd_5}\n",
    "    bool_filter_5 = len(df_nnlist_central_atom_ids_fillterd_5) >= 1\n",
    "\n",
    "    return bool_filter_5, filtered_5_df_nnlist_group_dict"
   ]
  },
  {
   "cell_type": "code",
   "execution_count": null,
   "id": "e198ee90-f6e1-4a74-8277-d3195495deaf",
   "metadata": {},
   "outputs": [],
   "source": []
  }
 ],
 "metadata": {
  "kernelspec": {
   "display_name": "Python 3 (ipykernel)",
   "language": "python",
   "name": "python3"
  },
  "language_info": {
   "codemirror_mode": {
    "name": "ipython",
    "version": 3
   },
   "file_extension": ".py",
   "mimetype": "text/x-python",
   "name": "python",
   "nbconvert_exporter": "python",
   "pygments_lexer": "ipython3",
   "version": "3.10.12"
  }
 },
 "nbformat": 4,
 "nbformat_minor": 5
}

{
 "cells": [
  {
   "cell_type": "code",
   "execution_count": 1,
   "id": "c8152ead-1c64-4b8f-82a2-feb4daa80c53",
   "metadata": {
    "tags": []
   },
   "outputs": [],
   "source": [
    "import pandas as pd\n",
    "import numpy as np\n",
    "from package_file_conversion.nnlist2df import nnlist2df"
   ]
  },
  {
   "cell_type": "code",
   "execution_count": 2,
   "id": "0329eae4-3f7e-4ac2-984a-4d9c0346a03f",
   "metadata": {
    "tags": []
   },
   "outputs": [],
   "source": [
    "nnlist_path = '/mnt/ssd_elecom_c2c_960gb/cif/1/53/60/1536060/nnlist_5/POSCAR.nnlist'\n",
    "df_nnlist = nnlist2df(nnlist_path=nnlist_path)"
   ]
  },
  {
   "cell_type": "code",
   "execution_count": 3,
   "id": "aac1810e-82e9-4be1-a0d9-4367c640658d",
   "metadata": {
    "tags": []
   },
   "outputs": [],
   "source": [
    "def filter_2(df_nnlist):\n",
    "    \"\"\"\n",
    "    2．POSCAR.nnlistにおいて，原子Cから0-2．のCO結合距離以内に，原子Oを3つ以上含む，中心原子Cが存在するかどうか判定．\n",
    "    → 存在する場合、True値，{中心原子Cの'central_atom_id': そのneighborsの'central_atom_id'}の辞書の2つを返す．\n",
    "    → 存在しない場合，False値，空の辞書を返す．\n",
    "    \n",
    "    Usage: \n",
    "    ------\n",
    "    bool_2, dict_2 = filter_2(df_nnlist=df_nnlist)\n",
    "    \n",
    "    Parameters:\n",
    "    -----------\n",
    "    df_nnlist: pd.DataFrame\n",
    "    \n",
    "    Returns:\n",
    "    --------\n",
    "    bool_2: bool\n",
    "    dict_2: dict\n",
    "    \"\"\"\n",
    "    df_nnlist_squeezed_center_atom = df_nnlist[df_nnlist['central_atom_symbol'] == 'C']\n",
    "    df_nnlist_group_dict = df_nnlist[df_nnlist['central_atom_symbol'] == 'C'].groupby('central_atom_id').groups\n",
    "    df_nnlist_central_atom_ids = np.array(list(df_nnlist_group_dict.keys()))\n",
    "    bool_list = []\n",
    "    for key in df_nnlist_central_atom_ids:\n",
    "        bool_list.append(df_nnlist.iloc[df_nnlist_group_dict[key]]['neighboring_atom_symbol'].tolist().count('O') >= 3)\n",
    "    df_nnlist_central_atom_ids_fillterd = df_nnlist_central_atom_ids[bool_list]\n",
    "    bool_filter_2 = len(df_nnlist_central_atom_ids_fillterd) >= 1\n",
    "    filtered_df_nnlist_group_dict = {key: df_nnlist_group_dict[key] for key in df_nnlist_group_dict.keys() if key in df_nnlist_central_atom_ids_fillterd}\n",
    "    \n",
    "    return bool_filter_2, filtered_df_nnlist_group_dict\n",
    "\n",
    "\n",
    "def filter_3(df_nnlist, dict_2):\n",
    "    \"\"\"\n",
    "    3．2．の中心原子Cに対して，1番近い原子がOであり，かつ2番目に近い原子もOであり，かつ3番目に近い原子もOである，中心原子Cが存在するかどうか判定．\n",
    "    → 存在する場合，True値，{中心原子Cの'central_atom_id': そのneighborsの'central_atom_id'}の辞書の2つを返す．\n",
    "    → 存在しない場合，False値，空の辞書を返す．\n",
    "    \n",
    "    Usage:\n",
    "    ------\n",
    "    bool_3, dict_3 = filter_3(df_nnlist=df_nnlist, dict_2=dict_2)\n",
    "    \n",
    "    Parameters:\n",
    "    -----------\n",
    "    df_nnlist: pd.DataFrame\n",
    "    dict_2: dict\n",
    "    \n",
    "    Returns:\n",
    "    --------\n",
    "    bool_3: bool\n",
    "    dict_3: dict\n",
    "    \"\"\"\n",
    "    bool_list_3 = []\n",
    "    for k, v in dict_2.items():\n",
    "        bool_list_3.append(set(df_nnlist.iloc[dict_2[k]].sort_values(by='rel_distance')['neighboring_atom_symbol'].tolist()[1:4]) == {'O'})\n",
    "    df_nnlist_central_atom_ids_fillterd_3 = np.array(list(dict_2.keys()))[bool_list_3]\n",
    "    filtered_3_df_nnlist_group_dict = {key: dict_2[key] for key in dict_2.keys() if key in df_nnlist_central_atom_ids_fillterd_3}\n",
    "    bool_filter_3 = len(df_nnlist_central_atom_ids_fillterd_3) >= 1\n",
    "\n",
    "    return bool_filter_3, filtered_3_df_nnlist_group_dict\n",
    "\n",
    "\n",
    "def filter_4(df_nnlist, dict_3):\n",
    "    \"\"\"\n",
    "    4．2．の中心原子Cに対して4番目に近い原子が存在しないかを判定．\n",
    "    → 存在しない場合，True値，{中心原子Cの'central_atom_id': そのneighborsの'central_atom_id'}の辞書の2つを返す．\n",
    "    → 存在する場合，False値，空の辞書の2つを返す．\n",
    "    \n",
    "    Usage:\n",
    "    ------\n",
    "    bool_4, dict_4 = filter_4(df_nnlist=df_nnlist, dict_3=dict_3)\n",
    "    \n",
    "    Parameters:\n",
    "    -----------\n",
    "    df_nnlist: pd.DataFrame\n",
    "    dict_3: dict\n",
    "    \n",
    "    Returns:\n",
    "    --------\n",
    "    bool_4: bool\n",
    "    dict_4: dict\n",
    "    \"\"\"\n",
    "    bool_list_4 = []\n",
    "    for k, v in dict_3.items():\n",
    "        bool_list_4.append(len(df_nnlist.iloc[dict_3[k]].sort_values(by='rel_distance')['neighboring_atom_symbol'].tolist()) == 4)\n",
    "    df_nnlist_central_atom_ids_fillterd_4 = np.array(list(dict_3.keys()))[bool_list_4]\n",
    "    filtered_4_df_nnlist_group_dict = {key: dict_3[key] for key in dict_3.keys() if key in df_nnlist_central_atom_ids_fillterd_4}\n",
    "    bool_filter_4 = len(df_nnlist_central_atom_ids_fillterd_4) >= 1\n",
    "\n",
    "    return bool_filter_4, filtered_4_df_nnlist_group_dict\n",
    "\n",
    "\n",
    "def filter_5(df_nnlist, dict_3):\n",
    "    \"\"\"\n",
    "    5．2．の中心原子Cに対して4番目に近い原子が，Cに3番目に近い原子OとCのCO距離より大きいCが存在するどうかを判定．\n",
    "    → 存在する場合，True値，{中心原子Cの'central_atom_id': そのneighborsの'central_atom_id'}の辞書の2つを返す．\n",
    "    → 存在しない場合，False値，空の辞書を返す．\n",
    "    \n",
    "    Usage:\n",
    "    ------\n",
    "    bool_5, dict_5 = filter_5(df_nnlist=df_nnlist, dict_3=dict_3)\n",
    "    \n",
    "    Parameters:\n",
    "    -----------\n",
    "    df_nnlist: pd.DataFrame\n",
    "    dict_3: dict\n",
    "    \n",
    "    Returns:\n",
    "    --------\n",
    "    bool_5: bool\n",
    "    dict_5: dict\n",
    "    \"\"\"\n",
    "    bool_list_5 = []\n",
    "    for k, v in dict_3.items():\n",
    "        third_CO_bond_dist = df_nnlist.iloc[dict_3[k]].sort_values(by='rel_distance')['rel_distance'].tolist()[3]\n",
    "        forth_dist = df_nnlist.iloc[dict_3[k]].sort_values(by='rel_distance')['rel_distance'].tolist()[4]\n",
    "        bool_list_5.append(third_CO_bond_dist < forth_dist)\n",
    "    df_nnlist_central_atom_ids_fillterd_5 = np.array(list(dict_3.keys()))[bool_list_5]\n",
    "    filtered_5_df_nnlist_group_dict = {key: dict_3[key] for key in dict_3.keys() if key in df_nnlist_central_atom_ids_fillterd_5}\n",
    "    bool_filter_5 = len(df_nnlist_central_atom_ids_fillterd_5) >= 1\n",
    "\n",
    "    return bool_filter_5, filtered_5_df_nnlist_group_dict\n",
    "\n",
    "\n",
    "def filter_6(df_nnlist, dict_3):\n",
    "    \"\"\"\n",
    "    6．3．の3つの原子O全てに対して，3．の中心の原子Cとの距離以内に，中心原子C以外の別の原子が存在しないかどうかを判定．\n",
    "    → 存在しない場合，True値，中心原子Cの'central_atom_id'のndarrayの2つを返す．\n",
    "    → 存在する場合，False値，空のndarrayを返す．\n",
    "    \n",
    "    Usage:\n",
    "    ------\n",
    "    bool_6, C_ids = filter_6(df_nnlist=df_nnlist, dict_3=dict_3)\n",
    "    \n",
    "    Parameters:\n",
    "    -----------\n",
    "    df_nnlist: pd.DataFrame\n",
    "    dict_3: dict\n",
    "    \n",
    "    Returns:\n",
    "    --------\n",
    "    bool_6: bool\n",
    "    C_ids: ndarray\n",
    "    \"\"\"\n",
    "    bool_list_6 = []\n",
    "    for k, v in dict_3.items():\n",
    "        # C周りのO３つのindex\n",
    "        indices = df_nnlist.iloc[dict_3[k]].sort_values(by='rel_distance').index[1:4]\n",
    "        O_ids = df_nnlist.iloc[indices].apply(lambda row: row['neighboring_atom_id'], axis = 1).tolist()\n",
    "        bool_list_temp = []\n",
    "        for O_id in O_ids:\n",
    "            bool_temp = df_nnlist[df_nnlist['central_atom_id'] == O_id].sort_values('rel_distance')['neighboring_atom_symbol'].tolist()[1] == 'C'\n",
    "            bool_list_temp.append(bool_temp)\n",
    "        if set(bool_list_temp) == {True}:\n",
    "            bool_list_6.append(True)\n",
    "        else:\n",
    "            bool_list_6.append(False)\n",
    "    C_ids = np.array(list(dict_3.keys()))[bool_list_6]\n",
    "    bool_filter_6 = bool_list_6.count(True) >= 1\n",
    "        \n",
    "    return bool_filter_6, C_ids\n",
    "\n",
    "\n",
    "def concat_filter(df_nnlist):\n",
    "    \"\"\"\n",
    "    filter_2()~filter_6()の関数を用いて，POSCAR.nnlistを用いて，POSCARファイルに炭酸イオンを含むかどうかの判定algolismを作成．\n",
    "    → True値が返された場合，炭酸イオンを含む．\n",
    "    → False値が返され場合，炭酸イオンを含まない．\n",
    "    \n",
    "    Usage:\n",
    "    ------\n",
    "    concat_filter(df_nnlist=df_nnlist)\n",
    "    \n",
    "    Parameters:\n",
    "    -----------\n",
    "    df_nnlist: pd.DataFrame\n",
    "    \n",
    "    Returns:\n",
    "    --------\n",
    "    bool: True or False\n",
    "    \"\"\"\n",
    "    bool_2, dict_2 = filter_2(df_nnlist=df_nnlist)\n",
    "    if bool_2:\n",
    "        bool_3, dict_3 = filter_3(df_nnlist=df_nnlist, dict_2=dict_2)\n",
    "        if bool_3:\n",
    "            bool_4, dict_4 = filter_4(df_nnlist=df_nnlist, dict_3=dict_3)\n",
    "            if bool_4:\n",
    "                return True\n",
    "            else:\n",
    "                bool_5, dict_5 = filter_5(df_nnlist=df_nnlist, dict_3=dict_3)\n",
    "                if bool_5:\n",
    "                    bool_6, C_ids = filter_6(df_nnlist=df_nnlist, dict_3=dict_3)\n",
    "                    if bool_6:\n",
    "                        return True\n",
    "                    else:\n",
    "                        return False\n",
    "                else:\n",
    "                    return False\n",
    "        else:\n",
    "            return False\n",
    "    else:\n",
    "        return False"
   ]
  },
  {
   "cell_type": "code",
   "execution_count": 4,
   "id": "d75796ea-835d-4b22-88cb-732b1d50f337",
   "metadata": {
    "tags": []
   },
   "outputs": [
    {
     "data": {
      "text/plain": [
       "True"
      ]
     },
     "execution_count": 4,
     "metadata": {},
     "output_type": "execute_result"
    }
   ],
   "source": [
    "concat_filter(df_nnlist=df_nnlist)"
   ]
  },
  {
   "cell_type": "code",
   "execution_count": null,
   "id": "d265b8ae-b372-466a-a706-ba97851a7226",
   "metadata": {},
   "outputs": [],
   "source": []
  },
  {
   "cell_type": "markdown",
   "id": "61a43603-1bee-426f-9af9-bc221ad9e715",
   "metadata": {},
   "source": [
    "### エラーの解消（試行錯誤）"
   ]
  },
  {
   "cell_type": "code",
   "execution_count": 6,
   "id": "7f3e95d9-7bef-4936-8523-8950768af973",
   "metadata": {
    "tags": []
   },
   "outputs": [
    {
     "ename": "IndexError",
     "evalue": "boolean index did not match indexed array along dimension 0; dimension is 12 but corresponding boolean dimension is 4",
     "output_type": "error",
     "traceback": [
      "\u001b[0;31m---------------------------------------------------------------------------\u001b[0m",
      "\u001b[0;31mIndexError\u001b[0m                                Traceback (most recent call last)",
      "Cell \u001b[0;32mIn[6], line 1\u001b[0m\n\u001b[0;32m----> 1\u001b[0m \u001b[43mconcat_filter\u001b[49m\u001b[43m(\u001b[49m\u001b[43mdf_nnlist\u001b[49m\u001b[38;5;241;43m=\u001b[39;49m\u001b[43mdf_nnlist\u001b[49m\u001b[43m)\u001b[49m\n",
      "Cell \u001b[0;32mIn[5], line 190\u001b[0m, in \u001b[0;36mconcat_filter\u001b[0;34m(df_nnlist)\u001b[0m\n\u001b[1;32m    188\u001b[0m bool_5, dict_5 \u001b[38;5;241m=\u001b[39m filter_5(df_nnlist\u001b[38;5;241m=\u001b[39mdf_nnlist, dict_3\u001b[38;5;241m=\u001b[39mdict_3)\n\u001b[1;32m    189\u001b[0m \u001b[38;5;28;01mif\u001b[39;00m bool_5:\n\u001b[0;32m--> 190\u001b[0m     bool_6, C_ids \u001b[38;5;241m=\u001b[39m \u001b[43mfilter_6\u001b[49m\u001b[43m(\u001b[49m\u001b[43mdf_nnlist\u001b[49m\u001b[38;5;241;43m=\u001b[39;49m\u001b[43mdf_nnlist\u001b[49m\u001b[43m,\u001b[49m\u001b[43m \u001b[49m\u001b[43mdict_3\u001b[49m\u001b[38;5;241;43m=\u001b[39;49m\u001b[43mdict_3\u001b[49m\u001b[43m)\u001b[49m\n\u001b[1;32m    191\u001b[0m     \u001b[38;5;28;01mif\u001b[39;00m bool_6:\n\u001b[1;32m    192\u001b[0m         \u001b[38;5;28;01mreturn\u001b[39;00m \u001b[38;5;28;01mTrue\u001b[39;00m\n",
      "Cell \u001b[0;32mIn[5], line 156\u001b[0m, in \u001b[0;36mfilter_6\u001b[0;34m(df_nnlist, dict_3)\u001b[0m\n\u001b[1;32m    154\u001b[0m     \u001b[38;5;28;01mif\u001b[39;00m \u001b[38;5;28mset\u001b[39m(bool_list_temp) \u001b[38;5;241m==\u001b[39m {\u001b[38;5;28;01mTrue\u001b[39;00m}:\n\u001b[1;32m    155\u001b[0m         bool_list_6\u001b[38;5;241m.\u001b[39mappend(\u001b[38;5;28;01mTrue\u001b[39;00m)\n\u001b[0;32m--> 156\u001b[0m C_ids \u001b[38;5;241m=\u001b[39m \u001b[43mnp\u001b[49m\u001b[38;5;241;43m.\u001b[39;49m\u001b[43marray\u001b[49m\u001b[43m(\u001b[49m\u001b[38;5;28;43mlist\u001b[39;49m\u001b[43m(\u001b[49m\u001b[43mdict_3\u001b[49m\u001b[38;5;241;43m.\u001b[39;49m\u001b[43mkeys\u001b[49m\u001b[43m(\u001b[49m\u001b[43m)\u001b[49m\u001b[43m)\u001b[49m\u001b[43m)\u001b[49m\u001b[43m[\u001b[49m\u001b[43mbool_list_6\u001b[49m\u001b[43m]\u001b[49m\n\u001b[1;32m    157\u001b[0m bool_filter_6 \u001b[38;5;241m=\u001b[39m \u001b[38;5;28mlen\u001b[39m(bool_list_6) \u001b[38;5;241m>\u001b[39m\u001b[38;5;241m=\u001b[39m \u001b[38;5;241m1\u001b[39m\n\u001b[1;32m    159\u001b[0m \u001b[38;5;28;01mreturn\u001b[39;00m bool_filter_6, C_ids\n",
      "\u001b[0;31mIndexError\u001b[0m: boolean index did not match indexed array along dimension 0; dimension is 12 but corresponding boolean dimension is 4"
     ]
    }
   ],
   "source": [
    "concat_filter(df_nnlist=df_nnlist)"
   ]
  },
  {
   "cell_type": "code",
   "execution_count": 10,
   "id": "8a1e2c04-7aea-4dce-a91e-edf2ae07348e",
   "metadata": {
    "tags": []
   },
   "outputs": [],
   "source": [
    "bool_2, dict_2 = filter_2(df_nnlist=df_nnlist)\n",
    "bool_3, dict_3 = filter_3(df_nnlist=df_nnlist, dict_2=dict_2)"
   ]
  },
  {
   "cell_type": "code",
   "execution_count": 16,
   "id": "dba68e3b-02d2-4178-8e59-e5e22153a7ef",
   "metadata": {
    "tags": []
   },
   "outputs": [
    {
     "ename": "IndexError",
     "evalue": "boolean index did not match indexed array along dimension 0; dimension is 12 but corresponding boolean dimension is 4",
     "output_type": "error",
     "traceback": [
      "\u001b[0;31m---------------------------------------------------------------------------\u001b[0m",
      "\u001b[0;31mIndexError\u001b[0m                                Traceback (most recent call last)",
      "Cell \u001b[0;32mIn[16], line 1\u001b[0m\n\u001b[0;32m----> 1\u001b[0m bool_6, C_ids \u001b[38;5;241m=\u001b[39m \u001b[43mfilter_6\u001b[49m\u001b[43m(\u001b[49m\u001b[43mdf_nnlist\u001b[49m\u001b[38;5;241;43m=\u001b[39;49m\u001b[43mdf_nnlist\u001b[49m\u001b[43m,\u001b[49m\u001b[43m \u001b[49m\u001b[43mdict_3\u001b[49m\u001b[38;5;241;43m=\u001b[39;49m\u001b[43mdict_3\u001b[49m\u001b[43m)\u001b[49m\n",
      "Cell \u001b[0;32mIn[5], line 156\u001b[0m, in \u001b[0;36mfilter_6\u001b[0;34m(df_nnlist, dict_3)\u001b[0m\n\u001b[1;32m    154\u001b[0m     \u001b[38;5;28;01mif\u001b[39;00m \u001b[38;5;28mset\u001b[39m(bool_list_temp) \u001b[38;5;241m==\u001b[39m {\u001b[38;5;28;01mTrue\u001b[39;00m}:\n\u001b[1;32m    155\u001b[0m         bool_list_6\u001b[38;5;241m.\u001b[39mappend(\u001b[38;5;28;01mTrue\u001b[39;00m)\n\u001b[0;32m--> 156\u001b[0m C_ids \u001b[38;5;241m=\u001b[39m \u001b[43mnp\u001b[49m\u001b[38;5;241;43m.\u001b[39;49m\u001b[43marray\u001b[49m\u001b[43m(\u001b[49m\u001b[38;5;28;43mlist\u001b[39;49m\u001b[43m(\u001b[49m\u001b[43mdict_3\u001b[49m\u001b[38;5;241;43m.\u001b[39;49m\u001b[43mkeys\u001b[49m\u001b[43m(\u001b[49m\u001b[43m)\u001b[49m\u001b[43m)\u001b[49m\u001b[43m)\u001b[49m\u001b[43m[\u001b[49m\u001b[43mbool_list_6\u001b[49m\u001b[43m]\u001b[49m\n\u001b[1;32m    157\u001b[0m bool_filter_6 \u001b[38;5;241m=\u001b[39m \u001b[38;5;28mlen\u001b[39m(bool_list_6) \u001b[38;5;241m>\u001b[39m\u001b[38;5;241m=\u001b[39m \u001b[38;5;241m1\u001b[39m\n\u001b[1;32m    159\u001b[0m \u001b[38;5;28;01mreturn\u001b[39;00m bool_filter_6, C_ids\n",
      "\u001b[0;31mIndexError\u001b[0m: boolean index did not match indexed array along dimension 0; dimension is 12 but corresponding boolean dimension is 4"
     ]
    }
   ],
   "source": [
    "bool_6, C_ids = filter_6(df_nnlist=df_nnlist, dict_3=dict_3)"
   ]
  },
  {
   "cell_type": "code",
   "execution_count": 17,
   "id": "815b4353-27e3-40f3-8823-eda630095e96",
   "metadata": {
    "tags": []
   },
   "outputs": [
    {
     "data": {
      "text/plain": [
       "{'17': Int64Index([632, 633, 634, 635, 636, 637, 638, 639, 640, 641, 642, 643, 644,\n",
       "             645, 646, 647, 648, 649, 650, 651, 652, 653, 654, 655, 656, 657,\n",
       "             658, 659, 660, 661, 662, 663, 664, 665, 666, 667, 668, 669],\n",
       "            dtype='int64'),\n",
       " '18': Int64Index([670, 671, 672, 673, 674, 675, 676, 677, 678, 679, 680, 681, 682,\n",
       "             683, 684, 685, 686, 687, 688, 689, 690, 691, 692, 693, 694, 695,\n",
       "             696, 697, 698, 699, 700, 701, 702, 703, 704, 705, 706, 707],\n",
       "            dtype='int64'),\n",
       " '19': Int64Index([708, 709, 710, 711, 712, 713, 714, 715, 716, 717, 718, 719, 720,\n",
       "             721, 722, 723, 724, 725, 726, 727, 728, 729, 730, 731, 732, 733,\n",
       "             734, 735, 736, 737, 738, 739, 740, 741, 742, 743, 744, 745],\n",
       "            dtype='int64'),\n",
       " '20': Int64Index([746, 747, 748, 749, 750, 751, 752, 753, 754, 755, 756, 757, 758,\n",
       "             759, 760, 761, 762, 763, 764, 765, 766, 767, 768, 769, 770, 771,\n",
       "             772, 773, 774, 775, 776, 777, 778, 779, 780, 781, 782, 783],\n",
       "            dtype='int64'),\n",
       " '21': Int64Index([784, 785, 786, 787, 788, 789, 790, 791, 792, 793, 794, 795, 796,\n",
       "             797, 798, 799, 800, 801, 802, 803, 804, 805, 806, 807, 808, 809,\n",
       "             810, 811, 812, 813, 814, 815, 816, 817, 818, 819, 820, 821],\n",
       "            dtype='int64'),\n",
       " '22': Int64Index([822, 823, 824, 825, 826, 827, 828, 829, 830, 831, 832, 833, 834,\n",
       "             835, 836, 837, 838, 839, 840, 841, 842, 843, 844, 845, 846, 847,\n",
       "             848, 849, 850, 851, 852, 853, 854, 855, 856, 857, 858, 859],\n",
       "            dtype='int64'),\n",
       " '23': Int64Index([860, 861, 862, 863, 864, 865, 866, 867, 868, 869, 870, 871, 872,\n",
       "             873, 874, 875, 876, 877, 878, 879, 880, 881, 882, 883, 884, 885,\n",
       "             886, 887, 888, 889, 890, 891, 892, 893, 894, 895, 896, 897],\n",
       "            dtype='int64'),\n",
       " '24': Int64Index([898, 899, 900, 901, 902, 903, 904, 905, 906, 907, 908, 909, 910,\n",
       "             911, 912, 913, 914, 915, 916, 917, 918, 919, 920, 921, 922, 923,\n",
       "             924, 925, 926, 927, 928, 929, 930, 931, 932, 933, 934, 935],\n",
       "            dtype='int64'),\n",
       " '25': Int64Index([936, 937, 938, 939, 940, 941, 942, 943, 944, 945, 946, 947, 948,\n",
       "             949, 950, 951, 952, 953, 954, 955, 956, 957, 958, 959, 960, 961,\n",
       "             962, 963, 964, 965, 966, 967, 968, 969, 970, 971, 972],\n",
       "            dtype='int64'),\n",
       " '26': Int64Index([ 973,  974,  975,  976,  977,  978,  979,  980,  981,  982,  983,\n",
       "              984,  985,  986,  987,  988,  989,  990,  991,  992,  993,  994,\n",
       "              995,  996,  997,  998,  999, 1000, 1001, 1002, 1003, 1004, 1005,\n",
       "             1006, 1007, 1008, 1009],\n",
       "            dtype='int64'),\n",
       " '27': Int64Index([1010, 1011, 1012, 1013, 1014, 1015, 1016, 1017, 1018, 1019, 1020,\n",
       "             1021, 1022, 1023, 1024, 1025, 1026, 1027, 1028, 1029, 1030, 1031,\n",
       "             1032, 1033, 1034, 1035, 1036, 1037, 1038, 1039, 1040, 1041, 1042,\n",
       "             1043, 1044, 1045, 1046],\n",
       "            dtype='int64'),\n",
       " '28': Int64Index([1047, 1048, 1049, 1050, 1051, 1052, 1053, 1054, 1055, 1056, 1057,\n",
       "             1058, 1059, 1060, 1061, 1062, 1063, 1064, 1065, 1066, 1067, 1068,\n",
       "             1069, 1070, 1071, 1072, 1073, 1074, 1075, 1076, 1077, 1078, 1079,\n",
       "             1080, 1081, 1082, 1083],\n",
       "            dtype='int64')}"
      ]
     },
     "execution_count": 17,
     "metadata": {},
     "output_type": "execute_result"
    }
   ],
   "source": [
    "dict_3"
   ]
  },
  {
   "cell_type": "code",
   "execution_count": 22,
   "id": "5ed73483-62f6-4587-b6bc-69967e1d691a",
   "metadata": {
    "tags": []
   },
   "outputs": [
    {
     "data": {
      "text/plain": [
       "12"
      ]
     },
     "execution_count": 22,
     "metadata": {},
     "output_type": "execute_result"
    }
   ],
   "source": [
    "len(dict_3)"
   ]
  },
  {
   "cell_type": "code",
   "execution_count": 59,
   "id": "dff433c0-a9cb-4670-adae-ece9012e04b8",
   "metadata": {
    "tags": []
   },
   "outputs": [
    {
     "name": "stdout",
     "output_type": "stream",
     "text": [
      "17: [True, True, False]\n",
      "18: [True, True, False]\n",
      "19: [True, True, False]\n",
      "20: [True, True, False]\n",
      "21: [True, True, False]\n",
      "22: [True, True, False]\n",
      "23: [True, True, False]\n",
      "24: [True, True, False]\n",
      "25: [True, True, True]\n",
      "26: [True, True, True]\n",
      "27: [True, True, True]\n",
      "28: [True, True, True]\n"
     ]
    }
   ],
   "source": [
    "bool_list_6 = []\n",
    "for k, v in dict_3.items():\n",
    "    # C周りのO３つのindex\n",
    "    indices = df_nnlist.iloc[dict_3[k]].sort_values(by='rel_distance').index[1:4]\n",
    "    O_ids = df_nnlist.iloc[indices].apply(lambda row: row['neighboring_atom_id'], axis = 1).tolist()\n",
    "    bool_list_temp = []\n",
    "    for O_id in O_ids:\n",
    "        bool_temp = df_nnlist[df_nnlist['central_atom_id'] == O_id].sort_values('rel_distance')['neighboring_atom_symbol'].tolist()[1] == 'C'\n",
    "        bool_list_temp.append(bool_temp)\n",
    "    print(f\"{k}: {bool_list_temp}\")\n",
    "    if set(bool_list_temp) == {True}:\n",
    "        bool_list_6.append(True)\n",
    "    else:\n",
    "        bool_list_6.append(False)"
   ]
  },
  {
   "cell_type": "code",
   "execution_count": 56,
   "id": "35f699bf-e135-4305-9800-d02d6b0d410d",
   "metadata": {
    "tags": []
   },
   "outputs": [
    {
     "data": {
      "text/plain": [
       "[False,\n",
       " False,\n",
       " False,\n",
       " False,\n",
       " False,\n",
       " False,\n",
       " False,\n",
       " False,\n",
       " True,\n",
       " True,\n",
       " True,\n",
       " True]"
      ]
     },
     "execution_count": 56,
     "metadata": {},
     "output_type": "execute_result"
    }
   ],
   "source": [
    "bool_list_6"
   ]
  },
  {
   "cell_type": "code",
   "execution_count": 62,
   "id": "b377a6d2-7081-495e-8d02-5a1b5e175520",
   "metadata": {
    "tags": []
   },
   "outputs": [
    {
     "data": {
      "text/plain": [
       "4"
      ]
     },
     "execution_count": 62,
     "metadata": {},
     "output_type": "execute_result"
    }
   ],
   "source": [
    "bool_list_6.count(True)"
   ]
  },
  {
   "cell_type": "markdown",
   "id": "b3ebce92-f49d-492a-bd07-cd9c189a9e08",
   "metadata": {},
   "source": [
    "### 関数化"
   ]
  },
  {
   "cell_type": "code",
   "execution_count": 63,
   "id": "61cd2a0c-09e5-457b-94ec-e5ab73fddc93",
   "metadata": {
    "tags": []
   },
   "outputs": [],
   "source": [
    "def filter_6(df_nnlist, dict_3):\n",
    "    \"\"\"\n",
    "    6．3．の3つの原子O全てに対して，3．の中心の原子Cとの距離以内に，中心原子C以外の別の原子が存在しないかどうかを判定．\n",
    "    → 存在しない場合，True値，中心原子Cの'central_atom_id'のndarrayの2つを返す．\n",
    "    → 存在する場合，False値，空のndarrayを返す．\n",
    "    \n",
    "    Usage:\n",
    "    ------\n",
    "    bool_6, C_ids = filter_6(df_nnlist=df_nnlist, dict_3=dict_3)\n",
    "    \n",
    "    Parameters:\n",
    "    -----------\n",
    "    df_nnlist: pd.DataFrame\n",
    "    dict_3: dict\n",
    "    \n",
    "    Returns:\n",
    "    --------\n",
    "    bool_6: bool\n",
    "    C_ids: ndarray\n",
    "    \"\"\"\n",
    "    bool_list_6 = []\n",
    "    for k, v in dict_3.items():\n",
    "        # C周りのO３つのindex\n",
    "        indices = df_nnlist.iloc[dict_3[k]].sort_values(by='rel_distance').index[1:4]\n",
    "        O_ids = df_nnlist.iloc[indices].apply(lambda row: row['neighboring_atom_id'], axis = 1).tolist()\n",
    "        bool_list_temp = []\n",
    "        for O_id in O_ids:\n",
    "            bool_temp = df_nnlist[df_nnlist['central_atom_id'] == O_id].sort_values('rel_distance')['neighboring_atom_symbol'].tolist()[1] == 'C'\n",
    "            bool_list_temp.append(bool_temp)\n",
    "        if set(bool_list_temp) == {True}:\n",
    "            bool_list_6.append(True)\n",
    "        else:\n",
    "            bool_list_6.append(False)\n",
    "    C_ids = np.array(list(dict_3.keys()))[bool_list_6]\n",
    "    bool_filter_6 = bool_list_6.count(True) >= 1\n",
    "        \n",
    "    return bool_filter_6, C_ids\n"
   ]
  },
  {
   "cell_type": "code",
   "execution_count": 64,
   "id": "913079e8-402a-477d-b783-335c5056b2c3",
   "metadata": {
    "tags": []
   },
   "outputs": [
    {
     "name": "stdout",
     "output_type": "stream",
     "text": [
      "17: [True, True, False]\n",
      "18: [True, True, False]\n",
      "19: [True, True, False]\n",
      "20: [True, True, False]\n",
      "21: [True, True, False]\n",
      "22: [True, True, False]\n",
      "23: [True, True, False]\n",
      "24: [True, True, False]\n",
      "25: [True, True, True]\n",
      "26: [True, True, True]\n",
      "27: [True, True, True]\n",
      "28: [True, True, True]\n"
     ]
    }
   ],
   "source": [
    "bool_6, C_ids = filter_6(df_nnlist=df_nnlist, dict_3=dict_3)"
   ]
  },
  {
   "cell_type": "code",
   "execution_count": 65,
   "id": "b23d6587-6bbf-4c8f-b3df-a356d7f28e9b",
   "metadata": {
    "tags": []
   },
   "outputs": [
    {
     "data": {
      "text/plain": [
       "True"
      ]
     },
     "execution_count": 65,
     "metadata": {},
     "output_type": "execute_result"
    }
   ],
   "source": [
    "bool_6"
   ]
  },
  {
   "cell_type": "code",
   "execution_count": 66,
   "id": "d2f9d521-7f2d-4ee4-a339-fbce26f5f94d",
   "metadata": {
    "tags": []
   },
   "outputs": [
    {
     "data": {
      "text/plain": [
       "array(['25', '26', '27', '28'], dtype='<U2')"
      ]
     },
     "execution_count": 66,
     "metadata": {},
     "output_type": "execute_result"
    }
   ],
   "source": [
    "C_ids"
   ]
  },
  {
   "cell_type": "code",
   "execution_count": 5,
   "id": "41b6eae9-f886-4605-9443-ee9ef331ffb5",
   "metadata": {
    "tags": []
   },
   "outputs": [
    {
     "name": "stdout",
     "output_type": "stream",
     "text": [
      "/mnt/ssd_elecom_c2c_960gb/scripts/algorithm_bond_search\n"
     ]
    }
   ],
   "source": [
    "!pwd"
   ]
  }
 ],
 "metadata": {
  "kernelspec": {
   "display_name": "Python 3 (ipykernel)",
   "language": "python",
   "name": "python3"
  },
  "language_info": {
   "codemirror_mode": {
    "name": "ipython",
    "version": 3
   },
   "file_extension": ".py",
   "mimetype": "text/x-python",
   "name": "python",
   "nbconvert_exporter": "python",
   "pygments_lexer": "ipython3",
   "version": "3.10.12"
  }
 },
 "nbformat": 4,
 "nbformat_minor": 5
}

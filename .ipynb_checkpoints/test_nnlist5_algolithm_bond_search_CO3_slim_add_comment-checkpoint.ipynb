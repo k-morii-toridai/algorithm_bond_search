{
 "cells": [
  {
   "cell_type": "code",
   "execution_count": 1,
   "id": "c8152ead-1c64-4b8f-82a2-feb4daa80c53",
   "metadata": {
    "tags": []
   },
   "outputs": [],
   "source": [
    "import pandas as pd\n",
    "import numpy as np\n",
    "from package_file_conversion.nnlist2df import nnlist2df"
   ]
  },
  {
   "cell_type": "code",
   "execution_count": 2,
   "id": "0329eae4-3f7e-4ac2-984a-4d9c0346a03f",
   "metadata": {
    "tags": []
   },
   "outputs": [],
   "source": [
    "nnlist_path = 'sample_test_files/1000000/nnlist_5/POSCAR.nnlist'"
   ]
  },
  {
   "cell_type": "code",
   "execution_count": 3,
   "id": "181e09fa-6d2d-46fe-8f5b-796113d5f903",
   "metadata": {
    "tags": []
   },
   "outputs": [],
   "source": [
    "df_nnlist = nnlist2df(nnlist_path=nnlist_path)"
   ]
  },
  {
   "cell_type": "code",
   "execution_count": 4,
   "id": "f65db6e3-49a1-4dff-a90e-2320c77f1a2b",
   "metadata": {
    "tags": []
   },
   "outputs": [],
   "source": [
    "df_nnlist_squeezed_center_atom = df_nnlist[df_nnlist['central_atom_symbol'] == 'C']"
   ]
  },
  {
   "cell_type": "markdown",
   "id": "bb33a527-9e3d-4a0e-88aa-014d78936b20",
   "metadata": {
    "tags": []
   },
   "source": [
    "### 2．POSCAR.nnlistにおいて，原子Cから0-2．のCO結合距離以内に，原子Oを3つ以上含む，中心原子Cが存在する．"
   ]
  },
  {
   "cell_type": "code",
   "execution_count": 36,
   "id": "31511eeb-8bcf-49f1-9221-c19b42a3eb53",
   "metadata": {
    "tags": []
   },
   "outputs": [
    {
     "data": {
      "text/plain": [
       "{'117': [6420, 6421, 6422, 6423, 6424, 6425, 6426, 6427, 6428, 6429, 6430, 6431, 6432, 6433, 6434, 6435, 6436, 6437, 6438, 6439, 6440, 6441, 6442, 6443, 6444, 6445, 6446, 6447, 6448, 6449, 6450, 6451, 6452, 6453, 6454, 6455, 6456, 6457, 6458, 6459, 6460, 6461, 6462, 6463, 6464, 6465, 6466, 6467, 6468, 6469, 6470, 6471, 6472, 6473], '118': [6474, 6475, 6476, 6477, 6478, 6479, 6480, 6481, 6482, 6483, 6484, 6485, 6486, 6487, 6488, 6489, 6490, 6491, 6492, 6493, 6494, 6495, 6496, 6497, 6498, 6499, 6500, 6501, 6502, 6503, 6504, 6505, 6506, 6507, 6508, 6509, 6510, 6511, 6512, 6513, 6514, 6515, 6516, 6517, 6518, 6519, 6520, 6521, 6522, 6523, 6524, 6525, 6526, 6527], '119': [6528, 6529, 6530, 6531, 6532, 6533, 6534, 6535, 6536, 6537, 6538, 6539, 6540, 6541, 6542, 6543, 6544, 6545, 6546, 6547, 6548, 6549, 6550, 6551, 6552, 6553, 6554, 6555, 6556, 6557, 6558, 6559, 6560, 6561, 6562, 6563, 6564, 6565, 6566, 6567, 6568, 6569, 6570, 6571, 6572, 6573, 6574, 6575, 6576, 6577, 6578, 6579, 6580, 6581], '120': [6582, 6583, 6584, 6585, 6586, 6587, 6588, 6589, 6590, 6591, 6592, 6593, 6594, 6595, 6596, 6597, 6598, 6599, 6600, 6601, 6602, 6603, 6604, 6605, 6606, 6607, 6608, 6609, 6610, 6611, 6612, 6613, 6614, 6615, 6616, 6617, 6618, 6619, 6620, 6621, 6622, 6623, 6624, 6625, 6626, 6627, 6628, 6629, 6630, 6631, 6632, 6633, 6634, 6635], '121': [6636, 6637, 6638, 6639, 6640, 6641, 6642, 6643, 6644, 6645, 6646, 6647, 6648, 6649, 6650, 6651, 6652, 6653, 6654, 6655, 6656, 6657, 6658, 6659, 6660, 6661, 6662, 6663, 6664, 6665, 6666, 6667, 6668, 6669, 6670, 6671, 6672, 6673, 6674, 6675, 6676, 6677, 6678, 6679, 6680, 6681, 6682, 6683, 6684, 6685, 6686, 6687, 6688], '122': [6689, 6690, 6691, 6692, 6693, 6694, 6695, 6696, 6697, 6698, 6699, 6700, 6701, 6702, 6703, 6704, 6705, 6706, 6707, 6708, 6709, 6710, 6711, 6712, 6713, 6714, 6715, 6716, 6717, 6718, 6719, 6720, 6721, 6722, 6723, 6724, 6725, 6726, 6727, 6728, 6729, 6730, 6731, 6732, 6733, 6734, 6735, 6736, 6737, 6738, 6739, 6740, 6741], '123': [6742, 6743, 6744, 6745, 6746, 6747, 6748, 6749, 6750, 6751, 6752, 6753, 6754, 6755, 6756, 6757, 6758, 6759, 6760, 6761, 6762, 6763, 6764, 6765, 6766, 6767, 6768, 6769, 6770, 6771, 6772, 6773, 6774, 6775, 6776, 6777, 6778, 6779, 6780, 6781, 6782, 6783, 6784, 6785, 6786, 6787, 6788, 6789, 6790, 6791, 6792, 6793, 6794], '124': [6795, 6796, 6797, 6798, 6799, 6800, 6801, 6802, 6803, 6804, 6805, 6806, 6807, 6808, 6809, 6810, 6811, 6812, 6813, 6814, 6815, 6816, 6817, 6818, 6819, 6820, 6821, 6822, 6823, 6824, 6825, 6826, 6827, 6828, 6829, 6830, 6831, 6832, 6833, 6834, 6835, 6836, 6837, 6838, 6839, 6840, 6841, 6842, 6843, 6844, 6845, 6846, 6847], '125': [6848, 6849, 6850, 6851, 6852, 6853, 6854, 6855, 6856, 6857, 6858, 6859, 6860, 6861, 6862, 6863, 6864, 6865, 6866, 6867, 6868, 6869, 6870, 6871, 6872, 6873, 6874, 6875, 6876, 6877, 6878, 6879, 6880, 6881, 6882, 6883, 6884, 6885, 6886, 6887, 6888, 6889, 6890, 6891, 6892, 6893, 6894, 6895, 6896, 6897, 6898, 6899, 6900, 6901], '126': [6902, 6903, 6904, 6905, 6906, 6907, 6908, 6909, 6910, 6911, 6912, 6913, 6914, 6915, 6916, 6917, 6918, 6919, 6920, 6921, 6922, 6923, 6924, 6925, 6926, 6927, 6928, 6929, 6930, 6931, 6932, 6933, 6934, 6935, 6936, 6937, 6938, 6939, 6940, 6941, 6942, 6943, 6944, 6945, 6946, 6947, 6948, 6949, 6950, 6951, 6952, 6953, 6954, 6955], '127': [6956, 6957, 6958, 6959, 6960, 6961, 6962, 6963, 6964, 6965, 6966, 6967, 6968, 6969, 6970, 6971, 6972, 6973, 6974, 6975, 6976, 6977, 6978, 6979, 6980, 6981, 6982, 6983, 6984, 6985, 6986, 6987, 6988, 6989, 6990, 6991, 6992, 6993, 6994, 6995, 6996, 6997, 6998, 6999, 7000, 7001, 7002, 7003, 7004, 7005, 7006, 7007, 7008, 7009], '128': [7010, 7011, 7012, 7013, 7014, 7015, 7016, 7017, 7018, 7019, 7020, 7021, 7022, 7023, 7024, 7025, 7026, 7027, 7028, 7029, 7030, 7031, 7032, 7033, 7034, 7035, 7036, 7037, 7038, 7039, 7040, 7041, 7042, 7043, 7044, 7045, 7046, 7047, 7048, 7049, 7050, 7051, 7052, 7053, 7054, 7055, 7056, 7057, 7058, 7059, 7060, 7061, 7062, 7063], '129': [7064, 7065, 7066, 7067, 7068, 7069, 7070, 7071, 7072, 7073, 7074, 7075, 7076, 7077, 7078, 7079, 7080, 7081, 7082, 7083, 7084, 7085, 7086, 7087, 7088, 7089, 7090, 7091, 7092, 7093, 7094, 7095, 7096, 7097, 7098, 7099, 7100, 7101, 7102, 7103, 7104, 7105, 7106, 7107, 7108, 7109, 7110, 7111, 7112, 7113], '130': [7114, 7115, 7116, 7117, 7118, 7119, 7120, 7121, 7122, 7123, 7124, 7125, 7126, 7127, 7128, 7129, 7130, 7131, 7132, 7133, 7134, 7135, 7136, 7137, 7138, 7139, 7140, 7141, 7142, 7143, 7144, 7145, 7146, 7147, 7148, 7149, 7150, 7151, 7152, 7153, 7154, 7155, 7156, 7157, 7158, 7159, 7160, 7161, 7162, 7163], '131': [7164, 7165, 7166, 7167, 7168, 7169, 7170, 7171, 7172, 7173, 7174, 7175, 7176, 7177, 7178, 7179, 7180, 7181, 7182, 7183, 7184, 7185, 7186, 7187, 7188, 7189, 7190, 7191, 7192, 7193, 7194, 7195, 7196, 7197, 7198, 7199, 7200, 7201, 7202, 7203, 7204, 7205, 7206, 7207, 7208, 7209, 7210, 7211, 7212, 7213], '132': [7214, 7215, 7216, 7217, 7218, 7219, 7220, 7221, 7222, 7223, 7224, 7225, 7226, 7227, 7228, 7229, 7230, 7231, 7232, 7233, 7234, 7235, 7236, 7237, 7238, 7239, 7240, 7241, 7242, 7243, 7244, 7245, 7246, 7247, 7248, 7249, 7250, 7251, 7252, 7253, 7254, 7255, 7256, 7257, 7258, 7259, 7260, 7261, 7262, 7263], '133': [7264, 7265, 7266, 7267, 7268, 7269, 7270, 7271, 7272, 7273, 7274, 7275, 7276, 7277, 7278, 7279, 7280, 7281, 7282, 7283, 7284, 7285, 7286, 7287, 7288, 7289, 7290, 7291, 7292, 7293, 7294, 7295, 7296, 7297, 7298, 7299, 7300, 7301, 7302, 7303, 7304, 7305, 7306, 7307, 7308, 7309, 7310, 7311, 7312, 7313, 7314, 7315, 7316, 7317, 7318], '134': [7319, 7320, 7321, 7322, 7323, 7324, 7325, 7326, 7327, 7328, 7329, 7330, 7331, 7332, 7333, 7334, 7335, 7336, 7337, 7338, 7339, 7340, 7341, 7342, 7343, 7344, 7345, 7346, 7347, 7348, 7349, 7350, 7351, 7352, 7353, 7354, 7355, 7356, 7357, 7358, 7359, 7360, 7361, 7362, 7363, 7364, 7365, 7366, 7367, 7368, 7369, 7370, 7371, 7372, 7373], '135': [7374, 7375, 7376, 7377, 7378, 7379, 7380, 7381, 7382, 7383, 7384, 7385, 7386, 7387, 7388, 7389, 7390, 7391, 7392, 7393, 7394, 7395, 7396, 7397, 7398, 7399, 7400, 7401, 7402, 7403, 7404, 7405, 7406, 7407, 7408, 7409, 7410, 7411, 7412, 7413, 7414, 7415, 7416, 7417, 7418, 7419, 7420, 7421, 7422, 7423, 7424, 7425, 7426, 7427, 7428], '136': [7429, 7430, 7431, 7432, 7433, 7434, 7435, 7436, 7437, 7438, 7439, 7440, 7441, 7442, 7443, 7444, 7445, 7446, 7447, 7448, 7449, 7450, 7451, 7452, 7453, 7454, 7455, 7456, 7457, 7458, 7459, 7460, 7461, 7462, 7463, 7464, 7465, 7466, 7467, 7468, 7469, 7470, 7471, 7472, 7473, 7474, 7475, 7476, 7477, 7478, 7479, 7480, 7481, 7482, 7483]}"
      ]
     },
     "execution_count": 36,
     "metadata": {},
     "output_type": "execute_result"
    }
   ],
   "source": [
    "df_nnlist_group_dict = df_nnlist[df_nnlist['central_atom_symbol'] == 'C'].groupby('central_atom_id').groups\n",
    "df_nnlist_group_dict"
   ]
  },
  {
   "cell_type": "code",
   "execution_count": 37,
   "id": "9801c83d-7a70-401b-a1fc-39fb3727b60d",
   "metadata": {
    "tags": []
   },
   "outputs": [
    {
     "ename": "KeyError",
     "evalue": "'5'",
     "output_type": "error",
     "traceback": [
      "\u001b[0;31m---------------------------------------------------------------------------\u001b[0m",
      "\u001b[0;31mKeyError\u001b[0m                                  Traceback (most recent call last)",
      "Cell \u001b[0;32mIn[37], line 1\u001b[0m\n\u001b[0;32m----> 1\u001b[0m df_nnlist\u001b[38;5;241m.\u001b[39miloc[\u001b[43mdf_nnlist_group_dict\u001b[49m\u001b[43m[\u001b[49m\u001b[38;5;124;43m'\u001b[39;49m\u001b[38;5;124;43m5\u001b[39;49m\u001b[38;5;124;43m'\u001b[39;49m\u001b[43m]\u001b[49m]\n",
      "\u001b[0;31mKeyError\u001b[0m: '5'"
     ]
    }
   ],
   "source": [
    "df_nnlist.iloc[df_nnlist_group_dict['5']]"
   ]
  },
  {
   "cell_type": "code",
   "execution_count": 38,
   "id": "c351324a-bde9-4023-9c7d-13f477016bc9",
   "metadata": {
    "tags": []
   },
   "outputs": [
    {
     "data": {
      "text/plain": [
       "array(['117', '118', '119', '120', '121', '122', '123', '124', '125',\n",
       "       '126', '127', '128', '129', '130', '131', '132', '133', '134',\n",
       "       '135', '136'], dtype='<U3')"
      ]
     },
     "execution_count": 38,
     "metadata": {},
     "output_type": "execute_result"
    }
   ],
   "source": [
    "df_nnlist_central_atom_ids = np.array(list(df_nnlist_group_dict.keys()))\n",
    "df_nnlist_central_atom_ids"
   ]
  },
  {
   "cell_type": "code",
   "execution_count": 141,
   "id": "d65a4446-1e41-4598-9815-4d3a740953c0",
   "metadata": {
    "tags": []
   },
   "outputs": [],
   "source": [
    "bool_list = []\n",
    "for key in df_nnlist_central_atom_ids:\n",
    "    bool_list.append(df_nnlist_squeezed_center_atom.iloc[df_nnlist_group_dict[key]]['neighboring_atom_symbol'].tolist().count('O') >= 3)"
   ]
  },
  {
   "cell_type": "code",
   "execution_count": 149,
   "id": "25488974-c67b-475f-9d52-50c2ad3b3bc4",
   "metadata": {
    "tags": []
   },
   "outputs": [
    {
     "data": {
      "text/plain": [
       "array(['1', '2', '3', '4'], dtype='<U1')"
      ]
     },
     "execution_count": 149,
     "metadata": {},
     "output_type": "execute_result"
    }
   ],
   "source": [
    "df_nnlist_central_atom_ids_fillterd = df_nnlist_central_atom_ids[bool_list]\n",
    "df_nnlist_central_atom_ids_fillterd"
   ]
  },
  {
   "cell_type": "code",
   "execution_count": 153,
   "id": "05fee39c-316a-4c76-a9bd-3df1e71a5252",
   "metadata": {
    "tags": []
   },
   "outputs": [],
   "source": [
    "bool_filter_2 = len(df_nnlist_central_atom_ids_fillterd) >= 1"
   ]
  },
  {
   "cell_type": "code",
   "execution_count": null,
   "id": "f99f9d46-4480-4b7a-b173-65d1109c3441",
   "metadata": {},
   "outputs": [],
   "source": []
  },
  {
   "cell_type": "code",
   "execution_count": 18,
   "id": "5cebc7bc-3114-408a-8193-cb90585df71e",
   "metadata": {
    "tags": []
   },
   "outputs": [],
   "source": [
    "df_nnlist_group_dict = df_nnlist[df_nnlist['central_atom_symbol'] == 'C'].groupby('central_atom_id').groups"
   ]
  },
  {
   "cell_type": "code",
   "execution_count": 36,
   "id": "bae91c34-385a-4ea1-bcc0-4380e2c4bdc2",
   "metadata": {
    "tags": []
   },
   "outputs": [
    {
     "data": {
      "text/plain": [
       "{'1': [0, 1, 2, 3], '2': [4, 5, 6, 7], '3': [8, 9, 10, 11], '4': [12, 13, 14, 15]}"
      ]
     },
     "execution_count": 36,
     "metadata": {},
     "output_type": "execute_result"
    }
   ],
   "source": [
    "df_nnlist_group_dict"
   ]
  },
  {
   "cell_type": "code",
   "execution_count": 37,
   "id": "52aa04a6-76ef-4afc-a186-83d93f17dcd6",
   "metadata": {
    "tags": []
   },
   "outputs": [
    {
     "data": {
      "text/plain": [
       "{'1': Int64Index([0, 1, 2, 3], dtype='int64'),\n",
       " '2': Int64Index([4, 5, 6, 7], dtype='int64'),\n",
       " '3': Int64Index([8, 9, 10, 11], dtype='int64'),\n",
       " '4': Int64Index([12, 13, 14, 15], dtype='int64')}"
      ]
     },
     "execution_count": 37,
     "metadata": {},
     "output_type": "execute_result"
    }
   ],
   "source": [
    "{key: df_nnlist_group_dict[key] for key in df_nnlist_group_dict.keys()}"
   ]
  },
  {
   "cell_type": "code",
   "execution_count": 38,
   "id": "0377bf9d-c9fc-4ddd-b0fc-ee745d59c754",
   "metadata": {
    "tags": []
   },
   "outputs": [
    {
     "data": {
      "text/plain": [
       "{'1': Int64Index([0, 1, 2, 3], dtype='int64'),\n",
       " '2': Int64Index([4, 5, 6, 7], dtype='int64'),\n",
       " '3': Int64Index([8, 9, 10, 11], dtype='int64'),\n",
       " '4': Int64Index([12, 13, 14, 15], dtype='int64')}"
      ]
     },
     "execution_count": 38,
     "metadata": {},
     "output_type": "execute_result"
    }
   ],
   "source": [
    "{key: df_nnlist_group_dict[key] for key in df_nnlist_group_dict.keys() if key in df_nnlist_central_atom_ids_fillterd}"
   ]
  },
  {
   "cell_type": "code",
   "execution_count": 5,
   "id": "aac1810e-82e9-4be1-a0d9-4367c640658d",
   "metadata": {
    "tags": []
   },
   "outputs": [],
   "source": [
    "def filter_2(df_nnlist):\n",
    "    \"\"\"\n",
    "    2．POSCAR.nnlistにおいて，原子Cから0-2．のCO結合距離以内に，原子Oを3つ以上含む，中心原子Cが存在かどうか判定．\n",
    "    → 存在する場合、中心原子Cとそのneighborsを返す．\n",
    "    \n",
    "    Usage: \n",
    "    ------\n",
    "    bool_2, dict_2 = filter_2(df_nnlist=df_nnlist)\n",
    "    \n",
    "    Parameters:\n",
    "    -----------\n",
    "    df_nnlist: pd.DataFrame\n",
    "    \n",
    "    Returns:\n",
    "    --------\n",
    "    bool_2: bool\n",
    "    dict_2: dict\n",
    "    \n",
    "    \"\"\"\n",
    "    df_nnlist_squeezed_center_atom = df_nnlist[df_nnlist['central_atom_symbol'] == 'C']\n",
    "    df_nnlist_group_dict = df_nnlist[df_nnlist['central_atom_symbol'] == 'C'].groupby('central_atom_id').groups\n",
    "    df_nnlist_central_atom_ids = np.array(list(df_nnlist_group_dict.keys()))\n",
    "    bool_list = []\n",
    "    for key in df_nnlist_central_atom_ids:\n",
    "        bool_list.append(df_nnlist.iloc[df_nnlist_group_dict[key]]['neighboring_atom_symbol'].tolist().count('O') >= 3)\n",
    "    df_nnlist_central_atom_ids_fillterd = df_nnlist_central_atom_ids[bool_list]\n",
    "    bool_filter_2 = len(df_nnlist_central_atom_ids_fillterd) >= 1\n",
    "    filtered_df_nnlist_group_dict = {key: df_nnlist_group_dict[key] for key in df_nnlist_group_dict.keys() if key in df_nnlist_central_atom_ids_fillterd}\n",
    "    return bool_filter_2, filtered_df_nnlist_group_dict\n",
    "\n",
    "\n",
    "def filter_3(df_nnlist, dict_2):\n",
    "    bool_list_3 = []\n",
    "    for k, v in dict_2.items():\n",
    "        bool_list_3.append(set(df_nnlist.iloc[dict_2[k]].sort_values(by='rel_distance')['neighboring_atom_symbol'].tolist()[1:4]) == {'O'})\n",
    "    df_nnlist_central_atom_ids_fillterd_3 = np.array(list(dict_2.keys()))[bool_list_3]\n",
    "    filtered_3_df_nnlist_group_dict = {key: dict_2[key] for key in dict_2.keys() if key in df_nnlist_central_atom_ids_fillterd_3}\n",
    "    bool_filter_3 = len(df_nnlist_central_atom_ids_fillterd_3) >= 1\n",
    "    return bool_filter_3, filtered_3_df_nnlist_group_dict\n",
    "\n",
    "\n",
    "def filter_4(df_nnlist, dict_3):\n",
    "    bool_list_4 = []\n",
    "    for k, v in dict_3.items():\n",
    "        bool_list_4.append(len(df_nnlist.iloc[dict_3[k]].sort_values(by='rel_distance')['neighboring_atom_symbol'].tolist()) == 4)\n",
    "    df_nnlist_central_atom_ids_fillterd_4 = np.array(list(dict_3.keys()))[bool_list_4]\n",
    "    filtered_4_df_nnlist_group_dict = {key: dict_3[key] for key in dict_3.keys() if key in df_nnlist_central_atom_ids_fillterd_4}\n",
    "    bool_filter_4 = len(df_nnlist_central_atom_ids_fillterd_4) >= 1\n",
    "    return bool_filter_4, filtered_4_df_nnlist_group_dict\n",
    "\n",
    "\n",
    "def filter_5(df_nnlist, dict_3):\n",
    "    bool_list_5 = []\n",
    "    for k, v in dict_3.items():\n",
    "        third_CO_bond_dist = df_nnlist.iloc[dict_3[k]].sort_values(by='rel_distance')['rel_distance'].tolist()[3]\n",
    "        forth_dist = df_nnlist.iloc[dict_3[k]].sort_values(by='rel_distance')['rel_distance'].tolist()[4]\n",
    "        bool_list_5.append(third_CO_bond_dist < forth_dist)\n",
    "    df_nnlist_central_atom_ids_fillterd_5 = np.array(list(dict_3.keys()))[bool_list_5]\n",
    "    filtered_5_df_nnlist_group_dict = {key: dict_3[key] for key in dict_3.keys() if key in df_nnlist_central_atom_ids_fillterd_5}\n",
    "    bool_filter_5 = len(df_nnlist_central_atom_ids_fillterd_5) >= 1\n",
    "\n",
    "    return bool_filter_5, filtered_5_df_nnlist_group_dict\n",
    "\n",
    "\n",
    "def filter_6(df_nnlist, dict_3):\n",
    "    bool_list_6 = []\n",
    "    for k, v in dict_3.items():\n",
    "        df_nnlist.iloc[dict_3[k]].sort_values(by='rel_distance')\n",
    "        # C周りのO３つのindex\n",
    "        indices = df_nnlist.iloc[dict_3[k]].sort_values(by='rel_distance').index[1:4]\n",
    "        O_ids = df_nnlist.iloc[indices].apply(lambda row: row['neighboring_atom_id'], axis = 1).tolist()\n",
    "        for O_id in O_ids:\n",
    "            bool_list_temp = []\n",
    "            bool_list_temp.append(df_nnlist[df_nnlist['central_atom_id'] == O_id].sort_values('rel_distance')['neighboring_atom_symbol'].tolist()[1] == 'C')\n",
    "        if set(bool_list_temp) == {True}:\n",
    "            bool_list_6.append(True)\n",
    "    C_ids = np.array(list(dict_3.keys()))[bool_list_6]\n",
    "    bool_filter_6 = len(bool_list_6) >= 1\n",
    "        \n",
    "    return bool_filter_6, C_ids\n",
    "\n",
    "\n",
    "def concat_filter(df_nnlist):\n",
    "    bool_2, dict_2 = filter_2(df_nnlist=df_nnlist)\n",
    "    if bool_2:\n",
    "        bool_3, dict_3 = filter_3(df_nnlist=df_nnlist, dict_2=dict_2)\n",
    "        if bool_3:\n",
    "            bool_4, dict_4 = filter_4(df_nnlist=df_nnlist, dict_3=dict_3)\n",
    "            if bool_4:\n",
    "                return True\n",
    "            else:\n",
    "                bool_5, dict_5 = filter_5(df_nnlist=df_nnlist, dict_3=dict_3)\n",
    "                if bool_5:\n",
    "                    bool_6, C_ids = filter_6(df_nnlist=df_nnlist, dict_3=dict_3)\n",
    "                    if bool_6:\n",
    "                        return True\n",
    "                else:\n",
    "                    return False\n",
    "        else:\n",
    "            return False\n",
    "    else:\n",
    "        return False\n"
   ]
  },
  {
   "cell_type": "code",
   "execution_count": 6,
   "id": "fcd4be21-1236-45e5-9b29-dbf67fecc26a",
   "metadata": {
    "tags": []
   },
   "outputs": [
    {
     "data": {
      "text/plain": [
       "False"
      ]
     },
     "execution_count": 6,
     "metadata": {},
     "output_type": "execute_result"
    }
   ],
   "source": [
    "concat_filter(df_nnlist=df_nnlist)"
   ]
  },
  {
   "cell_type": "code",
   "execution_count": null,
   "id": "2cbcc4a1-9d6a-4e5a-a756-04e7a4746b4b",
   "metadata": {},
   "outputs": [],
   "source": []
  },
  {
   "cell_type": "code",
   "execution_count": 11,
   "id": "2c237719-cd81-4dd9-bf49-9026535edcbf",
   "metadata": {
    "tags": []
   },
   "outputs": [
    {
     "data": {
      "text/plain": [
       "(True,\n",
       " {'21': Int64Index([1127, 1128, 1129, 1130, 1131, 1132, 1133, 1134, 1135, 1136, 1137,\n",
       "              1138, 1139, 1140, 1141, 1142, 1143, 1144, 1145, 1146, 1147, 1148,\n",
       "              1149, 1150, 1151, 1152, 1153, 1154, 1155, 1156, 1157, 1158, 1159,\n",
       "              1160, 1161, 1162, 1163, 1164, 1165, 1166, 1167, 1168, 1169, 1170,\n",
       "              1171, 1172, 1173, 1174, 1175, 1176, 1177, 1178, 1179, 1180, 1181,\n",
       "              1182, 1183, 1184, 1185],\n",
       "             dtype='int64')})"
      ]
     },
     "execution_count": 11,
     "metadata": {},
     "output_type": "execute_result"
    }
   ],
   "source": [
    "filter_2(df_nnlist=df_nnlist)"
   ]
  },
  {
   "cell_type": "code",
   "execution_count": 18,
   "id": "ce700bb2-7dd2-44d7-a25d-7409b6495d1f",
   "metadata": {
    "tags": []
   },
   "outputs": [
    {
     "data": {
      "text/plain": [
       "True"
      ]
     },
     "execution_count": 18,
     "metadata": {},
     "output_type": "execute_result"
    }
   ],
   "source": [
    "tuple_2 = filter_2(df_nnlist=df_nnlist)\n",
    "# tuple_2[0]"
   ]
  },
  {
   "cell_type": "code",
   "execution_count": 20,
   "id": "4213ef21-6d37-4c67-ab94-7c268746432e",
   "metadata": {
    "tags": []
   },
   "outputs": [],
   "source": [
    "bool__ = filter_2(df_nnlist=df_nnlist)"
   ]
  },
  {
   "cell_type": "code",
   "execution_count": 14,
   "id": "46b36c9a-3b42-4dc1-a1f6-4d784fd99517",
   "metadata": {
    "tags": []
   },
   "outputs": [],
   "source": [
    "bool_2, dict_2 = filter_2(df_nnlist=df_nnlist)"
   ]
  },
  {
   "cell_type": "code",
   "execution_count": 15,
   "id": "b399255f-90cd-4aab-a658-5c7ccca3896f",
   "metadata": {
    "tags": []
   },
   "outputs": [
    {
     "data": {
      "text/plain": [
       "True"
      ]
     },
     "execution_count": 15,
     "metadata": {},
     "output_type": "execute_result"
    }
   ],
   "source": [
    "bool_2"
   ]
  },
  {
   "cell_type": "code",
   "execution_count": 16,
   "id": "1c736816-bc44-4295-a8a2-d9a35ecf0f5d",
   "metadata": {
    "tags": []
   },
   "outputs": [
    {
     "data": {
      "text/plain": [
       "{'21': Int64Index([1127, 1128, 1129, 1130, 1131, 1132, 1133, 1134, 1135, 1136, 1137,\n",
       "             1138, 1139, 1140, 1141, 1142, 1143, 1144, 1145, 1146, 1147, 1148,\n",
       "             1149, 1150, 1151, 1152, 1153, 1154, 1155, 1156, 1157, 1158, 1159,\n",
       "             1160, 1161, 1162, 1163, 1164, 1165, 1166, 1167, 1168, 1169, 1170,\n",
       "             1171, 1172, 1173, 1174, 1175, 1176, 1177, 1178, 1179, 1180, 1181,\n",
       "             1182, 1183, 1184, 1185],\n",
       "            dtype='int64')}"
      ]
     },
     "execution_count": 16,
     "metadata": {},
     "output_type": "execute_result"
    }
   ],
   "source": [
    "dict_2"
   ]
  },
  {
   "cell_type": "markdown",
   "id": "72ba5efe-5f8a-4889-888f-0a54206effde",
   "metadata": {},
   "source": [
    "### 3．2．の中心原子Cに対して，1番近い原子がOであり，かつ2番目に近い原子もOであり，かつ3番目に近い原子もOである，中心原子Cが存在する．\n"
   ]
  },
  {
   "cell_type": "code",
   "execution_count": 77,
   "id": "6bb96c34-9618-48a5-a506-c1cb1291ab5c",
   "metadata": {
    "tags": []
   },
   "outputs": [
    {
     "data": {
      "text/plain": [
       "{'1': Int64Index([0, 1, 2, 3], dtype='int64'),\n",
       " '2': Int64Index([4, 5, 6, 7], dtype='int64'),\n",
       " '3': Int64Index([8, 9, 10, 11], dtype='int64'),\n",
       " '4': Int64Index([12, 13, 14, 15], dtype='int64')}"
      ]
     },
     "execution_count": 77,
     "metadata": {},
     "output_type": "execute_result"
    }
   ],
   "source": [
    "dict_"
   ]
  },
  {
   "cell_type": "code",
   "execution_count": 54,
   "id": "b30ca27d-7625-4197-b164-3b5734c0a0e0",
   "metadata": {
    "tags": []
   },
   "outputs": [
    {
     "data": {
      "text/html": [
       "<div>\n",
       "<style scoped>\n",
       "    .dataframe tbody tr th:only-of-type {\n",
       "        vertical-align: middle;\n",
       "    }\n",
       "\n",
       "    .dataframe tbody tr th {\n",
       "        vertical-align: top;\n",
       "    }\n",
       "\n",
       "    .dataframe thead th {\n",
       "        text-align: right;\n",
       "    }\n",
       "</style>\n",
       "<table border=\"1\" class=\"dataframe\">\n",
       "  <thead>\n",
       "    <tr style=\"text-align: right;\">\n",
       "      <th></th>\n",
       "      <th>central_atom_id</th>\n",
       "      <th>neighboring_atom_id</th>\n",
       "      <th>rel_distance</th>\n",
       "      <th>rel_x</th>\n",
       "      <th>rel_y</th>\n",
       "      <th>rel_z</th>\n",
       "      <th>unitcell_x</th>\n",
       "      <th>unitcell_y</th>\n",
       "      <th>unitcell_z</th>\n",
       "      <th>central_atom_symbol</th>\n",
       "      <th>neighboring_atom_symbol</th>\n",
       "    </tr>\n",
       "  </thead>\n",
       "  <tbody>\n",
       "    <tr>\n",
       "      <th>0</th>\n",
       "      <td>1</td>\n",
       "      <td>1</td>\n",
       "      <td>0.000000</td>\n",
       "      <td>0.000000</td>\n",
       "      <td>0.000000</td>\n",
       "      <td>0.000000</td>\n",
       "      <td>0</td>\n",
       "      <td>0</td>\n",
       "      <td>0</td>\n",
       "      <td>C</td>\n",
       "      <td>C</td>\n",
       "    </tr>\n",
       "    <tr>\n",
       "      <th>1</th>\n",
       "      <td>1</td>\n",
       "      <td>9</td>\n",
       "      <td>1.282630</td>\n",
       "      <td>0.000000</td>\n",
       "      <td>1.281885</td>\n",
       "      <td>-0.043713</td>\n",
       "      <td>0</td>\n",
       "      <td>0</td>\n",
       "      <td>0</td>\n",
       "      <td>C</td>\n",
       "      <td>O</td>\n",
       "    </tr>\n",
       "    <tr>\n",
       "      <th>2</th>\n",
       "      <td>1</td>\n",
       "      <td>13</td>\n",
       "      <td>1.289100</td>\n",
       "      <td>1.112990</td>\n",
       "      <td>-0.650283</td>\n",
       "      <td>0.012857</td>\n",
       "      <td>0</td>\n",
       "      <td>0</td>\n",
       "      <td>0</td>\n",
       "      <td>C</td>\n",
       "      <td>O</td>\n",
       "    </tr>\n",
       "    <tr>\n",
       "      <th>3</th>\n",
       "      <td>1</td>\n",
       "      <td>16</td>\n",
       "      <td>1.289100</td>\n",
       "      <td>-1.112990</td>\n",
       "      <td>-0.650283</td>\n",
       "      <td>0.012857</td>\n",
       "      <td>0</td>\n",
       "      <td>0</td>\n",
       "      <td>0</td>\n",
       "      <td>C</td>\n",
       "      <td>O</td>\n",
       "    </tr>\n",
       "  </tbody>\n",
       "</table>\n",
       "</div>"
      ],
      "text/plain": [
       "  central_atom_id neighboring_atom_id  rel_distance     rel_x     rel_y  \\\n",
       "0               1                   1      0.000000  0.000000  0.000000   \n",
       "1               1                   9      1.282630  0.000000  1.281885   \n",
       "2               1                  13      1.289100  1.112990 -0.650283   \n",
       "3               1                  16      1.289100 -1.112990 -0.650283   \n",
       "\n",
       "      rel_z  unitcell_x  unitcell_y  unitcell_z central_atom_symbol  \\\n",
       "0  0.000000           0           0           0                   C   \n",
       "1 -0.043713           0           0           0                   C   \n",
       "2  0.012857           0           0           0                   C   \n",
       "3  0.012857           0           0           0                   C   \n",
       "\n",
       "  neighboring_atom_symbol  \n",
       "0                       C  \n",
       "1                       O  \n",
       "2                       O  \n",
       "3                       O  "
      ]
     },
     "execution_count": 54,
     "metadata": {},
     "output_type": "execute_result"
    }
   ],
   "source": [
    "df_nnlist.iloc[ids['1']].sort_values(by='rel_distance')"
   ]
  },
  {
   "cell_type": "code",
   "execution_count": 56,
   "id": "6fd5c5b0-22a6-4649-bf21-e9a05daf72ed",
   "metadata": {
    "tags": []
   },
   "outputs": [
    {
     "data": {
      "text/plain": [
       "['C', 'O', 'O', 'O']"
      ]
     },
     "execution_count": 56,
     "metadata": {},
     "output_type": "execute_result"
    }
   ],
   "source": [
    "df_nnlist.iloc[ids['1']].sort_values(by='rel_distance')['neighboring_atom_symbol'].tolist()"
   ]
  },
  {
   "cell_type": "code",
   "execution_count": 57,
   "id": "8ce55e8a-6146-426a-af53-f69b29cd9f6c",
   "metadata": {
    "tags": []
   },
   "outputs": [
    {
     "data": {
      "text/plain": [
       "['O', 'O', 'O']"
      ]
     },
     "execution_count": 57,
     "metadata": {},
     "output_type": "execute_result"
    }
   ],
   "source": [
    "df_nnlist.iloc[ids['1']].sort_values(by='rel_distance')['neighboring_atom_symbol'].tolist()[1:4]"
   ]
  },
  {
   "cell_type": "code",
   "execution_count": 61,
   "id": "1189f172-298e-415e-9143-5f3f8149d889",
   "metadata": {
    "tags": []
   },
   "outputs": [
    {
     "data": {
      "text/plain": [
       "True"
      ]
     },
     "execution_count": 61,
     "metadata": {},
     "output_type": "execute_result"
    }
   ],
   "source": [
    "set(df_nnlist.iloc[ids['1']].sort_values(by='rel_distance')['neighboring_atom_symbol'].tolist()[1:4]) == {'O'}"
   ]
  },
  {
   "cell_type": "code",
   "execution_count": 80,
   "id": "2533e15a-4722-4898-932f-3efb360f93e5",
   "metadata": {
    "tags": []
   },
   "outputs": [
    {
     "name": "stdout",
     "output_type": "stream",
     "text": [
      "1 Int64Index([0, 1, 2, 3], dtype='int64')\n",
      "2 Int64Index([4, 5, 6, 7], dtype='int64')\n",
      "3 Int64Index([8, 9, 10, 11], dtype='int64')\n",
      "4 Int64Index([12, 13, 14, 15], dtype='int64')\n"
     ]
    }
   ],
   "source": [
    "for k, v in dict_.items():\n",
    "    print(k, v)"
   ]
  },
  {
   "cell_type": "code",
   "execution_count": 81,
   "id": "9f5c0157-ea88-4854-9dcd-7f7c906168ce",
   "metadata": {
    "tags": []
   },
   "outputs": [],
   "source": [
    "bool_list_3 = []\n",
    "for k, v in dict_.items():\n",
    "    bool_list_3.append(set(df_nnlist.iloc[dict_[k]].sort_values(by='rel_distance')['neighboring_atom_symbol'].tolist()[1:4]) == {'O'})"
   ]
  },
  {
   "cell_type": "code",
   "execution_count": 82,
   "id": "bfc9bdb4-0d09-469a-9dac-059caf074648",
   "metadata": {
    "tags": []
   },
   "outputs": [
    {
     "data": {
      "text/plain": [
       "[True, True, True, True]"
      ]
     },
     "execution_count": 82,
     "metadata": {},
     "output_type": "execute_result"
    }
   ],
   "source": [
    "bool_list_3"
   ]
  },
  {
   "cell_type": "code",
   "execution_count": 93,
   "id": "9a9c5411-7008-459a-b1b3-a45d648b5d6b",
   "metadata": {
    "tags": []
   },
   "outputs": [],
   "source": [
    "bool_list_3 = []\n",
    "for k, v in dict_.items():\n",
    "    bool_list_3.append(set(df_nnlist.iloc[dict_[k]].sort_values(by='rel_distance')['neighboring_atom_symbol'].tolist()[1:4]) == {'O'})\n",
    "df_nnlist_central_atom_ids_fillterd_3 = np.array(list(dict_.keys()))[bool_list_3]\n",
    "filtered_3_df_nnlist_group_dict = {key: dict_[key] for key in dict_.keys() if key in df_nnlist_central_atom_ids_fillterd_3}"
   ]
  },
  {
   "cell_type": "code",
   "execution_count": null,
   "id": "4a4f24a6-a9a7-4c09-8377-76a169ca69cc",
   "metadata": {},
   "outputs": [],
   "source": []
  },
  {
   "cell_type": "markdown",
   "id": "c21c029f-5ab1-448d-a8d6-b863fd2a15ae",
   "metadata": {},
   "source": [
    "#### 3．の関数化"
   ]
  },
  {
   "cell_type": "code",
   "execution_count": 17,
   "id": "395668ec-3ba2-4963-b185-77e05aa6cd1e",
   "metadata": {
    "tags": []
   },
   "outputs": [],
   "source": [
    "def filter_3(df_nnlist, dict_2):\n",
    "    bool_list_3 = []\n",
    "    for k, v in dict_2.items():\n",
    "        bool_list_3.append(set(df_nnlist.iloc[dict_2[k]].sort_values(by='rel_distance')['neighboring_atom_symbol'].tolist()[1:4]) == {'O'})\n",
    "    df_nnlist_central_atom_ids_fillterd_3 = np.array(list(dict_2.keys()))[bool_list_3]\n",
    "    filtered_3_df_nnlist_group_dict = {key: dict_2[key] for key in dict_2.keys() if key in df_nnlist_central_atom_ids_fillterd_3}\n",
    "    bool_filter_3 = len(df_nnlist_central_atom_ids_fillterd_3) >= 1\n",
    "    return bool_filter_3, filtered_3_df_nnlist_group_dict"
   ]
  },
  {
   "cell_type": "code",
   "execution_count": 18,
   "id": "fa0a4486-6b22-4423-b3e6-bdf0e4424999",
   "metadata": {
    "tags": []
   },
   "outputs": [],
   "source": [
    "bool_3, dict_3 = filter_3(df_nnlist=df_nnlist, dict_2=dict_2)"
   ]
  },
  {
   "cell_type": "code",
   "execution_count": 19,
   "id": "9289e259-58a7-47b2-bd7a-8f0439a195e7",
   "metadata": {
    "tags": []
   },
   "outputs": [
    {
     "data": {
      "text/plain": [
       "True"
      ]
     },
     "execution_count": 19,
     "metadata": {},
     "output_type": "execute_result"
    }
   ],
   "source": [
    "bool_3"
   ]
  },
  {
   "cell_type": "code",
   "execution_count": 20,
   "id": "a34b7945-6b3f-4432-88ed-fa6851b803d0",
   "metadata": {
    "tags": []
   },
   "outputs": [
    {
     "data": {
      "text/plain": [
       "{'21': Int64Index([1127, 1128, 1129, 1130, 1131, 1132, 1133, 1134, 1135, 1136, 1137,\n",
       "             1138, 1139, 1140, 1141, 1142, 1143, 1144, 1145, 1146, 1147, 1148,\n",
       "             1149, 1150, 1151, 1152, 1153, 1154, 1155, 1156, 1157, 1158, 1159,\n",
       "             1160, 1161, 1162, 1163, 1164, 1165, 1166, 1167, 1168, 1169, 1170,\n",
       "             1171, 1172, 1173, 1174, 1175, 1176, 1177, 1178, 1179, 1180, 1181,\n",
       "             1182, 1183, 1184, 1185],\n",
       "            dtype='int64')}"
      ]
     },
     "execution_count": 20,
     "metadata": {},
     "output_type": "execute_result"
    }
   ],
   "source": [
    "dict_3"
   ]
  },
  {
   "cell_type": "markdown",
   "id": "289b8ea4-7126-49c2-bf8a-69140b009563",
   "metadata": {},
   "source": [
    "### 4．2．の中心原子Cに対して4番目に近い原子が存在しない．→ 条件1をクリア．それ以外→アウト\n"
   ]
  },
  {
   "cell_type": "code",
   "execution_count": 29,
   "id": "5f96f5f6-275a-4590-9664-6058bd4e5b08",
   "metadata": {
    "tags": []
   },
   "outputs": [
    {
     "data": {
      "text/plain": [
       "['C', 'O', 'O', 'O']"
      ]
     },
     "execution_count": 29,
     "metadata": {},
     "output_type": "execute_result"
    }
   ],
   "source": [
    "df_nnlist.iloc[dict_3['1']].sort_values(by='rel_distance')['neighboring_atom_symbol'].tolist()"
   ]
  },
  {
   "cell_type": "code",
   "execution_count": 30,
   "id": "72e86265-1f4b-4c85-b559-d8ddff22fb8a",
   "metadata": {
    "tags": []
   },
   "outputs": [
    {
     "data": {
      "text/plain": [
       "4"
      ]
     },
     "execution_count": 30,
     "metadata": {},
     "output_type": "execute_result"
    }
   ],
   "source": [
    "len(df_nnlist.iloc[dict_3['1']].sort_values(by='rel_distance')['neighboring_atom_symbol'].tolist())"
   ]
  },
  {
   "cell_type": "markdown",
   "id": "ee5cc56b-1ef7-4ce2-a157-384d44cee0f3",
   "metadata": {},
   "source": [
    "#### 4.の関数化"
   ]
  },
  {
   "cell_type": "code",
   "execution_count": 21,
   "id": "cd176d82-3428-469c-8c46-d7e64df70b4a",
   "metadata": {
    "tags": []
   },
   "outputs": [],
   "source": [
    "def filter_4(df_nnlist, dict_3):\n",
    "    bool_list_4 = []\n",
    "    for k, v in dict_3.items():\n",
    "        bool_list_4.append(len(df_nnlist.iloc[dict_3[k]].sort_values(by='rel_distance')['neighboring_atom_symbol'].tolist()) == 4)\n",
    "    df_nnlist_central_atom_ids_fillterd_4 = np.array(list(dict_3.keys()))[bool_list_4]\n",
    "    filtered_4_df_nnlist_group_dict = {key: dict_3[key] for key in dict_3.keys() if key in df_nnlist_central_atom_ids_fillterd_4}\n",
    "    bool_filter_4 = len(df_nnlist_central_atom_ids_fillterd_4) >= 1\n",
    "    return bool_filter_4, filtered_4_df_nnlist_group_dict"
   ]
  },
  {
   "cell_type": "code",
   "execution_count": 22,
   "id": "381d63b7-4df0-4920-8bb6-59adfe738474",
   "metadata": {
    "tags": []
   },
   "outputs": [],
   "source": [
    "bool_4, dict_4 = filter_4(df_nnlist=df_nnlist, dict_3=dict_3)"
   ]
  },
  {
   "cell_type": "code",
   "execution_count": 23,
   "id": "c3d52d39-07db-46ec-abc9-8a736fcaefa0",
   "metadata": {
    "tags": []
   },
   "outputs": [
    {
     "data": {
      "text/plain": [
       "False"
      ]
     },
     "execution_count": 23,
     "metadata": {},
     "output_type": "execute_result"
    }
   ],
   "source": [
    "bool_4"
   ]
  },
  {
   "cell_type": "code",
   "execution_count": 24,
   "id": "81c6cb1e-4327-48e9-9ef0-eece28f9a801",
   "metadata": {
    "tags": []
   },
   "outputs": [
    {
     "data": {
      "text/plain": [
       "{}"
      ]
     },
     "execution_count": 24,
     "metadata": {},
     "output_type": "execute_result"
    }
   ],
   "source": [
    "dict_4"
   ]
  },
  {
   "cell_type": "markdown",
   "id": "2f23ad80-b930-4fa7-87b8-0138279de4b7",
   "metadata": {},
   "source": [
    "### 5．2．の中心原子Cに対して4番目に近い原子が，Cに3番目に近い原子OとCのCO距離より大きい．→ 条件1をクリア．"
   ]
  },
  {
   "cell_type": "code",
   "execution_count": 18,
   "id": "c1856f75-047a-46da-98fe-8eb6e9786b0b",
   "metadata": {
    "tags": []
   },
   "outputs": [
    {
     "data": {
      "text/plain": [
       "{}"
      ]
     },
     "execution_count": 18,
     "metadata": {},
     "output_type": "execute_result"
    }
   ],
   "source": [
    "dict_4"
   ]
  },
  {
   "cell_type": "code",
   "execution_count": 18,
   "id": "0e8e1e15-be83-4f2b-8c78-189dfbdb3b82",
   "metadata": {
    "tags": []
   },
   "outputs": [
    {
     "data": {
      "text/html": [
       "<div>\n",
       "<style scoped>\n",
       "    .dataframe tbody tr th:only-of-type {\n",
       "        vertical-align: middle;\n",
       "    }\n",
       "\n",
       "    .dataframe tbody tr th {\n",
       "        vertical-align: top;\n",
       "    }\n",
       "\n",
       "    .dataframe thead th {\n",
       "        text-align: right;\n",
       "    }\n",
       "</style>\n",
       "<table border=\"1\" class=\"dataframe\">\n",
       "  <thead>\n",
       "    <tr style=\"text-align: right;\">\n",
       "      <th></th>\n",
       "      <th>central_atom_id</th>\n",
       "      <th>neighboring_atom_id</th>\n",
       "      <th>rel_distance</th>\n",
       "      <th>rel_x</th>\n",
       "      <th>rel_y</th>\n",
       "      <th>rel_z</th>\n",
       "      <th>unitcell_x</th>\n",
       "      <th>unitcell_y</th>\n",
       "      <th>unitcell_z</th>\n",
       "      <th>central_atom_symbol</th>\n",
       "      <th>neighboring_atom_symbol</th>\n",
       "    </tr>\n",
       "  </thead>\n",
       "  <tbody>\n",
       "    <tr>\n",
       "      <th>0</th>\n",
       "      <td>1</td>\n",
       "      <td>1</td>\n",
       "      <td>0.000000</td>\n",
       "      <td>0.000000</td>\n",
       "      <td>0.000000</td>\n",
       "      <td>0.000000</td>\n",
       "      <td>0</td>\n",
       "      <td>0</td>\n",
       "      <td>0</td>\n",
       "      <td>C</td>\n",
       "      <td>C</td>\n",
       "    </tr>\n",
       "    <tr>\n",
       "      <th>1</th>\n",
       "      <td>1</td>\n",
       "      <td>9</td>\n",
       "      <td>1.282630</td>\n",
       "      <td>0.000000</td>\n",
       "      <td>1.281885</td>\n",
       "      <td>-0.043713</td>\n",
       "      <td>0</td>\n",
       "      <td>0</td>\n",
       "      <td>0</td>\n",
       "      <td>C</td>\n",
       "      <td>O</td>\n",
       "    </tr>\n",
       "    <tr>\n",
       "      <th>2</th>\n",
       "      <td>1</td>\n",
       "      <td>13</td>\n",
       "      <td>1.289100</td>\n",
       "      <td>1.112990</td>\n",
       "      <td>-0.650283</td>\n",
       "      <td>0.012857</td>\n",
       "      <td>0</td>\n",
       "      <td>0</td>\n",
       "      <td>0</td>\n",
       "      <td>C</td>\n",
       "      <td>O</td>\n",
       "    </tr>\n",
       "    <tr>\n",
       "      <th>3</th>\n",
       "      <td>1</td>\n",
       "      <td>16</td>\n",
       "      <td>1.289100</td>\n",
       "      <td>-1.112990</td>\n",
       "      <td>-0.650283</td>\n",
       "      <td>0.012857</td>\n",
       "      <td>0</td>\n",
       "      <td>0</td>\n",
       "      <td>0</td>\n",
       "      <td>C</td>\n",
       "      <td>O</td>\n",
       "    </tr>\n",
       "  </tbody>\n",
       "</table>\n",
       "</div>"
      ],
      "text/plain": [
       "  central_atom_id neighboring_atom_id  rel_distance     rel_x     rel_y  \\\n",
       "0               1                   1      0.000000  0.000000  0.000000   \n",
       "1               1                   9      1.282630  0.000000  1.281885   \n",
       "2               1                  13      1.289100  1.112990 -0.650283   \n",
       "3               1                  16      1.289100 -1.112990 -0.650283   \n",
       "\n",
       "      rel_z  unitcell_x  unitcell_y  unitcell_z central_atom_symbol  \\\n",
       "0  0.000000           0           0           0                   C   \n",
       "1 -0.043713           0           0           0                   C   \n",
       "2  0.012857           0           0           0                   C   \n",
       "3  0.012857           0           0           0                   C   \n",
       "\n",
       "  neighboring_atom_symbol  \n",
       "0                       C  \n",
       "1                       O  \n",
       "2                       O  \n",
       "3                       O  "
      ]
     },
     "execution_count": 18,
     "metadata": {},
     "output_type": "execute_result"
    }
   ],
   "source": [
    "df_nnlist.iloc[dict_4['1']].sort_values(by='rel_distance')"
   ]
  },
  {
   "cell_type": "code",
   "execution_count": 19,
   "id": "dac209cc-6280-41fd-804b-2eba180d3ff8",
   "metadata": {
    "tags": []
   },
   "outputs": [
    {
     "data": {
      "text/plain": [
       "0   0.000000\n",
       "1   1.282630\n",
       "2   1.289100\n",
       "3   1.289100\n",
       "Name: rel_distance, dtype: float64"
      ]
     },
     "execution_count": 19,
     "metadata": {},
     "output_type": "execute_result"
    }
   ],
   "source": [
    "df_nnlist.iloc[dict_4['1']].sort_values(by='rel_distance')['rel_distance']"
   ]
  },
  {
   "cell_type": "code",
   "execution_count": 24,
   "id": "b3f80011-656a-4d18-9aca-91a1d5445678",
   "metadata": {
    "tags": []
   },
   "outputs": [
    {
     "data": {
      "text/plain": [
       "1.2891"
      ]
     },
     "execution_count": 24,
     "metadata": {},
     "output_type": "execute_result"
    }
   ],
   "source": [
    "third_CO_bond_dist = df_nnlist.iloc[dict_4['1']].sort_values(by='rel_distance')['rel_distance'].tolist()[3]\n",
    "third_CO_bond_dist"
   ]
  },
  {
   "cell_type": "code",
   "execution_count": 22,
   "id": "f16dbd08-b223-4c22-8518-b9e366180578",
   "metadata": {
    "tags": []
   },
   "outputs": [],
   "source": [
    "forth_dist = df_nnlist.iloc[dict_4['1']].sort_values(by='rel_distance')['rel_distance'].tolist()[4]"
   ]
  },
  {
   "cell_type": "code",
   "execution_count": null,
   "id": "837e108e-7353-46a8-9ef3-0d9e86a41fd5",
   "metadata": {},
   "outputs": [],
   "source": [
    "third_CO_bond_dist < forth_dist"
   ]
  },
  {
   "cell_type": "code",
   "execution_count": null,
   "id": "f76ffd19-da01-46e9-b92b-05653552f3b4",
   "metadata": {},
   "outputs": [],
   "source": [
    "bool_list_5 = []\n",
    "for k, v in dict_4.items():\n",
    "    third_CO_bond_dist = df_nnlist.iloc[dict_4[k]].sort_values(by='rel_distance')['rel_distance'].tolist()[3]\n",
    "    forth_dist = df_nnlist.iloc[dict_4['1']].sort_values(by='rel_distance')['rel_distance'].tolist()[4]\n",
    "    bool_list_5.append(third_CO_bond_dist < forth_dist)\n",
    "df_nnlist_central_atom_ids_fillterd_5 = np.array(list(dict_4.keys()))[bool_list_5]"
   ]
  },
  {
   "cell_type": "markdown",
   "id": "d455c0cb-b7b0-48b9-8fd1-56c97a701442",
   "metadata": {},
   "source": [
    "#### 5.の関数化"
   ]
  },
  {
   "cell_type": "code",
   "execution_count": 25,
   "id": "4ea0f74f-947c-49b0-86eb-40792ce6a306",
   "metadata": {
    "tags": []
   },
   "outputs": [],
   "source": [
    "def filter_5(df_nnlist, dict_3):\n",
    "    bool_list_5 = []\n",
    "    for k, v in dict_3.items():\n",
    "        third_CO_bond_dist = df_nnlist.iloc[dict_3[k]].sort_values(by='rel_distance')['rel_distance'].tolist()[3]\n",
    "        forth_dist = df_nnlist.iloc[dict_3[k]].sort_values(by='rel_distance')['rel_distance'].tolist()[4]\n",
    "        bool_list_5.append(third_CO_bond_dist < forth_dist)\n",
    "    df_nnlist_central_atom_ids_fillterd_5 = np.array(list(dict_3.keys()))[bool_list_5]\n",
    "    filtered_5_df_nnlist_group_dict = {key: dict_3[key] for key in dict_3.keys() if key in df_nnlist_central_atom_ids_fillterd_5}\n",
    "    bool_filter_5 = len(df_nnlist_central_atom_ids_fillterd_5) >= 1\n",
    "\n",
    "    return bool_filter_5, filtered_5_df_nnlist_group_dict"
   ]
  },
  {
   "cell_type": "code",
   "execution_count": 26,
   "id": "e198ee90-f6e1-4a74-8277-d3195495deaf",
   "metadata": {},
   "outputs": [],
   "source": [
    "bool_5, dict_5 = filter_5(df_nnlist=df_nnlist, dict_3=dict_3)"
   ]
  },
  {
   "cell_type": "code",
   "execution_count": 27,
   "id": "fe446101-82f7-4945-a180-0dd7623de98e",
   "metadata": {
    "tags": []
   },
   "outputs": [
    {
     "data": {
      "text/plain": [
       "True"
      ]
     },
     "execution_count": 27,
     "metadata": {},
     "output_type": "execute_result"
    }
   ],
   "source": [
    "bool_5"
   ]
  },
  {
   "cell_type": "code",
   "execution_count": 28,
   "id": "1cc2a6c2-c88c-4fa7-aa3e-b1dbcfaeeab6",
   "metadata": {},
   "outputs": [
    {
     "data": {
      "text/plain": [
       "{'21': Int64Index([1127, 1128, 1129, 1130, 1131, 1132, 1133, 1134, 1135, 1136, 1137,\n",
       "             1138, 1139, 1140, 1141, 1142, 1143, 1144, 1145, 1146, 1147, 1148,\n",
       "             1149, 1150, 1151, 1152, 1153, 1154, 1155, 1156, 1157, 1158, 1159,\n",
       "             1160, 1161, 1162, 1163, 1164, 1165, 1166, 1167, 1168, 1169, 1170,\n",
       "             1171, 1172, 1173, 1174, 1175, 1176, 1177, 1178, 1179, 1180, 1181,\n",
       "             1182, 1183, 1184, 1185],\n",
       "            dtype='int64')}"
      ]
     },
     "execution_count": 28,
     "metadata": {},
     "output_type": "execute_result"
    }
   ],
   "source": [
    "dict_5"
   ]
  },
  {
   "cell_type": "markdown",
   "id": "ec33f866-e670-46a2-a4f3-6ad1551c4484",
   "metadata": {},
   "source": [
    "### 6．3．の3つの原子O全てに対して，3．の中心の原子Cとの距離以内に，中心原子C以外の別の原子が存在しない．"
   ]
  },
  {
   "cell_type": "code",
   "execution_count": 32,
   "id": "db1e3a59-7870-4dfa-81ca-c8640313f45d",
   "metadata": {
    "tags": []
   },
   "outputs": [
    {
     "data": {
      "text/plain": [
       "{'5': Int64Index([148, 149, 150, 151, 152, 153, 154, 155, 156, 157, 158, 159, 160,\n",
       "             161, 162, 163, 164, 165, 166, 167, 168, 169, 170, 171, 172, 173,\n",
       "             174, 175],\n",
       "            dtype='int64'),\n",
       " '6': Int64Index([176, 177, 178, 179, 180, 181, 182, 183, 184, 185, 186, 187, 188,\n",
       "             189, 190, 191, 192, 193, 194, 195, 196, 197, 198, 199, 200, 201,\n",
       "             202, 203],\n",
       "            dtype='int64'),\n",
       " '7': Int64Index([204, 205, 206, 207, 208, 209, 210, 211, 212, 213, 214, 215, 216,\n",
       "             217, 218, 219, 220, 221, 222, 223, 224, 225, 226, 227, 228, 229,\n",
       "             230, 231],\n",
       "            dtype='int64'),\n",
       " '8': Int64Index([232, 233, 234, 235, 236, 237, 238, 239, 240, 241, 242, 243, 244,\n",
       "             245, 246, 247, 248, 249, 250, 251, 252, 253, 254, 255, 256, 257,\n",
       "             258, 259],\n",
       "            dtype='int64')}"
      ]
     },
     "execution_count": 32,
     "metadata": {},
     "output_type": "execute_result"
    }
   ],
   "source": [
    "dict_5"
   ]
  },
  {
   "cell_type": "code",
   "execution_count": 37,
   "id": "566aaeb3-dcf4-4050-be41-fca0218ea224",
   "metadata": {
    "tags": []
   },
   "outputs": [
    {
     "data": {
      "text/html": [
       "<div>\n",
       "<style scoped>\n",
       "    .dataframe tbody tr th:only-of-type {\n",
       "        vertical-align: middle;\n",
       "    }\n",
       "\n",
       "    .dataframe tbody tr th {\n",
       "        vertical-align: top;\n",
       "    }\n",
       "\n",
       "    .dataframe thead th {\n",
       "        text-align: right;\n",
       "    }\n",
       "</style>\n",
       "<table border=\"1\" class=\"dataframe\">\n",
       "  <thead>\n",
       "    <tr style=\"text-align: right;\">\n",
       "      <th></th>\n",
       "      <th>central_atom_id</th>\n",
       "      <th>neighboring_atom_id</th>\n",
       "      <th>rel_distance</th>\n",
       "      <th>rel_x</th>\n",
       "      <th>rel_y</th>\n",
       "      <th>rel_z</th>\n",
       "      <th>unitcell_x</th>\n",
       "      <th>unitcell_y</th>\n",
       "      <th>unitcell_z</th>\n",
       "      <th>central_atom_symbol</th>\n",
       "      <th>neighboring_atom_symbol</th>\n",
       "    </tr>\n",
       "  </thead>\n",
       "  <tbody>\n",
       "    <tr>\n",
       "      <th>154</th>\n",
       "      <td>5</td>\n",
       "      <td>5</td>\n",
       "      <td>0.000000</td>\n",
       "      <td>0.000000</td>\n",
       "      <td>0.000000</td>\n",
       "      <td>0.000000</td>\n",
       "      <td>0</td>\n",
       "      <td>0</td>\n",
       "      <td>0</td>\n",
       "      <td>C</td>\n",
       "      <td>C</td>\n",
       "    </tr>\n",
       "    <tr>\n",
       "      <th>157</th>\n",
       "      <td>5</td>\n",
       "      <td>9</td>\n",
       "      <td>1.282630</td>\n",
       "      <td>0.000000</td>\n",
       "      <td>1.281885</td>\n",
       "      <td>-0.043713</td>\n",
       "      <td>0</td>\n",
       "      <td>0</td>\n",
       "      <td>0</td>\n",
       "      <td>C</td>\n",
       "      <td>O</td>\n",
       "    </tr>\n",
       "    <tr>\n",
       "      <th>165</th>\n",
       "      <td>5</td>\n",
       "      <td>13</td>\n",
       "      <td>1.289100</td>\n",
       "      <td>1.112990</td>\n",
       "      <td>-0.650283</td>\n",
       "      <td>0.012857</td>\n",
       "      <td>0</td>\n",
       "      <td>0</td>\n",
       "      <td>0</td>\n",
       "      <td>C</td>\n",
       "      <td>O</td>\n",
       "    </tr>\n",
       "    <tr>\n",
       "      <th>169</th>\n",
       "      <td>5</td>\n",
       "      <td>16</td>\n",
       "      <td>1.289100</td>\n",
       "      <td>-1.112990</td>\n",
       "      <td>-0.650283</td>\n",
       "      <td>0.012857</td>\n",
       "      <td>0</td>\n",
       "      <td>0</td>\n",
       "      <td>0</td>\n",
       "      <td>C</td>\n",
       "      <td>O</td>\n",
       "    </tr>\n",
       "    <tr>\n",
       "      <th>148</th>\n",
       "      <td>5</td>\n",
       "      <td>1</td>\n",
       "      <td>3.209053</td>\n",
       "      <td>0.000000</td>\n",
       "      <td>-3.030710</td>\n",
       "      <td>-1.054900</td>\n",
       "      <td>0</td>\n",
       "      <td>0</td>\n",
       "      <td>0</td>\n",
       "      <td>C</td>\n",
       "      <td>Ba</td>\n",
       "    </tr>\n",
       "    <tr>\n",
       "      <th>153</th>\n",
       "      <td>5</td>\n",
       "      <td>4</td>\n",
       "      <td>3.211550</td>\n",
       "      <td>2.656300</td>\n",
       "      <td>1.417190</td>\n",
       "      <td>-1.117899</td>\n",
       "      <td>0</td>\n",
       "      <td>0</td>\n",
       "      <td>0</td>\n",
       "      <td>C</td>\n",
       "      <td>Ba</td>\n",
       "    </tr>\n",
       "    <tr>\n",
       "      <th>152</th>\n",
       "      <td>5</td>\n",
       "      <td>4</td>\n",
       "      <td>3.211550</td>\n",
       "      <td>-2.656300</td>\n",
       "      <td>1.417190</td>\n",
       "      <td>-1.117899</td>\n",
       "      <td>-1</td>\n",
       "      <td>0</td>\n",
       "      <td>0</td>\n",
       "      <td>C</td>\n",
       "      <td>Ba</td>\n",
       "    </tr>\n",
       "    <tr>\n",
       "      <th>155</th>\n",
       "      <td>5</td>\n",
       "      <td>6</td>\n",
       "      <td>3.216612</td>\n",
       "      <td>0.000000</td>\n",
       "      <td>-0.124541</td>\n",
       "      <td>-3.214200</td>\n",
       "      <td>0</td>\n",
       "      <td>0</td>\n",
       "      <td>0</td>\n",
       "      <td>C</td>\n",
       "      <td>C</td>\n",
       "    </tr>\n",
       "    <tr>\n",
       "      <th>156</th>\n",
       "      <td>5</td>\n",
       "      <td>6</td>\n",
       "      <td>3.216612</td>\n",
       "      <td>0.000000</td>\n",
       "      <td>-0.124541</td>\n",
       "      <td>3.214200</td>\n",
       "      <td>0</td>\n",
       "      <td>0</td>\n",
       "      <td>1</td>\n",
       "      <td>C</td>\n",
       "      <td>C</td>\n",
       "    </tr>\n",
       "    <tr>\n",
       "      <th>166</th>\n",
       "      <td>5</td>\n",
       "      <td>14</td>\n",
       "      <td>3.429832</td>\n",
       "      <td>-1.112990</td>\n",
       "      <td>0.525742</td>\n",
       "      <td>-3.201343</td>\n",
       "      <td>0</td>\n",
       "      <td>0</td>\n",
       "      <td>0</td>\n",
       "      <td>C</td>\n",
       "      <td>O</td>\n",
       "    </tr>\n",
       "    <tr>\n",
       "      <th>171</th>\n",
       "      <td>5</td>\n",
       "      <td>17</td>\n",
       "      <td>3.429832</td>\n",
       "      <td>1.112990</td>\n",
       "      <td>0.525742</td>\n",
       "      <td>-3.201343</td>\n",
       "      <td>0</td>\n",
       "      <td>0</td>\n",
       "      <td>0</td>\n",
       "      <td>C</td>\n",
       "      <td>O</td>\n",
       "    </tr>\n",
       "    <tr>\n",
       "      <th>172</th>\n",
       "      <td>5</td>\n",
       "      <td>17</td>\n",
       "      <td>3.453845</td>\n",
       "      <td>1.112990</td>\n",
       "      <td>0.525742</td>\n",
       "      <td>3.227057</td>\n",
       "      <td>0</td>\n",
       "      <td>0</td>\n",
       "      <td>1</td>\n",
       "      <td>C</td>\n",
       "      <td>O</td>\n",
       "    </tr>\n",
       "    <tr>\n",
       "      <th>167</th>\n",
       "      <td>5</td>\n",
       "      <td>14</td>\n",
       "      <td>3.453845</td>\n",
       "      <td>-1.112990</td>\n",
       "      <td>0.525742</td>\n",
       "      <td>3.227057</td>\n",
       "      <td>0</td>\n",
       "      <td>0</td>\n",
       "      <td>1</td>\n",
       "      <td>C</td>\n",
       "      <td>O</td>\n",
       "    </tr>\n",
       "    <tr>\n",
       "      <th>159</th>\n",
       "      <td>5</td>\n",
       "      <td>10</td>\n",
       "      <td>3.468432</td>\n",
       "      <td>0.000000</td>\n",
       "      <td>-1.406426</td>\n",
       "      <td>3.170487</td>\n",
       "      <td>0</td>\n",
       "      <td>0</td>\n",
       "      <td>1</td>\n",
       "      <td>C</td>\n",
       "      <td>O</td>\n",
       "    </tr>\n",
       "    <tr>\n",
       "      <th>158</th>\n",
       "      <td>5</td>\n",
       "      <td>10</td>\n",
       "      <td>3.548525</td>\n",
       "      <td>0.000000</td>\n",
       "      <td>-1.406426</td>\n",
       "      <td>-3.257913</td>\n",
       "      <td>0</td>\n",
       "      <td>0</td>\n",
       "      <td>0</td>\n",
       "      <td>C</td>\n",
       "      <td>O</td>\n",
       "    </tr>\n",
       "    <tr>\n",
       "      <th>149</th>\n",
       "      <td>5</td>\n",
       "      <td>2</td>\n",
       "      <td>3.620551</td>\n",
       "      <td>0.000000</td>\n",
       "      <td>2.906169</td>\n",
       "      <td>2.159300</td>\n",
       "      <td>0</td>\n",
       "      <td>1</td>\n",
       "      <td>1</td>\n",
       "      <td>C</td>\n",
       "      <td>Ba</td>\n",
       "    </tr>\n",
       "    <tr>\n",
       "      <th>151</th>\n",
       "      <td>5</td>\n",
       "      <td>3</td>\n",
       "      <td>3.718514</td>\n",
       "      <td>2.656300</td>\n",
       "      <td>-1.541731</td>\n",
       "      <td>2.096301</td>\n",
       "      <td>0</td>\n",
       "      <td>0</td>\n",
       "      <td>1</td>\n",
       "      <td>C</td>\n",
       "      <td>Ba</td>\n",
       "    </tr>\n",
       "    <tr>\n",
       "      <th>150</th>\n",
       "      <td>5</td>\n",
       "      <td>3</td>\n",
       "      <td>3.718514</td>\n",
       "      <td>-2.656300</td>\n",
       "      <td>-1.541731</td>\n",
       "      <td>2.096301</td>\n",
       "      <td>-1</td>\n",
       "      <td>0</td>\n",
       "      <td>1</td>\n",
       "      <td>C</td>\n",
       "      <td>Ba</td>\n",
       "    </tr>\n",
       "    <tr>\n",
       "      <th>161</th>\n",
       "      <td>5</td>\n",
       "      <td>11</td>\n",
       "      <td>4.181383</td>\n",
       "      <td>2.656300</td>\n",
       "      <td>3.041474</td>\n",
       "      <td>1.085114</td>\n",
       "      <td>0</td>\n",
       "      <td>1</td>\n",
       "      <td>1</td>\n",
       "      <td>C</td>\n",
       "      <td>O</td>\n",
       "    </tr>\n",
       "    <tr>\n",
       "      <th>160</th>\n",
       "      <td>5</td>\n",
       "      <td>11</td>\n",
       "      <td>4.181383</td>\n",
       "      <td>-2.656300</td>\n",
       "      <td>3.041474</td>\n",
       "      <td>1.085114</td>\n",
       "      <td>-1</td>\n",
       "      <td>1</td>\n",
       "      <td>1</td>\n",
       "      <td>C</td>\n",
       "      <td>O</td>\n",
       "    </tr>\n",
       "    <tr>\n",
       "      <th>170</th>\n",
       "      <td>5</td>\n",
       "      <td>16</td>\n",
       "      <td>4.249678</td>\n",
       "      <td>4.199610</td>\n",
       "      <td>-0.650283</td>\n",
       "      <td>0.012857</td>\n",
       "      <td>1</td>\n",
       "      <td>0</td>\n",
       "      <td>0</td>\n",
       "      <td>C</td>\n",
       "      <td>O</td>\n",
       "    </tr>\n",
       "    <tr>\n",
       "      <th>164</th>\n",
       "      <td>5</td>\n",
       "      <td>13</td>\n",
       "      <td>4.249678</td>\n",
       "      <td>-4.199610</td>\n",
       "      <td>-0.650283</td>\n",
       "      <td>0.012857</td>\n",
       "      <td>-1</td>\n",
       "      <td>0</td>\n",
       "      <td>0</td>\n",
       "      <td>C</td>\n",
       "      <td>O</td>\n",
       "    </tr>\n",
       "    <tr>\n",
       "      <th>168</th>\n",
       "      <td>5</td>\n",
       "      <td>15</td>\n",
       "      <td>4.338552</td>\n",
       "      <td>1.543310</td>\n",
       "      <td>-3.922158</td>\n",
       "      <td>1.028544</td>\n",
       "      <td>0</td>\n",
       "      <td>0</td>\n",
       "      <td>1</td>\n",
       "      <td>C</td>\n",
       "      <td>O</td>\n",
       "    </tr>\n",
       "    <tr>\n",
       "      <th>174</th>\n",
       "      <td>5</td>\n",
       "      <td>19</td>\n",
       "      <td>4.338552</td>\n",
       "      <td>-1.543310</td>\n",
       "      <td>-3.922158</td>\n",
       "      <td>1.028544</td>\n",
       "      <td>-1</td>\n",
       "      <td>0</td>\n",
       "      <td>1</td>\n",
       "      <td>C</td>\n",
       "      <td>O</td>\n",
       "    </tr>\n",
       "    <tr>\n",
       "      <th>173</th>\n",
       "      <td>5</td>\n",
       "      <td>18</td>\n",
       "      <td>4.645513</td>\n",
       "      <td>-1.543310</td>\n",
       "      <td>3.797617</td>\n",
       "      <td>-2.185656</td>\n",
       "      <td>-1</td>\n",
       "      <td>1</td>\n",
       "      <td>0</td>\n",
       "      <td>C</td>\n",
       "      <td>O</td>\n",
       "    </tr>\n",
       "    <tr>\n",
       "      <th>175</th>\n",
       "      <td>5</td>\n",
       "      <td>20</td>\n",
       "      <td>4.645513</td>\n",
       "      <td>1.543310</td>\n",
       "      <td>3.797617</td>\n",
       "      <td>-2.185656</td>\n",
       "      <td>0</td>\n",
       "      <td>1</td>\n",
       "      <td>0</td>\n",
       "      <td>C</td>\n",
       "      <td>O</td>\n",
       "    </tr>\n",
       "    <tr>\n",
       "      <th>163</th>\n",
       "      <td>5</td>\n",
       "      <td>12</td>\n",
       "      <td>4.648934</td>\n",
       "      <td>2.656300</td>\n",
       "      <td>-3.166015</td>\n",
       "      <td>-2.129086</td>\n",
       "      <td>0</td>\n",
       "      <td>0</td>\n",
       "      <td>0</td>\n",
       "      <td>C</td>\n",
       "      <td>O</td>\n",
       "    </tr>\n",
       "    <tr>\n",
       "      <th>162</th>\n",
       "      <td>5</td>\n",
       "      <td>12</td>\n",
       "      <td>4.648934</td>\n",
       "      <td>-2.656300</td>\n",
       "      <td>-3.166015</td>\n",
       "      <td>-2.129086</td>\n",
       "      <td>-1</td>\n",
       "      <td>0</td>\n",
       "      <td>0</td>\n",
       "      <td>C</td>\n",
       "      <td>O</td>\n",
       "    </tr>\n",
       "  </tbody>\n",
       "</table>\n",
       "</div>"
      ],
      "text/plain": [
       "    central_atom_id neighboring_atom_id  rel_distance     rel_x     rel_y  \\\n",
       "154               5                   5      0.000000  0.000000  0.000000   \n",
       "157               5                   9      1.282630  0.000000  1.281885   \n",
       "165               5                  13      1.289100  1.112990 -0.650283   \n",
       "169               5                  16      1.289100 -1.112990 -0.650283   \n",
       "148               5                   1      3.209053  0.000000 -3.030710   \n",
       "153               5                   4      3.211550  2.656300  1.417190   \n",
       "152               5                   4      3.211550 -2.656300  1.417190   \n",
       "155               5                   6      3.216612  0.000000 -0.124541   \n",
       "156               5                   6      3.216612  0.000000 -0.124541   \n",
       "166               5                  14      3.429832 -1.112990  0.525742   \n",
       "171               5                  17      3.429832  1.112990  0.525742   \n",
       "172               5                  17      3.453845  1.112990  0.525742   \n",
       "167               5                  14      3.453845 -1.112990  0.525742   \n",
       "159               5                  10      3.468432  0.000000 -1.406426   \n",
       "158               5                  10      3.548525  0.000000 -1.406426   \n",
       "149               5                   2      3.620551  0.000000  2.906169   \n",
       "151               5                   3      3.718514  2.656300 -1.541731   \n",
       "150               5                   3      3.718514 -2.656300 -1.541731   \n",
       "161               5                  11      4.181383  2.656300  3.041474   \n",
       "160               5                  11      4.181383 -2.656300  3.041474   \n",
       "170               5                  16      4.249678  4.199610 -0.650283   \n",
       "164               5                  13      4.249678 -4.199610 -0.650283   \n",
       "168               5                  15      4.338552  1.543310 -3.922158   \n",
       "174               5                  19      4.338552 -1.543310 -3.922158   \n",
       "173               5                  18      4.645513 -1.543310  3.797617   \n",
       "175               5                  20      4.645513  1.543310  3.797617   \n",
       "163               5                  12      4.648934  2.656300 -3.166015   \n",
       "162               5                  12      4.648934 -2.656300 -3.166015   \n",
       "\n",
       "        rel_z  unitcell_x  unitcell_y  unitcell_z central_atom_symbol  \\\n",
       "154  0.000000           0           0           0                   C   \n",
       "157 -0.043713           0           0           0                   C   \n",
       "165  0.012857           0           0           0                   C   \n",
       "169  0.012857           0           0           0                   C   \n",
       "148 -1.054900           0           0           0                   C   \n",
       "153 -1.117899           0           0           0                   C   \n",
       "152 -1.117899          -1           0           0                   C   \n",
       "155 -3.214200           0           0           0                   C   \n",
       "156  3.214200           0           0           1                   C   \n",
       "166 -3.201343           0           0           0                   C   \n",
       "171 -3.201343           0           0           0                   C   \n",
       "172  3.227057           0           0           1                   C   \n",
       "167  3.227057           0           0           1                   C   \n",
       "159  3.170487           0           0           1                   C   \n",
       "158 -3.257913           0           0           0                   C   \n",
       "149  2.159300           0           1           1                   C   \n",
       "151  2.096301           0           0           1                   C   \n",
       "150  2.096301          -1           0           1                   C   \n",
       "161  1.085114           0           1           1                   C   \n",
       "160  1.085114          -1           1           1                   C   \n",
       "170  0.012857           1           0           0                   C   \n",
       "164  0.012857          -1           0           0                   C   \n",
       "168  1.028544           0           0           1                   C   \n",
       "174  1.028544          -1           0           1                   C   \n",
       "173 -2.185656          -1           1           0                   C   \n",
       "175 -2.185656           0           1           0                   C   \n",
       "163 -2.129086           0           0           0                   C   \n",
       "162 -2.129086          -1           0           0                   C   \n",
       "\n",
       "    neighboring_atom_symbol  \n",
       "154                       C  \n",
       "157                       O  \n",
       "165                       O  \n",
       "169                       O  \n",
       "148                      Ba  \n",
       "153                      Ba  \n",
       "152                      Ba  \n",
       "155                       C  \n",
       "156                       C  \n",
       "166                       O  \n",
       "171                       O  \n",
       "172                       O  \n",
       "167                       O  \n",
       "159                       O  \n",
       "158                       O  \n",
       "149                      Ba  \n",
       "151                      Ba  \n",
       "150                      Ba  \n",
       "161                       O  \n",
       "160                       O  \n",
       "170                       O  \n",
       "164                       O  \n",
       "168                       O  \n",
       "174                       O  \n",
       "173                       O  \n",
       "175                       O  \n",
       "163                       O  \n",
       "162                       O  "
      ]
     },
     "execution_count": 37,
     "metadata": {},
     "output_type": "execute_result"
    }
   ],
   "source": [
    "df_nnlist.iloc[dict_3['5']].sort_values(by='rel_distance')"
   ]
  },
  {
   "cell_type": "code",
   "execution_count": 36,
   "id": "e9099c6f-e15e-46e5-8f0d-02cee730edd5",
   "metadata": {
    "tags": []
   },
   "outputs": [
    {
     "data": {
      "text/plain": [
       "Int64Index([154, 157, 165, 169, 148, 153, 152, 155, 156, 166, 171, 172, 167,\n",
       "            159, 158, 149, 151, 150, 161, 160, 170, 164, 168, 174, 173, 175,\n",
       "            163, 162],\n",
       "           dtype='int64')"
      ]
     },
     "execution_count": 36,
     "metadata": {},
     "output_type": "execute_result"
    }
   ],
   "source": [
    "df_nnlist.iloc[dict_3['5']].sort_values(by='rel_distance').index"
   ]
  },
  {
   "cell_type": "code",
   "execution_count": 41,
   "id": "aefd7ea6-6ea1-4fac-98a3-7a01a51d73e6",
   "metadata": {
    "tags": []
   },
   "outputs": [
    {
     "data": {
      "text/plain": [
       "Int64Index([157, 165, 169], dtype='int64')"
      ]
     },
     "execution_count": 41,
     "metadata": {},
     "output_type": "execute_result"
    }
   ],
   "source": [
    "# C周りのO３つのindex\n",
    "indices = df_nnlist.iloc[dict_3['5']].sort_values(by='rel_distance').index[1:4]\n",
    "indices"
   ]
  },
  {
   "cell_type": "code",
   "execution_count": 40,
   "id": "b1bea686-eb4b-44e8-a138-0771a250eeef",
   "metadata": {
    "tags": []
   },
   "outputs": [
    {
     "data": {
      "text/html": [
       "<div>\n",
       "<style scoped>\n",
       "    .dataframe tbody tr th:only-of-type {\n",
       "        vertical-align: middle;\n",
       "    }\n",
       "\n",
       "    .dataframe tbody tr th {\n",
       "        vertical-align: top;\n",
       "    }\n",
       "\n",
       "    .dataframe thead th {\n",
       "        text-align: right;\n",
       "    }\n",
       "</style>\n",
       "<table border=\"1\" class=\"dataframe\">\n",
       "  <thead>\n",
       "    <tr style=\"text-align: right;\">\n",
       "      <th></th>\n",
       "      <th>central_atom_id</th>\n",
       "      <th>neighboring_atom_id</th>\n",
       "      <th>rel_distance</th>\n",
       "      <th>rel_x</th>\n",
       "      <th>rel_y</th>\n",
       "      <th>rel_z</th>\n",
       "      <th>unitcell_x</th>\n",
       "      <th>unitcell_y</th>\n",
       "      <th>unitcell_z</th>\n",
       "      <th>central_atom_symbol</th>\n",
       "      <th>neighboring_atom_symbol</th>\n",
       "    </tr>\n",
       "  </thead>\n",
       "  <tbody>\n",
       "    <tr>\n",
       "      <th>157</th>\n",
       "      <td>5</td>\n",
       "      <td>9</td>\n",
       "      <td>1.282630</td>\n",
       "      <td>0.000000</td>\n",
       "      <td>1.281885</td>\n",
       "      <td>-0.043713</td>\n",
       "      <td>0</td>\n",
       "      <td>0</td>\n",
       "      <td>0</td>\n",
       "      <td>C</td>\n",
       "      <td>O</td>\n",
       "    </tr>\n",
       "    <tr>\n",
       "      <th>165</th>\n",
       "      <td>5</td>\n",
       "      <td>13</td>\n",
       "      <td>1.289100</td>\n",
       "      <td>1.112990</td>\n",
       "      <td>-0.650283</td>\n",
       "      <td>0.012857</td>\n",
       "      <td>0</td>\n",
       "      <td>0</td>\n",
       "      <td>0</td>\n",
       "      <td>C</td>\n",
       "      <td>O</td>\n",
       "    </tr>\n",
       "    <tr>\n",
       "      <th>169</th>\n",
       "      <td>5</td>\n",
       "      <td>16</td>\n",
       "      <td>1.289100</td>\n",
       "      <td>-1.112990</td>\n",
       "      <td>-0.650283</td>\n",
       "      <td>0.012857</td>\n",
       "      <td>0</td>\n",
       "      <td>0</td>\n",
       "      <td>0</td>\n",
       "      <td>C</td>\n",
       "      <td>O</td>\n",
       "    </tr>\n",
       "  </tbody>\n",
       "</table>\n",
       "</div>"
      ],
      "text/plain": [
       "    central_atom_id neighboring_atom_id  rel_distance     rel_x     rel_y  \\\n",
       "157               5                   9      1.282630  0.000000  1.281885   \n",
       "165               5                  13      1.289100  1.112990 -0.650283   \n",
       "169               5                  16      1.289100 -1.112990 -0.650283   \n",
       "\n",
       "        rel_z  unitcell_x  unitcell_y  unitcell_z central_atom_symbol  \\\n",
       "157 -0.043713           0           0           0                   C   \n",
       "165  0.012857           0           0           0                   C   \n",
       "169  0.012857           0           0           0                   C   \n",
       "\n",
       "    neighboring_atom_symbol  \n",
       "157                       O  \n",
       "165                       O  \n",
       "169                       O  "
      ]
     },
     "execution_count": 40,
     "metadata": {},
     "output_type": "execute_result"
    }
   ],
   "source": [
    "df_nnlist.iloc[indices]"
   ]
  },
  {
   "cell_type": "code",
   "execution_count": 44,
   "id": "8d34266a-bab3-4563-8bdd-01791d395cb5",
   "metadata": {
    "tags": []
   },
   "outputs": [
    {
     "data": {
      "text/plain": [
       "157     9\n",
       "165    13\n",
       "169    16\n",
       "dtype: object"
      ]
     },
     "execution_count": 44,
     "metadata": {},
     "output_type": "execute_result"
    }
   ],
   "source": [
    "df_nnlist.iloc[indices].apply(lambda row: row['neighboring_atom_id'], axis = 1)"
   ]
  },
  {
   "cell_type": "code",
   "execution_count": 45,
   "id": "0bc02339-4326-4d89-873e-ca39b4dac541",
   "metadata": {
    "tags": []
   },
   "outputs": [
    {
     "data": {
      "text/plain": [
       "157    {'9': 1.28263}\n",
       "165    {'13': 1.2891}\n",
       "169    {'16': 1.2891}\n",
       "dtype: object"
      ]
     },
     "execution_count": 45,
     "metadata": {},
     "output_type": "execute_result"
    }
   ],
   "source": [
    "df_nnlist.iloc[indices].apply(lambda row: {row['neighboring_atom_id']: row['rel_distance']}, axis = 1)"
   ]
  },
  {
   "cell_type": "code",
   "execution_count": 50,
   "id": "2cfa42ef-5ff1-4865-a9dc-42018857be28",
   "metadata": {
    "tags": []
   },
   "outputs": [
    {
     "data": {
      "text/plain": [
       "['9', '13', '16']"
      ]
     },
     "execution_count": 50,
     "metadata": {},
     "output_type": "execute_result"
    }
   ],
   "source": [
    "O_ids = df_nnlist.iloc[indices].apply(lambda row: row['neighboring_atom_id'], axis = 1).tolist()\n",
    "O_ids"
   ]
  },
  {
   "cell_type": "code",
   "execution_count": 66,
   "id": "124a8a03-f53a-4a5b-ac14-1ad05f283075",
   "metadata": {
    "tags": []
   },
   "outputs": [
    {
     "data": {
      "text/html": [
       "<div>\n",
       "<style scoped>\n",
       "    .dataframe tbody tr th:only-of-type {\n",
       "        vertical-align: middle;\n",
       "    }\n",
       "\n",
       "    .dataframe tbody tr th {\n",
       "        vertical-align: top;\n",
       "    }\n",
       "\n",
       "    .dataframe thead th {\n",
       "        text-align: right;\n",
       "    }\n",
       "</style>\n",
       "<table border=\"1\" class=\"dataframe\">\n",
       "  <thead>\n",
       "    <tr style=\"text-align: right;\">\n",
       "      <th></th>\n",
       "      <th>central_atom_id</th>\n",
       "      <th>neighboring_atom_id</th>\n",
       "      <th>rel_distance</th>\n",
       "      <th>rel_x</th>\n",
       "      <th>rel_y</th>\n",
       "      <th>rel_z</th>\n",
       "      <th>unitcell_x</th>\n",
       "      <th>unitcell_y</th>\n",
       "      <th>unitcell_z</th>\n",
       "      <th>central_atom_symbol</th>\n",
       "      <th>neighboring_atom_symbol</th>\n",
       "    </tr>\n",
       "  </thead>\n",
       "  <tbody>\n",
       "    <tr>\n",
       "      <th>275</th>\n",
       "      <td>9</td>\n",
       "      <td>9</td>\n",
       "      <td>0.000000</td>\n",
       "      <td>0.000000</td>\n",
       "      <td>0.000000</td>\n",
       "      <td>0.000000</td>\n",
       "      <td>0</td>\n",
       "      <td>0</td>\n",
       "      <td>0</td>\n",
       "      <td>O</td>\n",
       "      <td>O</td>\n",
       "    </tr>\n",
       "    <tr>\n",
       "      <th>268</th>\n",
       "      <td>9</td>\n",
       "      <td>5</td>\n",
       "      <td>1.282630</td>\n",
       "      <td>0.000000</td>\n",
       "      <td>-1.281885</td>\n",
       "      <td>0.043713</td>\n",
       "      <td>0</td>\n",
       "      <td>0</td>\n",
       "      <td>0</td>\n",
       "      <td>O</td>\n",
       "      <td>C</td>\n",
       "    </tr>\n",
       "    <tr>\n",
       "      <th>285</th>\n",
       "      <td>9</td>\n",
       "      <td>16</td>\n",
       "      <td>2.230520</td>\n",
       "      <td>-1.112990</td>\n",
       "      <td>-1.932168</td>\n",
       "      <td>0.056570</td>\n",
       "      <td>0</td>\n",
       "      <td>0</td>\n",
       "      <td>0</td>\n",
       "      <td>O</td>\n",
       "      <td>O</td>\n",
       "    </tr>\n",
       "    <tr>\n",
       "      <th>281</th>\n",
       "      <td>9</td>\n",
       "      <td>13</td>\n",
       "      <td>2.230520</td>\n",
       "      <td>1.112990</td>\n",
       "      <td>-1.932168</td>\n",
       "      <td>0.056570</td>\n",
       "      <td>0</td>\n",
       "      <td>0</td>\n",
       "      <td>0</td>\n",
       "      <td>O</td>\n",
       "      <td>O</td>\n",
       "    </tr>\n",
       "    <tr>\n",
       "      <th>263</th>\n",
       "      <td>9</td>\n",
       "      <td>2</td>\n",
       "      <td>2.737072</td>\n",
       "      <td>0.000000</td>\n",
       "      <td>1.624284</td>\n",
       "      <td>2.203013</td>\n",
       "      <td>0</td>\n",
       "      <td>1</td>\n",
       "      <td>1</td>\n",
       "      <td>O</td>\n",
       "      <td>Ba</td>\n",
       "    </tr>\n",
       "    <tr>\n",
       "      <th>266</th>\n",
       "      <td>9</td>\n",
       "      <td>4</td>\n",
       "      <td>2.868469</td>\n",
       "      <td>-2.656300</td>\n",
       "      <td>0.135305</td>\n",
       "      <td>-1.074186</td>\n",
       "      <td>-1</td>\n",
       "      <td>0</td>\n",
       "      <td>0</td>\n",
       "      <td>O</td>\n",
       "      <td>Ba</td>\n",
       "    </tr>\n",
       "    <tr>\n",
       "      <th>267</th>\n",
       "      <td>9</td>\n",
       "      <td>4</td>\n",
       "      <td>2.868469</td>\n",
       "      <td>2.656300</td>\n",
       "      <td>0.135305</td>\n",
       "      <td>-1.074186</td>\n",
       "      <td>0</td>\n",
       "      <td>0</td>\n",
       "      <td>0</td>\n",
       "      <td>O</td>\n",
       "      <td>Ba</td>\n",
       "    </tr>\n",
       "    <tr>\n",
       "      <th>279</th>\n",
       "      <td>9</td>\n",
       "      <td>11</td>\n",
       "      <td>3.380286</td>\n",
       "      <td>2.656300</td>\n",
       "      <td>1.759589</td>\n",
       "      <td>1.128827</td>\n",
       "      <td>0</td>\n",
       "      <td>1</td>\n",
       "      <td>1</td>\n",
       "      <td>O</td>\n",
       "      <td>O</td>\n",
       "    </tr>\n",
       "    <tr>\n",
       "      <th>278</th>\n",
       "      <td>9</td>\n",
       "      <td>11</td>\n",
       "      <td>3.380286</td>\n",
       "      <td>-2.656300</td>\n",
       "      <td>1.759589</td>\n",
       "      <td>1.128827</td>\n",
       "      <td>-1</td>\n",
       "      <td>1</td>\n",
       "      <td>1</td>\n",
       "      <td>O</td>\n",
       "      <td>O</td>\n",
       "    </tr>\n",
       "    <tr>\n",
       "      <th>287</th>\n",
       "      <td>9</td>\n",
       "      <td>17</td>\n",
       "      <td>3.432364</td>\n",
       "      <td>1.112990</td>\n",
       "      <td>-0.756143</td>\n",
       "      <td>-3.157630</td>\n",
       "      <td>0</td>\n",
       "      <td>0</td>\n",
       "      <td>0</td>\n",
       "      <td>O</td>\n",
       "      <td>O</td>\n",
       "    </tr>\n",
       "    <tr>\n",
       "      <th>282</th>\n",
       "      <td>9</td>\n",
       "      <td>14</td>\n",
       "      <td>3.432364</td>\n",
       "      <td>-1.112990</td>\n",
       "      <td>-0.756143</td>\n",
       "      <td>-3.157630</td>\n",
       "      <td>0</td>\n",
       "      <td>0</td>\n",
       "      <td>0</td>\n",
       "      <td>O</td>\n",
       "      <td>O</td>\n",
       "    </tr>\n",
       "    <tr>\n",
       "      <th>269</th>\n",
       "      <td>9</td>\n",
       "      <td>6</td>\n",
       "      <td>3.468432</td>\n",
       "      <td>0.000000</td>\n",
       "      <td>-1.406426</td>\n",
       "      <td>-3.170487</td>\n",
       "      <td>0</td>\n",
       "      <td>0</td>\n",
       "      <td>0</td>\n",
       "      <td>O</td>\n",
       "      <td>C</td>\n",
       "    </tr>\n",
       "    <tr>\n",
       "      <th>288</th>\n",
       "      <td>9</td>\n",
       "      <td>17</td>\n",
       "      <td>3.536726</td>\n",
       "      <td>1.112990</td>\n",
       "      <td>-0.756143</td>\n",
       "      <td>3.270770</td>\n",
       "      <td>0</td>\n",
       "      <td>0</td>\n",
       "      <td>1</td>\n",
       "      <td>O</td>\n",
       "      <td>O</td>\n",
       "    </tr>\n",
       "    <tr>\n",
       "      <th>283</th>\n",
       "      <td>9</td>\n",
       "      <td>14</td>\n",
       "      <td>3.536726</td>\n",
       "      <td>-1.112990</td>\n",
       "      <td>-0.756143</td>\n",
       "      <td>3.270770</td>\n",
       "      <td>0</td>\n",
       "      <td>0</td>\n",
       "      <td>1</td>\n",
       "      <td>O</td>\n",
       "      <td>O</td>\n",
       "    </tr>\n",
       "    <tr>\n",
       "      <th>270</th>\n",
       "      <td>9</td>\n",
       "      <td>6</td>\n",
       "      <td>3.548525</td>\n",
       "      <td>0.000000</td>\n",
       "      <td>-1.406426</td>\n",
       "      <td>3.257913</td>\n",
       "      <td>0</td>\n",
       "      <td>0</td>\n",
       "      <td>1</td>\n",
       "      <td>O</td>\n",
       "      <td>C</td>\n",
       "    </tr>\n",
       "    <tr>\n",
       "      <th>289</th>\n",
       "      <td>9</td>\n",
       "      <td>18</td>\n",
       "      <td>3.646729</td>\n",
       "      <td>-1.543310</td>\n",
       "      <td>2.515732</td>\n",
       "      <td>-2.141943</td>\n",
       "      <td>-1</td>\n",
       "      <td>1</td>\n",
       "      <td>0</td>\n",
       "      <td>O</td>\n",
       "      <td>O</td>\n",
       "    </tr>\n",
       "    <tr>\n",
       "      <th>291</th>\n",
       "      <td>9</td>\n",
       "      <td>20</td>\n",
       "      <td>3.646729</td>\n",
       "      <td>1.543310</td>\n",
       "      <td>2.515732</td>\n",
       "      <td>-2.141943</td>\n",
       "      <td>0</td>\n",
       "      <td>1</td>\n",
       "      <td>0</td>\n",
       "      <td>O</td>\n",
       "      <td>O</td>\n",
       "    </tr>\n",
       "    <tr>\n",
       "      <th>290</th>\n",
       "      <td>9</td>\n",
       "      <td>19</td>\n",
       "      <td>4.142537</td>\n",
       "      <td>-1.543310</td>\n",
       "      <td>3.691757</td>\n",
       "      <td>1.072257</td>\n",
       "      <td>-1</td>\n",
       "      <td>1</td>\n",
       "      <td>1</td>\n",
       "      <td>O</td>\n",
       "      <td>O</td>\n",
       "    </tr>\n",
       "    <tr>\n",
       "      <th>284</th>\n",
       "      <td>9</td>\n",
       "      <td>15</td>\n",
       "      <td>4.142537</td>\n",
       "      <td>1.543310</td>\n",
       "      <td>3.691757</td>\n",
       "      <td>1.072257</td>\n",
       "      <td>0</td>\n",
       "      <td>1</td>\n",
       "      <td>1</td>\n",
       "      <td>O</td>\n",
       "      <td>O</td>\n",
       "    </tr>\n",
       "    <tr>\n",
       "      <th>272</th>\n",
       "      <td>9</td>\n",
       "      <td>7</td>\n",
       "      <td>4.181383</td>\n",
       "      <td>2.656300</td>\n",
       "      <td>3.041474</td>\n",
       "      <td>1.085114</td>\n",
       "      <td>0</td>\n",
       "      <td>1</td>\n",
       "      <td>1</td>\n",
       "      <td>O</td>\n",
       "      <td>C</td>\n",
       "    </tr>\n",
       "    <tr>\n",
       "      <th>271</th>\n",
       "      <td>9</td>\n",
       "      <td>7</td>\n",
       "      <td>4.181383</td>\n",
       "      <td>-2.656300</td>\n",
       "      <td>3.041474</td>\n",
       "      <td>1.085114</td>\n",
       "      <td>-1</td>\n",
       "      <td>1</td>\n",
       "      <td>1</td>\n",
       "      <td>O</td>\n",
       "      <td>C</td>\n",
       "    </tr>\n",
       "    <tr>\n",
       "      <th>277</th>\n",
       "      <td>9</td>\n",
       "      <td>10</td>\n",
       "      <td>4.190238</td>\n",
       "      <td>0.000000</td>\n",
       "      <td>-2.688311</td>\n",
       "      <td>3.214200</td>\n",
       "      <td>0</td>\n",
       "      <td>0</td>\n",
       "      <td>1</td>\n",
       "      <td>O</td>\n",
       "      <td>O</td>\n",
       "    </tr>\n",
       "    <tr>\n",
       "      <th>276</th>\n",
       "      <td>9</td>\n",
       "      <td>10</td>\n",
       "      <td>4.190238</td>\n",
       "      <td>0.000000</td>\n",
       "      <td>-2.688311</td>\n",
       "      <td>-3.214200</td>\n",
       "      <td>0</td>\n",
       "      <td>0</td>\n",
       "      <td>0</td>\n",
       "      <td>O</td>\n",
       "      <td>O</td>\n",
       "    </tr>\n",
       "    <tr>\n",
       "      <th>265</th>\n",
       "      <td>9</td>\n",
       "      <td>3</td>\n",
       "      <td>4.428137</td>\n",
       "      <td>2.656300</td>\n",
       "      <td>-2.823616</td>\n",
       "      <td>2.140014</td>\n",
       "      <td>0</td>\n",
       "      <td>0</td>\n",
       "      <td>1</td>\n",
       "      <td>O</td>\n",
       "      <td>Ba</td>\n",
       "    </tr>\n",
       "    <tr>\n",
       "      <th>264</th>\n",
       "      <td>9</td>\n",
       "      <td>3</td>\n",
       "      <td>4.428137</td>\n",
       "      <td>-2.656300</td>\n",
       "      <td>-2.823616</td>\n",
       "      <td>2.140014</td>\n",
       "      <td>-1</td>\n",
       "      <td>0</td>\n",
       "      <td>1</td>\n",
       "      <td>O</td>\n",
       "      <td>Ba</td>\n",
       "    </tr>\n",
       "    <tr>\n",
       "      <th>260</th>\n",
       "      <td>9</td>\n",
       "      <td>1</td>\n",
       "      <td>4.429557</td>\n",
       "      <td>0.000000</td>\n",
       "      <td>-4.312595</td>\n",
       "      <td>-1.011187</td>\n",
       "      <td>0</td>\n",
       "      <td>0</td>\n",
       "      <td>0</td>\n",
       "      <td>O</td>\n",
       "      <td>Ba</td>\n",
       "    </tr>\n",
       "    <tr>\n",
       "      <th>262</th>\n",
       "      <td>9</td>\n",
       "      <td>2</td>\n",
       "      <td>4.526831</td>\n",
       "      <td>0.000000</td>\n",
       "      <td>1.624284</td>\n",
       "      <td>-4.225387</td>\n",
       "      <td>0</td>\n",
       "      <td>1</td>\n",
       "      <td>0</td>\n",
       "      <td>O</td>\n",
       "      <td>Ba</td>\n",
       "    </tr>\n",
       "    <tr>\n",
       "      <th>280</th>\n",
       "      <td>9</td>\n",
       "      <td>13</td>\n",
       "      <td>4.623116</td>\n",
       "      <td>-4.199610</td>\n",
       "      <td>-1.932168</td>\n",
       "      <td>0.056570</td>\n",
       "      <td>-1</td>\n",
       "      <td>0</td>\n",
       "      <td>0</td>\n",
       "      <td>O</td>\n",
       "      <td>O</td>\n",
       "    </tr>\n",
       "    <tr>\n",
       "      <th>286</th>\n",
       "      <td>9</td>\n",
       "      <td>16</td>\n",
       "      <td>4.623116</td>\n",
       "      <td>4.199610</td>\n",
       "      <td>-1.932168</td>\n",
       "      <td>0.056570</td>\n",
       "      <td>1</td>\n",
       "      <td>0</td>\n",
       "      <td>0</td>\n",
       "      <td>O</td>\n",
       "      <td>O</td>\n",
       "    </tr>\n",
       "    <tr>\n",
       "      <th>274</th>\n",
       "      <td>9</td>\n",
       "      <td>8</td>\n",
       "      <td>4.648934</td>\n",
       "      <td>2.656300</td>\n",
       "      <td>3.166015</td>\n",
       "      <td>-2.129086</td>\n",
       "      <td>0</td>\n",
       "      <td>1</td>\n",
       "      <td>0</td>\n",
       "      <td>O</td>\n",
       "      <td>C</td>\n",
       "    </tr>\n",
       "    <tr>\n",
       "      <th>273</th>\n",
       "      <td>9</td>\n",
       "      <td>8</td>\n",
       "      <td>4.648934</td>\n",
       "      <td>-2.656300</td>\n",
       "      <td>3.166015</td>\n",
       "      <td>-2.129086</td>\n",
       "      <td>-1</td>\n",
       "      <td>1</td>\n",
       "      <td>0</td>\n",
       "      <td>O</td>\n",
       "      <td>C</td>\n",
       "    </tr>\n",
       "    <tr>\n",
       "      <th>261</th>\n",
       "      <td>9</td>\n",
       "      <td>1</td>\n",
       "      <td>4.693428</td>\n",
       "      <td>0.000000</td>\n",
       "      <td>4.583205</td>\n",
       "      <td>-1.011187</td>\n",
       "      <td>0</td>\n",
       "      <td>1</td>\n",
       "      <td>0</td>\n",
       "      <td>O</td>\n",
       "      <td>Ba</td>\n",
       "    </tr>\n",
       "  </tbody>\n",
       "</table>\n",
       "</div>"
      ],
      "text/plain": [
       "    central_atom_id neighboring_atom_id  rel_distance     rel_x     rel_y  \\\n",
       "275               9                   9      0.000000  0.000000  0.000000   \n",
       "268               9                   5      1.282630  0.000000 -1.281885   \n",
       "285               9                  16      2.230520 -1.112990 -1.932168   \n",
       "281               9                  13      2.230520  1.112990 -1.932168   \n",
       "263               9                   2      2.737072  0.000000  1.624284   \n",
       "266               9                   4      2.868469 -2.656300  0.135305   \n",
       "267               9                   4      2.868469  2.656300  0.135305   \n",
       "279               9                  11      3.380286  2.656300  1.759589   \n",
       "278               9                  11      3.380286 -2.656300  1.759589   \n",
       "287               9                  17      3.432364  1.112990 -0.756143   \n",
       "282               9                  14      3.432364 -1.112990 -0.756143   \n",
       "269               9                   6      3.468432  0.000000 -1.406426   \n",
       "288               9                  17      3.536726  1.112990 -0.756143   \n",
       "283               9                  14      3.536726 -1.112990 -0.756143   \n",
       "270               9                   6      3.548525  0.000000 -1.406426   \n",
       "289               9                  18      3.646729 -1.543310  2.515732   \n",
       "291               9                  20      3.646729  1.543310  2.515732   \n",
       "290               9                  19      4.142537 -1.543310  3.691757   \n",
       "284               9                  15      4.142537  1.543310  3.691757   \n",
       "272               9                   7      4.181383  2.656300  3.041474   \n",
       "271               9                   7      4.181383 -2.656300  3.041474   \n",
       "277               9                  10      4.190238  0.000000 -2.688311   \n",
       "276               9                  10      4.190238  0.000000 -2.688311   \n",
       "265               9                   3      4.428137  2.656300 -2.823616   \n",
       "264               9                   3      4.428137 -2.656300 -2.823616   \n",
       "260               9                   1      4.429557  0.000000 -4.312595   \n",
       "262               9                   2      4.526831  0.000000  1.624284   \n",
       "280               9                  13      4.623116 -4.199610 -1.932168   \n",
       "286               9                  16      4.623116  4.199610 -1.932168   \n",
       "274               9                   8      4.648934  2.656300  3.166015   \n",
       "273               9                   8      4.648934 -2.656300  3.166015   \n",
       "261               9                   1      4.693428  0.000000  4.583205   \n",
       "\n",
       "        rel_z  unitcell_x  unitcell_y  unitcell_z central_atom_symbol  \\\n",
       "275  0.000000           0           0           0                   O   \n",
       "268  0.043713           0           0           0                   O   \n",
       "285  0.056570           0           0           0                   O   \n",
       "281  0.056570           0           0           0                   O   \n",
       "263  2.203013           0           1           1                   O   \n",
       "266 -1.074186          -1           0           0                   O   \n",
       "267 -1.074186           0           0           0                   O   \n",
       "279  1.128827           0           1           1                   O   \n",
       "278  1.128827          -1           1           1                   O   \n",
       "287 -3.157630           0           0           0                   O   \n",
       "282 -3.157630           0           0           0                   O   \n",
       "269 -3.170487           0           0           0                   O   \n",
       "288  3.270770           0           0           1                   O   \n",
       "283  3.270770           0           0           1                   O   \n",
       "270  3.257913           0           0           1                   O   \n",
       "289 -2.141943          -1           1           0                   O   \n",
       "291 -2.141943           0           1           0                   O   \n",
       "290  1.072257          -1           1           1                   O   \n",
       "284  1.072257           0           1           1                   O   \n",
       "272  1.085114           0           1           1                   O   \n",
       "271  1.085114          -1           1           1                   O   \n",
       "277  3.214200           0           0           1                   O   \n",
       "276 -3.214200           0           0           0                   O   \n",
       "265  2.140014           0           0           1                   O   \n",
       "264  2.140014          -1           0           1                   O   \n",
       "260 -1.011187           0           0           0                   O   \n",
       "262 -4.225387           0           1           0                   O   \n",
       "280  0.056570          -1           0           0                   O   \n",
       "286  0.056570           1           0           0                   O   \n",
       "274 -2.129086           0           1           0                   O   \n",
       "273 -2.129086          -1           1           0                   O   \n",
       "261 -1.011187           0           1           0                   O   \n",
       "\n",
       "    neighboring_atom_symbol  \n",
       "275                       O  \n",
       "268                       C  \n",
       "285                       O  \n",
       "281                       O  \n",
       "263                      Ba  \n",
       "266                      Ba  \n",
       "267                      Ba  \n",
       "279                       O  \n",
       "278                       O  \n",
       "287                       O  \n",
       "282                       O  \n",
       "269                       C  \n",
       "288                       O  \n",
       "283                       O  \n",
       "270                       C  \n",
       "289                       O  \n",
       "291                       O  \n",
       "290                       O  \n",
       "284                       O  \n",
       "272                       C  \n",
       "271                       C  \n",
       "277                       O  \n",
       "276                       O  \n",
       "265                      Ba  \n",
       "264                      Ba  \n",
       "260                      Ba  \n",
       "262                      Ba  \n",
       "280                       O  \n",
       "286                       O  \n",
       "274                       C  \n",
       "273                       C  \n",
       "261                      Ba  "
      ]
     },
     "execution_count": 66,
     "metadata": {},
     "output_type": "execute_result"
    }
   ],
   "source": [
    "df_nnlist[df_nnlist['central_atom_id'] == O_ids[0]].sort_values('rel_distance')"
   ]
  },
  {
   "cell_type": "code",
   "execution_count": 68,
   "id": "ad58fdd2-f3c1-4e89-b443-45e2e569ce55",
   "metadata": {
    "tags": []
   },
   "outputs": [
    {
     "data": {
      "text/plain": [
       "['O',\n",
       " 'C',\n",
       " 'O',\n",
       " 'O',\n",
       " 'Ba',\n",
       " 'Ba',\n",
       " 'Ba',\n",
       " 'O',\n",
       " 'O',\n",
       " 'O',\n",
       " 'O',\n",
       " 'C',\n",
       " 'O',\n",
       " 'O',\n",
       " 'C',\n",
       " 'O',\n",
       " 'O',\n",
       " 'O',\n",
       " 'O',\n",
       " 'C',\n",
       " 'C',\n",
       " 'O',\n",
       " 'O',\n",
       " 'Ba',\n",
       " 'Ba',\n",
       " 'Ba',\n",
       " 'Ba',\n",
       " 'O',\n",
       " 'O',\n",
       " 'C',\n",
       " 'C',\n",
       " 'Ba']"
      ]
     },
     "execution_count": 68,
     "metadata": {},
     "output_type": "execute_result"
    }
   ],
   "source": [
    "df_nnlist[df_nnlist['central_atom_id'] == O_ids[0]].sort_values('rel_distance')['neighboring_atom_symbol'].tolist()"
   ]
  },
  {
   "cell_type": "code",
   "execution_count": 70,
   "id": "25f5cdba-a59a-4d8a-8055-25ea02b3e27e",
   "metadata": {
    "tags": []
   },
   "outputs": [
    {
     "data": {
      "text/plain": [
       "True"
      ]
     },
     "execution_count": 70,
     "metadata": {},
     "output_type": "execute_result"
    }
   ],
   "source": [
    "df_nnlist[df_nnlist['central_atom_id'] == O_ids[0]].sort_values('rel_distance')['neighboring_atom_symbol'].tolist()[1] == 'C'"
   ]
  },
  {
   "cell_type": "code",
   "execution_count": 95,
   "id": "6f6cded2-f44e-4326-846e-13ffa3cc0ccd",
   "metadata": {
    "tags": []
   },
   "outputs": [],
   "source": [
    "bool_list_6 = []\n",
    "for k, v in dict_3.items():\n",
    "    df_nnlist.iloc[dict_3[k]].sort_values(by='rel_distance')\n",
    "    # C周りのO３つのindex\n",
    "    indices = df_nnlist.iloc[dict_3[k]].sort_values(by='rel_distance').index[1:4]\n",
    "    O_ids = df_nnlist.iloc[indices].apply(lambda row: row['neighboring_atom_id'], axis = 1).tolist()\n",
    "    for O_id in O_ids:\n",
    "        bool_list_temp = []\n",
    "        bool_list_temp.append(df_nnlist[df_nnlist['central_atom_id'] == O_id].sort_values('rel_distance')['neighboring_atom_symbol'].tolist()[1] == 'C')\n",
    "    if set(bool_list_temp) == {True}:\n",
    "        bool_list_6.append(True)"
   ]
  },
  {
   "cell_type": "code",
   "execution_count": 93,
   "id": "1c789a5b-def9-4371-a082-a958e19dcfd8",
   "metadata": {
    "tags": []
   },
   "outputs": [
    {
     "data": {
      "text/plain": [
       "[True, True, True, True]"
      ]
     },
     "execution_count": 93,
     "metadata": {},
     "output_type": "execute_result"
    }
   ],
   "source": [
    "bool_list_6"
   ]
  },
  {
   "cell_type": "code",
   "execution_count": 105,
   "id": "f1cebd7e-8ff1-44c5-8b3e-1286e7bdc1ec",
   "metadata": {
    "tags": []
   },
   "outputs": [
    {
     "data": {
      "text/plain": [
       "array(['5', '6', '7', '8'], dtype='<U1')"
      ]
     },
     "execution_count": 105,
     "metadata": {},
     "output_type": "execute_result"
    }
   ],
   "source": [
    "C_ids = np.array(list(dict_3.keys()))[bool_list_6]\n",
    "C_ids"
   ]
  },
  {
   "cell_type": "markdown",
   "id": "61f4c08e-aa83-44e9-b23d-e205cd2b40af",
   "metadata": {},
   "source": [
    "#### 6．の関数化"
   ]
  },
  {
   "cell_type": "code",
   "execution_count": 29,
   "id": "1ea29bbf-d352-4885-b68a-1052c9640ee8",
   "metadata": {
    "tags": []
   },
   "outputs": [],
   "source": [
    "def filter_6(df_nnlist, dict_3):\n",
    "    bool_list_6 = []\n",
    "    for k, v in dict_3.items():\n",
    "        df_nnlist.iloc[dict_3[k]].sort_values(by='rel_distance')\n",
    "        # C周りのO３つのindex\n",
    "        indices = df_nnlist.iloc[dict_3[k]].sort_values(by='rel_distance').index[1:4]\n",
    "        O_ids = df_nnlist.iloc[indices].apply(lambda row: row['neighboring_atom_id'], axis = 1).tolist()\n",
    "        for O_id in O_ids:\n",
    "            bool_list_temp = []\n",
    "            bool_list_temp.append(df_nnlist[df_nnlist['central_atom_id'] == O_id].sort_values('rel_distance')['neighboring_atom_symbol'].tolist()[1] == 'C')\n",
    "        if set(bool_list_temp) == {True}:\n",
    "            bool_list_6.append(True)\n",
    "    C_ids = np.array(list(dict_3.keys()))[bool_list_6]\n",
    "    bool_filter_6 = len(bool_list_6) >= 1\n",
    "        \n",
    "    return bool_filter_6, C_ids"
   ]
  },
  {
   "cell_type": "code",
   "execution_count": 30,
   "id": "e0cb74c2-2a5b-4c14-bd91-6d6194b10ad3",
   "metadata": {
    "tags": []
   },
   "outputs": [],
   "source": [
    "bool_6, C_ids = filter_6(df_nnlist=df_nnlist, dict_3=dict_3)"
   ]
  },
  {
   "cell_type": "code",
   "execution_count": 31,
   "id": "1c576253-8b63-44a4-af0b-4bf550e6f7a9",
   "metadata": {
    "tags": []
   },
   "outputs": [
    {
     "data": {
      "text/plain": [
       "True"
      ]
     },
     "execution_count": 31,
     "metadata": {},
     "output_type": "execute_result"
    }
   ],
   "source": [
    "bool_6"
   ]
  },
  {
   "cell_type": "code",
   "execution_count": 32,
   "id": "dabf54e8-7005-48db-8c56-5066a300c6a0",
   "metadata": {
    "tags": []
   },
   "outputs": [
    {
     "data": {
      "text/plain": [
       "array(['21'], dtype='<U2')"
      ]
     },
     "execution_count": 32,
     "metadata": {},
     "output_type": "execute_result"
    }
   ],
   "source": [
    "C_ids"
   ]
  }
 ],
 "metadata": {
  "kernelspec": {
   "display_name": "Python 3 (ipykernel)",
   "language": "python",
   "name": "python3"
  },
  "language_info": {
   "codemirror_mode": {
    "name": "ipython",
    "version": 3
   },
   "file_extension": ".py",
   "mimetype": "text/x-python",
   "name": "python",
   "nbconvert_exporter": "python",
   "pygments_lexer": "ipython3",
   "version": "3.10.12"
  }
 },
 "nbformat": 4,
 "nbformat_minor": 5
}

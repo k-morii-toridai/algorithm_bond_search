{
 "cells": [
  {
   "cell_type": "code",
   "execution_count": 1,
   "id": "c8152ead-1c64-4b8f-82a2-feb4daa80c53",
   "metadata": {
    "tags": []
   },
   "outputs": [],
   "source": [
    "import pandas as pd\n",
    "import numpy as np\n",
    "from package_file_conversion.nnlist2df import nnlist2df"
   ]
  },
  {
   "cell_type": "code",
   "execution_count": 2,
   "id": "0329eae4-3f7e-4ac2-984a-4d9c0346a03f",
   "metadata": {
    "tags": []
   },
   "outputs": [],
   "source": [
    "nnlist_path = 'sample_test_files/nnlist_5/POSCAR.nnlist'"
   ]
  },
  {
   "cell_type": "code",
   "execution_count": 3,
   "id": "181e09fa-6d2d-46fe-8f5b-796113d5f903",
   "metadata": {
    "tags": []
   },
   "outputs": [],
   "source": [
    "df_nnlist = nnlist2df(nnlist_path=nnlist_path)"
   ]
  },
  {
   "cell_type": "code",
   "execution_count": 4,
   "id": "f8c45eb0-6a52-495d-87c4-6e8b34920dbd",
   "metadata": {
    "tags": []
   },
   "outputs": [
    {
     "data": {
      "text/html": [
       "<div>\n",
       "<style scoped>\n",
       "    .dataframe tbody tr th:only-of-type {\n",
       "        vertical-align: middle;\n",
       "    }\n",
       "\n",
       "    .dataframe tbody tr th {\n",
       "        vertical-align: top;\n",
       "    }\n",
       "\n",
       "    .dataframe thead th {\n",
       "        text-align: right;\n",
       "    }\n",
       "</style>\n",
       "<table border=\"1\" class=\"dataframe\">\n",
       "  <thead>\n",
       "    <tr style=\"text-align: right;\">\n",
       "      <th></th>\n",
       "      <th>central_atom_id</th>\n",
       "      <th>neighboring_atom_id</th>\n",
       "      <th>rel_distance</th>\n",
       "      <th>rel_x</th>\n",
       "      <th>rel_y</th>\n",
       "      <th>rel_z</th>\n",
       "      <th>unitcell_x</th>\n",
       "      <th>unitcell_y</th>\n",
       "      <th>unitcell_z</th>\n",
       "      <th>central_atom_symbol</th>\n",
       "      <th>neighboring_atom_symbol</th>\n",
       "    </tr>\n",
       "  </thead>\n",
       "  <tbody>\n",
       "    <tr>\n",
       "      <th>0</th>\n",
       "      <td>1</td>\n",
       "      <td>1</td>\n",
       "      <td>0.000000</td>\n",
       "      <td>0.000000</td>\n",
       "      <td>0.000000</td>\n",
       "      <td>0.000000</td>\n",
       "      <td>0</td>\n",
       "      <td>0</td>\n",
       "      <td>0</td>\n",
       "      <td>Ba</td>\n",
       "      <td>Ba</td>\n",
       "    </tr>\n",
       "    <tr>\n",
       "      <th>1</th>\n",
       "      <td>1</td>\n",
       "      <td>2</td>\n",
       "      <td>4.368786</td>\n",
       "      <td>0.000000</td>\n",
       "      <td>-2.958921</td>\n",
       "      <td>-3.214200</td>\n",
       "      <td>0</td>\n",
       "      <td>0</td>\n",
       "      <td>0</td>\n",
       "      <td>Ba</td>\n",
       "      <td>Ba</td>\n",
       "    </tr>\n",
       "    <tr>\n",
       "      <th>2</th>\n",
       "      <td>1</td>\n",
       "      <td>2</td>\n",
       "      <td>4.368786</td>\n",
       "      <td>0.000000</td>\n",
       "      <td>-2.958921</td>\n",
       "      <td>3.214200</td>\n",
       "      <td>0</td>\n",
       "      <td>0</td>\n",
       "      <td>1</td>\n",
       "      <td>Ba</td>\n",
       "      <td>Ba</td>\n",
       "    </tr>\n",
       "    <tr>\n",
       "      <th>3</th>\n",
       "      <td>1</td>\n",
       "      <td>3</td>\n",
       "      <td>4.473591</td>\n",
       "      <td>-2.656300</td>\n",
       "      <td>1.488979</td>\n",
       "      <td>-3.277198</td>\n",
       "      <td>-1</td>\n",
       "      <td>0</td>\n",
       "      <td>0</td>\n",
       "      <td>Ba</td>\n",
       "      <td>Ba</td>\n",
       "    </tr>\n",
       "    <tr>\n",
       "      <th>4</th>\n",
       "      <td>1</td>\n",
       "      <td>3</td>\n",
       "      <td>4.382130</td>\n",
       "      <td>-2.656300</td>\n",
       "      <td>1.488979</td>\n",
       "      <td>3.151202</td>\n",
       "      <td>-1</td>\n",
       "      <td>0</td>\n",
       "      <td>1</td>\n",
       "      <td>Ba</td>\n",
       "      <td>Ba</td>\n",
       "    </tr>\n",
       "  </tbody>\n",
       "</table>\n",
       "</div>"
      ],
      "text/plain": [
       "  central_atom_id neighboring_atom_id  rel_distance     rel_x     rel_y  \\\n",
       "0               1                   1      0.000000  0.000000  0.000000   \n",
       "1               1                   2      4.368786  0.000000 -2.958921   \n",
       "2               1                   2      4.368786  0.000000 -2.958921   \n",
       "3               1                   3      4.473591 -2.656300  1.488979   \n",
       "4               1                   3      4.382130 -2.656300  1.488979   \n",
       "\n",
       "      rel_z  unitcell_x  unitcell_y  unitcell_z central_atom_symbol  \\\n",
       "0  0.000000           0           0           0                  Ba   \n",
       "1 -3.214200           0           0           0                  Ba   \n",
       "2  3.214200           0           0           1                  Ba   \n",
       "3 -3.277198          -1           0           0                  Ba   \n",
       "4  3.151202          -1           0           1                  Ba   \n",
       "\n",
       "  neighboring_atom_symbol  \n",
       "0                      Ba  \n",
       "1                      Ba  \n",
       "2                      Ba  \n",
       "3                      Ba  \n",
       "4                      Ba  "
      ]
     },
     "execution_count": 4,
     "metadata": {},
     "output_type": "execute_result"
    }
   ],
   "source": [
    "df_nnlist.head(5)"
   ]
  },
  {
   "cell_type": "code",
   "execution_count": 7,
   "id": "f65db6e3-49a1-4dff-a90e-2320c77f1a2b",
   "metadata": {
    "tags": []
   },
   "outputs": [
    {
     "data": {
      "text/html": [
       "<div>\n",
       "<style scoped>\n",
       "    .dataframe tbody tr th:only-of-type {\n",
       "        vertical-align: middle;\n",
       "    }\n",
       "\n",
       "    .dataframe tbody tr th {\n",
       "        vertical-align: top;\n",
       "    }\n",
       "\n",
       "    .dataframe thead th {\n",
       "        text-align: right;\n",
       "    }\n",
       "</style>\n",
       "<table border=\"1\" class=\"dataframe\">\n",
       "  <thead>\n",
       "    <tr style=\"text-align: right;\">\n",
       "      <th></th>\n",
       "      <th>central_atom_id</th>\n",
       "      <th>neighboring_atom_id</th>\n",
       "      <th>rel_distance</th>\n",
       "      <th>rel_x</th>\n",
       "      <th>rel_y</th>\n",
       "      <th>rel_z</th>\n",
       "      <th>unitcell_x</th>\n",
       "      <th>unitcell_y</th>\n",
       "      <th>unitcell_z</th>\n",
       "      <th>central_atom_symbol</th>\n",
       "      <th>neighboring_atom_symbol</th>\n",
       "    </tr>\n",
       "  </thead>\n",
       "  <tbody>\n",
       "    <tr>\n",
       "      <th>148</th>\n",
       "      <td>5</td>\n",
       "      <td>1</td>\n",
       "      <td>3.209053</td>\n",
       "      <td>0.000000</td>\n",
       "      <td>-3.030710</td>\n",
       "      <td>-1.054900</td>\n",
       "      <td>0</td>\n",
       "      <td>0</td>\n",
       "      <td>0</td>\n",
       "      <td>C</td>\n",
       "      <td>Ba</td>\n",
       "    </tr>\n",
       "    <tr>\n",
       "      <th>149</th>\n",
       "      <td>5</td>\n",
       "      <td>2</td>\n",
       "      <td>3.620551</td>\n",
       "      <td>0.000000</td>\n",
       "      <td>2.906169</td>\n",
       "      <td>2.159300</td>\n",
       "      <td>0</td>\n",
       "      <td>1</td>\n",
       "      <td>1</td>\n",
       "      <td>C</td>\n",
       "      <td>Ba</td>\n",
       "    </tr>\n",
       "    <tr>\n",
       "      <th>150</th>\n",
       "      <td>5</td>\n",
       "      <td>3</td>\n",
       "      <td>3.718514</td>\n",
       "      <td>-2.656300</td>\n",
       "      <td>-1.541731</td>\n",
       "      <td>2.096301</td>\n",
       "      <td>-1</td>\n",
       "      <td>0</td>\n",
       "      <td>1</td>\n",
       "      <td>C</td>\n",
       "      <td>Ba</td>\n",
       "    </tr>\n",
       "    <tr>\n",
       "      <th>151</th>\n",
       "      <td>5</td>\n",
       "      <td>3</td>\n",
       "      <td>3.718514</td>\n",
       "      <td>2.656300</td>\n",
       "      <td>-1.541731</td>\n",
       "      <td>2.096301</td>\n",
       "      <td>0</td>\n",
       "      <td>0</td>\n",
       "      <td>1</td>\n",
       "      <td>C</td>\n",
       "      <td>Ba</td>\n",
       "    </tr>\n",
       "    <tr>\n",
       "      <th>152</th>\n",
       "      <td>5</td>\n",
       "      <td>4</td>\n",
       "      <td>3.211550</td>\n",
       "      <td>-2.656300</td>\n",
       "      <td>1.417190</td>\n",
       "      <td>-1.117899</td>\n",
       "      <td>-1</td>\n",
       "      <td>0</td>\n",
       "      <td>0</td>\n",
       "      <td>C</td>\n",
       "      <td>Ba</td>\n",
       "    </tr>\n",
       "    <tr>\n",
       "      <th>...</th>\n",
       "      <td>...</td>\n",
       "      <td>...</td>\n",
       "      <td>...</td>\n",
       "      <td>...</td>\n",
       "      <td>...</td>\n",
       "      <td>...</td>\n",
       "      <td>...</td>\n",
       "      <td>...</td>\n",
       "      <td>...</td>\n",
       "      <td>...</td>\n",
       "      <td>...</td>\n",
       "    </tr>\n",
       "    <tr>\n",
       "      <th>255</th>\n",
       "      <td>8</td>\n",
       "      <td>18</td>\n",
       "      <td>1.289100</td>\n",
       "      <td>1.112990</td>\n",
       "      <td>-0.650283</td>\n",
       "      <td>-0.012857</td>\n",
       "      <td>0</td>\n",
       "      <td>0</td>\n",
       "      <td>0</td>\n",
       "      <td>C</td>\n",
       "      <td>O</td>\n",
       "    </tr>\n",
       "    <tr>\n",
       "      <th>256</th>\n",
       "      <td>8</td>\n",
       "      <td>19</td>\n",
       "      <td>3.453845</td>\n",
       "      <td>1.112990</td>\n",
       "      <td>0.525742</td>\n",
       "      <td>-3.227057</td>\n",
       "      <td>0</td>\n",
       "      <td>0</td>\n",
       "      <td>0</td>\n",
       "      <td>C</td>\n",
       "      <td>O</td>\n",
       "    </tr>\n",
       "    <tr>\n",
       "      <th>257</th>\n",
       "      <td>8</td>\n",
       "      <td>19</td>\n",
       "      <td>3.429832</td>\n",
       "      <td>1.112990</td>\n",
       "      <td>0.525742</td>\n",
       "      <td>3.201343</td>\n",
       "      <td>0</td>\n",
       "      <td>0</td>\n",
       "      <td>1</td>\n",
       "      <td>C</td>\n",
       "      <td>O</td>\n",
       "    </tr>\n",
       "    <tr>\n",
       "      <th>258</th>\n",
       "      <td>8</td>\n",
       "      <td>20</td>\n",
       "      <td>1.289100</td>\n",
       "      <td>-1.112990</td>\n",
       "      <td>-0.650283</td>\n",
       "      <td>-0.012857</td>\n",
       "      <td>0</td>\n",
       "      <td>0</td>\n",
       "      <td>0</td>\n",
       "      <td>C</td>\n",
       "      <td>O</td>\n",
       "    </tr>\n",
       "    <tr>\n",
       "      <th>259</th>\n",
       "      <td>8</td>\n",
       "      <td>20</td>\n",
       "      <td>4.249678</td>\n",
       "      <td>4.199610</td>\n",
       "      <td>-0.650283</td>\n",
       "      <td>-0.012857</td>\n",
       "      <td>1</td>\n",
       "      <td>0</td>\n",
       "      <td>0</td>\n",
       "      <td>C</td>\n",
       "      <td>O</td>\n",
       "    </tr>\n",
       "  </tbody>\n",
       "</table>\n",
       "<p>112 rows × 11 columns</p>\n",
       "</div>"
      ],
      "text/plain": [
       "    central_atom_id neighboring_atom_id  rel_distance     rel_x     rel_y  \\\n",
       "148               5                   1      3.209053  0.000000 -3.030710   \n",
       "149               5                   2      3.620551  0.000000  2.906169   \n",
       "150               5                   3      3.718514 -2.656300 -1.541731   \n",
       "151               5                   3      3.718514  2.656300 -1.541731   \n",
       "152               5                   4      3.211550 -2.656300  1.417190   \n",
       "..              ...                 ...           ...       ...       ...   \n",
       "255               8                  18      1.289100  1.112990 -0.650283   \n",
       "256               8                  19      3.453845  1.112990  0.525742   \n",
       "257               8                  19      3.429832  1.112990  0.525742   \n",
       "258               8                  20      1.289100 -1.112990 -0.650283   \n",
       "259               8                  20      4.249678  4.199610 -0.650283   \n",
       "\n",
       "        rel_z  unitcell_x  unitcell_y  unitcell_z central_atom_symbol  \\\n",
       "148 -1.054900           0           0           0                   C   \n",
       "149  2.159300           0           1           1                   C   \n",
       "150  2.096301          -1           0           1                   C   \n",
       "151  2.096301           0           0           1                   C   \n",
       "152 -1.117899          -1           0           0                   C   \n",
       "..        ...         ...         ...         ...                 ...   \n",
       "255 -0.012857           0           0           0                   C   \n",
       "256 -3.227057           0           0           0                   C   \n",
       "257  3.201343           0           0           1                   C   \n",
       "258 -0.012857           0           0           0                   C   \n",
       "259 -0.012857           1           0           0                   C   \n",
       "\n",
       "    neighboring_atom_symbol  \n",
       "148                      Ba  \n",
       "149                      Ba  \n",
       "150                      Ba  \n",
       "151                      Ba  \n",
       "152                      Ba  \n",
       "..                      ...  \n",
       "255                       O  \n",
       "256                       O  \n",
       "257                       O  \n",
       "258                       O  \n",
       "259                       O  \n",
       "\n",
       "[112 rows x 11 columns]"
      ]
     },
     "execution_count": 7,
     "metadata": {},
     "output_type": "execute_result"
    }
   ],
   "source": [
    "df_nnlist_squeezed_center_atom = df_nnlist[df_nnlist['central_atom_symbol'] == 'C']\n",
    "df_nnlist_squeezed_center_atom"
   ]
  },
  {
   "cell_type": "markdown",
   "id": "bb33a527-9e3d-4a0e-88aa-014d78936b20",
   "metadata": {
    "tags": []
   },
   "source": [
    "### 2．POSCAR.nnlistにおいて，原子Cから0-2．のCO結合距離以内に，原子Oを3つ以上含む，中心原子Cが存在する．"
   ]
  },
  {
   "cell_type": "markdown",
   "id": "4cfddf61-1928-4a9d-942a-eeb73b1dab33",
   "metadata": {
    "tags": []
   },
   "source": [
    "#### 2．の試行錯誤"
   ]
  },
  {
   "cell_type": "code",
   "execution_count": 8,
   "id": "31511eeb-8bcf-49f1-9221-c19b42a3eb53",
   "metadata": {
    "tags": []
   },
   "outputs": [
    {
     "data": {
      "text/plain": [
       "{'5': [148, 149, 150, 151, 152, 153, 154, 155, 156, 157, 158, 159, 160, 161, 162, 163, 164, 165, 166, 167, 168, 169, 170, 171, 172, 173, 174, 175], '6': [176, 177, 178, 179, 180, 181, 182, 183, 184, 185, 186, 187, 188, 189, 190, 191, 192, 193, 194, 195, 196, 197, 198, 199, 200, 201, 202, 203], '7': [204, 205, 206, 207, 208, 209, 210, 211, 212, 213, 214, 215, 216, 217, 218, 219, 220, 221, 222, 223, 224, 225, 226, 227, 228, 229, 230, 231], '8': [232, 233, 234, 235, 236, 237, 238, 239, 240, 241, 242, 243, 244, 245, 246, 247, 248, 249, 250, 251, 252, 253, 254, 255, 256, 257, 258, 259]}"
      ]
     },
     "execution_count": 8,
     "metadata": {},
     "output_type": "execute_result"
    }
   ],
   "source": [
    "df_nnlist_group_dict = df_nnlist[df_nnlist['central_atom_symbol'] == 'C'].groupby('central_atom_id').groups\n",
    "df_nnlist_group_dict"
   ]
  },
  {
   "cell_type": "code",
   "execution_count": 13,
   "id": "9801c83d-7a70-401b-a1fc-39fb3727b60d",
   "metadata": {
    "tags": []
   },
   "outputs": [
    {
     "data": {
      "text/html": [
       "<div>\n",
       "<style scoped>\n",
       "    .dataframe tbody tr th:only-of-type {\n",
       "        vertical-align: middle;\n",
       "    }\n",
       "\n",
       "    .dataframe tbody tr th {\n",
       "        vertical-align: top;\n",
       "    }\n",
       "\n",
       "    .dataframe thead th {\n",
       "        text-align: right;\n",
       "    }\n",
       "</style>\n",
       "<table border=\"1\" class=\"dataframe\">\n",
       "  <thead>\n",
       "    <tr style=\"text-align: right;\">\n",
       "      <th></th>\n",
       "      <th>central_atom_id</th>\n",
       "      <th>neighboring_atom_id</th>\n",
       "      <th>rel_distance</th>\n",
       "      <th>rel_x</th>\n",
       "      <th>rel_y</th>\n",
       "      <th>rel_z</th>\n",
       "      <th>unitcell_x</th>\n",
       "      <th>unitcell_y</th>\n",
       "      <th>unitcell_z</th>\n",
       "      <th>central_atom_symbol</th>\n",
       "      <th>neighboring_atom_symbol</th>\n",
       "    </tr>\n",
       "  </thead>\n",
       "  <tbody>\n",
       "    <tr>\n",
       "      <th>148</th>\n",
       "      <td>5</td>\n",
       "      <td>1</td>\n",
       "      <td>3.209053</td>\n",
       "      <td>0.000000</td>\n",
       "      <td>-3.030710</td>\n",
       "      <td>-1.054900</td>\n",
       "      <td>0</td>\n",
       "      <td>0</td>\n",
       "      <td>0</td>\n",
       "      <td>C</td>\n",
       "      <td>Ba</td>\n",
       "    </tr>\n",
       "    <tr>\n",
       "      <th>149</th>\n",
       "      <td>5</td>\n",
       "      <td>2</td>\n",
       "      <td>3.620551</td>\n",
       "      <td>0.000000</td>\n",
       "      <td>2.906169</td>\n",
       "      <td>2.159300</td>\n",
       "      <td>0</td>\n",
       "      <td>1</td>\n",
       "      <td>1</td>\n",
       "      <td>C</td>\n",
       "      <td>Ba</td>\n",
       "    </tr>\n",
       "    <tr>\n",
       "      <th>150</th>\n",
       "      <td>5</td>\n",
       "      <td>3</td>\n",
       "      <td>3.718514</td>\n",
       "      <td>-2.656300</td>\n",
       "      <td>-1.541731</td>\n",
       "      <td>2.096301</td>\n",
       "      <td>-1</td>\n",
       "      <td>0</td>\n",
       "      <td>1</td>\n",
       "      <td>C</td>\n",
       "      <td>Ba</td>\n",
       "    </tr>\n",
       "    <tr>\n",
       "      <th>151</th>\n",
       "      <td>5</td>\n",
       "      <td>3</td>\n",
       "      <td>3.718514</td>\n",
       "      <td>2.656300</td>\n",
       "      <td>-1.541731</td>\n",
       "      <td>2.096301</td>\n",
       "      <td>0</td>\n",
       "      <td>0</td>\n",
       "      <td>1</td>\n",
       "      <td>C</td>\n",
       "      <td>Ba</td>\n",
       "    </tr>\n",
       "    <tr>\n",
       "      <th>152</th>\n",
       "      <td>5</td>\n",
       "      <td>4</td>\n",
       "      <td>3.211550</td>\n",
       "      <td>-2.656300</td>\n",
       "      <td>1.417190</td>\n",
       "      <td>-1.117899</td>\n",
       "      <td>-1</td>\n",
       "      <td>0</td>\n",
       "      <td>0</td>\n",
       "      <td>C</td>\n",
       "      <td>Ba</td>\n",
       "    </tr>\n",
       "    <tr>\n",
       "      <th>153</th>\n",
       "      <td>5</td>\n",
       "      <td>4</td>\n",
       "      <td>3.211550</td>\n",
       "      <td>2.656300</td>\n",
       "      <td>1.417190</td>\n",
       "      <td>-1.117899</td>\n",
       "      <td>0</td>\n",
       "      <td>0</td>\n",
       "      <td>0</td>\n",
       "      <td>C</td>\n",
       "      <td>Ba</td>\n",
       "    </tr>\n",
       "    <tr>\n",
       "      <th>154</th>\n",
       "      <td>5</td>\n",
       "      <td>5</td>\n",
       "      <td>0.000000</td>\n",
       "      <td>0.000000</td>\n",
       "      <td>0.000000</td>\n",
       "      <td>0.000000</td>\n",
       "      <td>0</td>\n",
       "      <td>0</td>\n",
       "      <td>0</td>\n",
       "      <td>C</td>\n",
       "      <td>C</td>\n",
       "    </tr>\n",
       "    <tr>\n",
       "      <th>155</th>\n",
       "      <td>5</td>\n",
       "      <td>6</td>\n",
       "      <td>3.216612</td>\n",
       "      <td>0.000000</td>\n",
       "      <td>-0.124541</td>\n",
       "      <td>-3.214200</td>\n",
       "      <td>0</td>\n",
       "      <td>0</td>\n",
       "      <td>0</td>\n",
       "      <td>C</td>\n",
       "      <td>C</td>\n",
       "    </tr>\n",
       "    <tr>\n",
       "      <th>156</th>\n",
       "      <td>5</td>\n",
       "      <td>6</td>\n",
       "      <td>3.216612</td>\n",
       "      <td>0.000000</td>\n",
       "      <td>-0.124541</td>\n",
       "      <td>3.214200</td>\n",
       "      <td>0</td>\n",
       "      <td>0</td>\n",
       "      <td>1</td>\n",
       "      <td>C</td>\n",
       "      <td>C</td>\n",
       "    </tr>\n",
       "    <tr>\n",
       "      <th>157</th>\n",
       "      <td>5</td>\n",
       "      <td>9</td>\n",
       "      <td>1.282630</td>\n",
       "      <td>0.000000</td>\n",
       "      <td>1.281885</td>\n",
       "      <td>-0.043713</td>\n",
       "      <td>0</td>\n",
       "      <td>0</td>\n",
       "      <td>0</td>\n",
       "      <td>C</td>\n",
       "      <td>O</td>\n",
       "    </tr>\n",
       "    <tr>\n",
       "      <th>158</th>\n",
       "      <td>5</td>\n",
       "      <td>10</td>\n",
       "      <td>3.548525</td>\n",
       "      <td>0.000000</td>\n",
       "      <td>-1.406426</td>\n",
       "      <td>-3.257913</td>\n",
       "      <td>0</td>\n",
       "      <td>0</td>\n",
       "      <td>0</td>\n",
       "      <td>C</td>\n",
       "      <td>O</td>\n",
       "    </tr>\n",
       "    <tr>\n",
       "      <th>159</th>\n",
       "      <td>5</td>\n",
       "      <td>10</td>\n",
       "      <td>3.468432</td>\n",
       "      <td>0.000000</td>\n",
       "      <td>-1.406426</td>\n",
       "      <td>3.170487</td>\n",
       "      <td>0</td>\n",
       "      <td>0</td>\n",
       "      <td>1</td>\n",
       "      <td>C</td>\n",
       "      <td>O</td>\n",
       "    </tr>\n",
       "    <tr>\n",
       "      <th>160</th>\n",
       "      <td>5</td>\n",
       "      <td>11</td>\n",
       "      <td>4.181383</td>\n",
       "      <td>-2.656300</td>\n",
       "      <td>3.041474</td>\n",
       "      <td>1.085114</td>\n",
       "      <td>-1</td>\n",
       "      <td>1</td>\n",
       "      <td>1</td>\n",
       "      <td>C</td>\n",
       "      <td>O</td>\n",
       "    </tr>\n",
       "    <tr>\n",
       "      <th>161</th>\n",
       "      <td>5</td>\n",
       "      <td>11</td>\n",
       "      <td>4.181383</td>\n",
       "      <td>2.656300</td>\n",
       "      <td>3.041474</td>\n",
       "      <td>1.085114</td>\n",
       "      <td>0</td>\n",
       "      <td>1</td>\n",
       "      <td>1</td>\n",
       "      <td>C</td>\n",
       "      <td>O</td>\n",
       "    </tr>\n",
       "    <tr>\n",
       "      <th>162</th>\n",
       "      <td>5</td>\n",
       "      <td>12</td>\n",
       "      <td>4.648934</td>\n",
       "      <td>-2.656300</td>\n",
       "      <td>-3.166015</td>\n",
       "      <td>-2.129086</td>\n",
       "      <td>-1</td>\n",
       "      <td>0</td>\n",
       "      <td>0</td>\n",
       "      <td>C</td>\n",
       "      <td>O</td>\n",
       "    </tr>\n",
       "    <tr>\n",
       "      <th>163</th>\n",
       "      <td>5</td>\n",
       "      <td>12</td>\n",
       "      <td>4.648934</td>\n",
       "      <td>2.656300</td>\n",
       "      <td>-3.166015</td>\n",
       "      <td>-2.129086</td>\n",
       "      <td>0</td>\n",
       "      <td>0</td>\n",
       "      <td>0</td>\n",
       "      <td>C</td>\n",
       "      <td>O</td>\n",
       "    </tr>\n",
       "    <tr>\n",
       "      <th>164</th>\n",
       "      <td>5</td>\n",
       "      <td>13</td>\n",
       "      <td>4.249678</td>\n",
       "      <td>-4.199610</td>\n",
       "      <td>-0.650283</td>\n",
       "      <td>0.012857</td>\n",
       "      <td>-1</td>\n",
       "      <td>0</td>\n",
       "      <td>0</td>\n",
       "      <td>C</td>\n",
       "      <td>O</td>\n",
       "    </tr>\n",
       "    <tr>\n",
       "      <th>165</th>\n",
       "      <td>5</td>\n",
       "      <td>13</td>\n",
       "      <td>1.289100</td>\n",
       "      <td>1.112990</td>\n",
       "      <td>-0.650283</td>\n",
       "      <td>0.012857</td>\n",
       "      <td>0</td>\n",
       "      <td>0</td>\n",
       "      <td>0</td>\n",
       "      <td>C</td>\n",
       "      <td>O</td>\n",
       "    </tr>\n",
       "    <tr>\n",
       "      <th>166</th>\n",
       "      <td>5</td>\n",
       "      <td>14</td>\n",
       "      <td>3.429832</td>\n",
       "      <td>-1.112990</td>\n",
       "      <td>0.525742</td>\n",
       "      <td>-3.201343</td>\n",
       "      <td>0</td>\n",
       "      <td>0</td>\n",
       "      <td>0</td>\n",
       "      <td>C</td>\n",
       "      <td>O</td>\n",
       "    </tr>\n",
       "    <tr>\n",
       "      <th>167</th>\n",
       "      <td>5</td>\n",
       "      <td>14</td>\n",
       "      <td>3.453845</td>\n",
       "      <td>-1.112990</td>\n",
       "      <td>0.525742</td>\n",
       "      <td>3.227057</td>\n",
       "      <td>0</td>\n",
       "      <td>0</td>\n",
       "      <td>1</td>\n",
       "      <td>C</td>\n",
       "      <td>O</td>\n",
       "    </tr>\n",
       "    <tr>\n",
       "      <th>168</th>\n",
       "      <td>5</td>\n",
       "      <td>15</td>\n",
       "      <td>4.338552</td>\n",
       "      <td>1.543310</td>\n",
       "      <td>-3.922158</td>\n",
       "      <td>1.028544</td>\n",
       "      <td>0</td>\n",
       "      <td>0</td>\n",
       "      <td>1</td>\n",
       "      <td>C</td>\n",
       "      <td>O</td>\n",
       "    </tr>\n",
       "    <tr>\n",
       "      <th>169</th>\n",
       "      <td>5</td>\n",
       "      <td>16</td>\n",
       "      <td>1.289100</td>\n",
       "      <td>-1.112990</td>\n",
       "      <td>-0.650283</td>\n",
       "      <td>0.012857</td>\n",
       "      <td>0</td>\n",
       "      <td>0</td>\n",
       "      <td>0</td>\n",
       "      <td>C</td>\n",
       "      <td>O</td>\n",
       "    </tr>\n",
       "    <tr>\n",
       "      <th>170</th>\n",
       "      <td>5</td>\n",
       "      <td>16</td>\n",
       "      <td>4.249678</td>\n",
       "      <td>4.199610</td>\n",
       "      <td>-0.650283</td>\n",
       "      <td>0.012857</td>\n",
       "      <td>1</td>\n",
       "      <td>0</td>\n",
       "      <td>0</td>\n",
       "      <td>C</td>\n",
       "      <td>O</td>\n",
       "    </tr>\n",
       "    <tr>\n",
       "      <th>171</th>\n",
       "      <td>5</td>\n",
       "      <td>17</td>\n",
       "      <td>3.429832</td>\n",
       "      <td>1.112990</td>\n",
       "      <td>0.525742</td>\n",
       "      <td>-3.201343</td>\n",
       "      <td>0</td>\n",
       "      <td>0</td>\n",
       "      <td>0</td>\n",
       "      <td>C</td>\n",
       "      <td>O</td>\n",
       "    </tr>\n",
       "    <tr>\n",
       "      <th>172</th>\n",
       "      <td>5</td>\n",
       "      <td>17</td>\n",
       "      <td>3.453845</td>\n",
       "      <td>1.112990</td>\n",
       "      <td>0.525742</td>\n",
       "      <td>3.227057</td>\n",
       "      <td>0</td>\n",
       "      <td>0</td>\n",
       "      <td>1</td>\n",
       "      <td>C</td>\n",
       "      <td>O</td>\n",
       "    </tr>\n",
       "    <tr>\n",
       "      <th>173</th>\n",
       "      <td>5</td>\n",
       "      <td>18</td>\n",
       "      <td>4.645513</td>\n",
       "      <td>-1.543310</td>\n",
       "      <td>3.797617</td>\n",
       "      <td>-2.185656</td>\n",
       "      <td>-1</td>\n",
       "      <td>1</td>\n",
       "      <td>0</td>\n",
       "      <td>C</td>\n",
       "      <td>O</td>\n",
       "    </tr>\n",
       "    <tr>\n",
       "      <th>174</th>\n",
       "      <td>5</td>\n",
       "      <td>19</td>\n",
       "      <td>4.338552</td>\n",
       "      <td>-1.543310</td>\n",
       "      <td>-3.922158</td>\n",
       "      <td>1.028544</td>\n",
       "      <td>-1</td>\n",
       "      <td>0</td>\n",
       "      <td>1</td>\n",
       "      <td>C</td>\n",
       "      <td>O</td>\n",
       "    </tr>\n",
       "    <tr>\n",
       "      <th>175</th>\n",
       "      <td>5</td>\n",
       "      <td>20</td>\n",
       "      <td>4.645513</td>\n",
       "      <td>1.543310</td>\n",
       "      <td>3.797617</td>\n",
       "      <td>-2.185656</td>\n",
       "      <td>0</td>\n",
       "      <td>1</td>\n",
       "      <td>0</td>\n",
       "      <td>C</td>\n",
       "      <td>O</td>\n",
       "    </tr>\n",
       "  </tbody>\n",
       "</table>\n",
       "</div>"
      ],
      "text/plain": [
       "    central_atom_id neighboring_atom_id  rel_distance     rel_x     rel_y  \\\n",
       "148               5                   1      3.209053  0.000000 -3.030710   \n",
       "149               5                   2      3.620551  0.000000  2.906169   \n",
       "150               5                   3      3.718514 -2.656300 -1.541731   \n",
       "151               5                   3      3.718514  2.656300 -1.541731   \n",
       "152               5                   4      3.211550 -2.656300  1.417190   \n",
       "153               5                   4      3.211550  2.656300  1.417190   \n",
       "154               5                   5      0.000000  0.000000  0.000000   \n",
       "155               5                   6      3.216612  0.000000 -0.124541   \n",
       "156               5                   6      3.216612  0.000000 -0.124541   \n",
       "157               5                   9      1.282630  0.000000  1.281885   \n",
       "158               5                  10      3.548525  0.000000 -1.406426   \n",
       "159               5                  10      3.468432  0.000000 -1.406426   \n",
       "160               5                  11      4.181383 -2.656300  3.041474   \n",
       "161               5                  11      4.181383  2.656300  3.041474   \n",
       "162               5                  12      4.648934 -2.656300 -3.166015   \n",
       "163               5                  12      4.648934  2.656300 -3.166015   \n",
       "164               5                  13      4.249678 -4.199610 -0.650283   \n",
       "165               5                  13      1.289100  1.112990 -0.650283   \n",
       "166               5                  14      3.429832 -1.112990  0.525742   \n",
       "167               5                  14      3.453845 -1.112990  0.525742   \n",
       "168               5                  15      4.338552  1.543310 -3.922158   \n",
       "169               5                  16      1.289100 -1.112990 -0.650283   \n",
       "170               5                  16      4.249678  4.199610 -0.650283   \n",
       "171               5                  17      3.429832  1.112990  0.525742   \n",
       "172               5                  17      3.453845  1.112990  0.525742   \n",
       "173               5                  18      4.645513 -1.543310  3.797617   \n",
       "174               5                  19      4.338552 -1.543310 -3.922158   \n",
       "175               5                  20      4.645513  1.543310  3.797617   \n",
       "\n",
       "        rel_z  unitcell_x  unitcell_y  unitcell_z central_atom_symbol  \\\n",
       "148 -1.054900           0           0           0                   C   \n",
       "149  2.159300           0           1           1                   C   \n",
       "150  2.096301          -1           0           1                   C   \n",
       "151  2.096301           0           0           1                   C   \n",
       "152 -1.117899          -1           0           0                   C   \n",
       "153 -1.117899           0           0           0                   C   \n",
       "154  0.000000           0           0           0                   C   \n",
       "155 -3.214200           0           0           0                   C   \n",
       "156  3.214200           0           0           1                   C   \n",
       "157 -0.043713           0           0           0                   C   \n",
       "158 -3.257913           0           0           0                   C   \n",
       "159  3.170487           0           0           1                   C   \n",
       "160  1.085114          -1           1           1                   C   \n",
       "161  1.085114           0           1           1                   C   \n",
       "162 -2.129086          -1           0           0                   C   \n",
       "163 -2.129086           0           0           0                   C   \n",
       "164  0.012857          -1           0           0                   C   \n",
       "165  0.012857           0           0           0                   C   \n",
       "166 -3.201343           0           0           0                   C   \n",
       "167  3.227057           0           0           1                   C   \n",
       "168  1.028544           0           0           1                   C   \n",
       "169  0.012857           0           0           0                   C   \n",
       "170  0.012857           1           0           0                   C   \n",
       "171 -3.201343           0           0           0                   C   \n",
       "172  3.227057           0           0           1                   C   \n",
       "173 -2.185656          -1           1           0                   C   \n",
       "174  1.028544          -1           0           1                   C   \n",
       "175 -2.185656           0           1           0                   C   \n",
       "\n",
       "    neighboring_atom_symbol  \n",
       "148                      Ba  \n",
       "149                      Ba  \n",
       "150                      Ba  \n",
       "151                      Ba  \n",
       "152                      Ba  \n",
       "153                      Ba  \n",
       "154                       C  \n",
       "155                       C  \n",
       "156                       C  \n",
       "157                       O  \n",
       "158                       O  \n",
       "159                       O  \n",
       "160                       O  \n",
       "161                       O  \n",
       "162                       O  \n",
       "163                       O  \n",
       "164                       O  \n",
       "165                       O  \n",
       "166                       O  \n",
       "167                       O  \n",
       "168                       O  \n",
       "169                       O  \n",
       "170                       O  \n",
       "171                       O  \n",
       "172                       O  \n",
       "173                       O  \n",
       "174                       O  \n",
       "175                       O  "
      ]
     },
     "execution_count": 13,
     "metadata": {},
     "output_type": "execute_result"
    }
   ],
   "source": [
    "df_nnlist.iloc[df_nnlist_group_dict['5']]"
   ]
  },
  {
   "cell_type": "code",
   "execution_count": 139,
   "id": "c351324a-bde9-4023-9c7d-13f477016bc9",
   "metadata": {
    "tags": []
   },
   "outputs": [
    {
     "data": {
      "text/plain": [
       "array(['1', '2', '3', '4'], dtype='<U1')"
      ]
     },
     "execution_count": 139,
     "metadata": {},
     "output_type": "execute_result"
    }
   ],
   "source": [
    "df_nnlist_central_atom_ids = np.array(list(df_nnlist_group_dict.keys()))\n",
    "df_nnlist_central_atom_ids"
   ]
  },
  {
   "cell_type": "code",
   "execution_count": 141,
   "id": "d65a4446-1e41-4598-9815-4d3a740953c0",
   "metadata": {
    "tags": []
   },
   "outputs": [],
   "source": [
    "bool_list = []\n",
    "for key in df_nnlist_central_atom_ids:\n",
    "    bool_list.append(df_nnlist_squeezed_center_atom.iloc[df_nnlist_group_dict[key]]['neighboring_atom_symbol'].tolist().count('O') >= 3)"
   ]
  },
  {
   "cell_type": "code",
   "execution_count": 149,
   "id": "25488974-c67b-475f-9d52-50c2ad3b3bc4",
   "metadata": {
    "tags": []
   },
   "outputs": [
    {
     "data": {
      "text/plain": [
       "array(['1', '2', '3', '4'], dtype='<U1')"
      ]
     },
     "execution_count": 149,
     "metadata": {},
     "output_type": "execute_result"
    }
   ],
   "source": [
    "df_nnlist_central_atom_ids_fillterd = df_nnlist_central_atom_ids[bool_list]\n",
    "df_nnlist_central_atom_ids_fillterd"
   ]
  },
  {
   "cell_type": "code",
   "execution_count": 153,
   "id": "05fee39c-316a-4c76-a9bd-3df1e71a5252",
   "metadata": {
    "tags": []
   },
   "outputs": [],
   "source": [
    "bool_filter_2 = len(df_nnlist_central_atom_ids_fillterd) >= 1"
   ]
  },
  {
   "cell_type": "code",
   "execution_count": null,
   "id": "f99f9d46-4480-4b7a-b173-65d1109c3441",
   "metadata": {},
   "outputs": [],
   "source": []
  },
  {
   "cell_type": "code",
   "execution_count": 18,
   "id": "5cebc7bc-3114-408a-8193-cb90585df71e",
   "metadata": {
    "tags": []
   },
   "outputs": [],
   "source": [
    "df_nnlist_group_dict = df_nnlist[df_nnlist['central_atom_symbol'] == 'C'].groupby('central_atom_id').groups"
   ]
  },
  {
   "cell_type": "code",
   "execution_count": 36,
   "id": "bae91c34-385a-4ea1-bcc0-4380e2c4bdc2",
   "metadata": {
    "tags": []
   },
   "outputs": [
    {
     "data": {
      "text/plain": [
       "{'1': [0, 1, 2, 3], '2': [4, 5, 6, 7], '3': [8, 9, 10, 11], '4': [12, 13, 14, 15]}"
      ]
     },
     "execution_count": 36,
     "metadata": {},
     "output_type": "execute_result"
    }
   ],
   "source": [
    "df_nnlist_group_dict"
   ]
  },
  {
   "cell_type": "code",
   "execution_count": 37,
   "id": "52aa04a6-76ef-4afc-a186-83d93f17dcd6",
   "metadata": {
    "tags": []
   },
   "outputs": [
    {
     "data": {
      "text/plain": [
       "{'1': Int64Index([0, 1, 2, 3], dtype='int64'),\n",
       " '2': Int64Index([4, 5, 6, 7], dtype='int64'),\n",
       " '3': Int64Index([8, 9, 10, 11], dtype='int64'),\n",
       " '4': Int64Index([12, 13, 14, 15], dtype='int64')}"
      ]
     },
     "execution_count": 37,
     "metadata": {},
     "output_type": "execute_result"
    }
   ],
   "source": [
    "{key: df_nnlist_group_dict[key] for key in df_nnlist_group_dict.keys()}"
   ]
  },
  {
   "cell_type": "code",
   "execution_count": 38,
   "id": "0377bf9d-c9fc-4ddd-b0fc-ee745d59c754",
   "metadata": {
    "tags": []
   },
   "outputs": [
    {
     "data": {
      "text/plain": [
       "{'1': Int64Index([0, 1, 2, 3], dtype='int64'),\n",
       " '2': Int64Index([4, 5, 6, 7], dtype='int64'),\n",
       " '3': Int64Index([8, 9, 10, 11], dtype='int64'),\n",
       " '4': Int64Index([12, 13, 14, 15], dtype='int64')}"
      ]
     },
     "execution_count": 38,
     "metadata": {},
     "output_type": "execute_result"
    }
   ],
   "source": [
    "{key: df_nnlist_group_dict[key] for key in df_nnlist_group_dict.keys() if key in df_nnlist_central_atom_ids_fillterd}"
   ]
  },
  {
   "cell_type": "markdown",
   "id": "f446b241-054a-49a4-ac05-534a02a5cfc4",
   "metadata": {},
   "source": [
    "#### 2．の関数化"
   ]
  },
  {
   "cell_type": "code",
   "execution_count": 14,
   "id": "aac1810e-82e9-4be1-a0d9-4367c640658d",
   "metadata": {
    "tags": []
   },
   "outputs": [],
   "source": [
    "def filter_2(df_nnlist):\n",
    "    df_nnlist_squeezed_center_atom = df_nnlist[df_nnlist['central_atom_symbol'] == 'C']\n",
    "    df_nnlist_group_dict = df_nnlist[df_nnlist['central_atom_symbol'] == 'C'].groupby('central_atom_id').groups\n",
    "    df_nnlist_central_atom_ids = np.array(list(df_nnlist_group_dict.keys()))\n",
    "    bool_list = []\n",
    "    for key in df_nnlist_central_atom_ids:\n",
    "        bool_list.append(df_nnlist.iloc[df_nnlist_group_dict[key]]['neighboring_atom_symbol'].tolist().count('O') >= 3)\n",
    "    df_nnlist_central_atom_ids_fillterd = df_nnlist_central_atom_ids[bool_list]\n",
    "    bool_filter_2 = len(df_nnlist_central_atom_ids_fillterd) >= 1\n",
    "    filtered_df_nnlist_group_dict = {key: df_nnlist_group_dict[key] for key in df_nnlist_group_dict.keys() if key in df_nnlist_central_atom_ids_fillterd}\n",
    "    return bool_filter_2, filtered_df_nnlist_group_dict"
   ]
  },
  {
   "cell_type": "code",
   "execution_count": 15,
   "id": "46b36c9a-3b42-4dc1-a1f6-4d784fd99517",
   "metadata": {
    "tags": []
   },
   "outputs": [],
   "source": [
    "bool_2, dict_2 = filter_2(df_nnlist=df_nnlist)"
   ]
  },
  {
   "cell_type": "code",
   "execution_count": 16,
   "id": "b399255f-90cd-4aab-a658-5c7ccca3896f",
   "metadata": {
    "tags": []
   },
   "outputs": [
    {
     "data": {
      "text/plain": [
       "True"
      ]
     },
     "execution_count": 16,
     "metadata": {},
     "output_type": "execute_result"
    }
   ],
   "source": [
    "bool_2"
   ]
  },
  {
   "cell_type": "code",
   "execution_count": 17,
   "id": "1c736816-bc44-4295-a8a2-d9a35ecf0f5d",
   "metadata": {
    "tags": []
   },
   "outputs": [
    {
     "data": {
      "text/plain": [
       "{'5': Int64Index([148, 149, 150, 151, 152, 153, 154, 155, 156, 157, 158, 159, 160,\n",
       "             161, 162, 163, 164, 165, 166, 167, 168, 169, 170, 171, 172, 173,\n",
       "             174, 175],\n",
       "            dtype='int64'),\n",
       " '6': Int64Index([176, 177, 178, 179, 180, 181, 182, 183, 184, 185, 186, 187, 188,\n",
       "             189, 190, 191, 192, 193, 194, 195, 196, 197, 198, 199, 200, 201,\n",
       "             202, 203],\n",
       "            dtype='int64'),\n",
       " '7': Int64Index([204, 205, 206, 207, 208, 209, 210, 211, 212, 213, 214, 215, 216,\n",
       "             217, 218, 219, 220, 221, 222, 223, 224, 225, 226, 227, 228, 229,\n",
       "             230, 231],\n",
       "            dtype='int64'),\n",
       " '8': Int64Index([232, 233, 234, 235, 236, 237, 238, 239, 240, 241, 242, 243, 244,\n",
       "             245, 246, 247, 248, 249, 250, 251, 252, 253, 254, 255, 256, 257,\n",
       "             258, 259],\n",
       "            dtype='int64')}"
      ]
     },
     "execution_count": 17,
     "metadata": {},
     "output_type": "execute_result"
    }
   ],
   "source": [
    "dict_2"
   ]
  },
  {
   "cell_type": "markdown",
   "id": "72ba5efe-5f8a-4889-888f-0a54206effde",
   "metadata": {},
   "source": [
    "### 3．2．の中心原子Cに対して，1番近い原子がOであり，かつ2番目に近い原子もOであり，かつ3番目に近い原子もOである，中心原子Cが存在する．\n"
   ]
  },
  {
   "cell_type": "code",
   "execution_count": 77,
   "id": "6bb96c34-9618-48a5-a506-c1cb1291ab5c",
   "metadata": {
    "tags": []
   },
   "outputs": [
    {
     "data": {
      "text/plain": [
       "{'1': Int64Index([0, 1, 2, 3], dtype='int64'),\n",
       " '2': Int64Index([4, 5, 6, 7], dtype='int64'),\n",
       " '3': Int64Index([8, 9, 10, 11], dtype='int64'),\n",
       " '4': Int64Index([12, 13, 14, 15], dtype='int64')}"
      ]
     },
     "execution_count": 77,
     "metadata": {},
     "output_type": "execute_result"
    }
   ],
   "source": [
    "dict_"
   ]
  },
  {
   "cell_type": "code",
   "execution_count": 54,
   "id": "b30ca27d-7625-4197-b164-3b5734c0a0e0",
   "metadata": {
    "tags": []
   },
   "outputs": [
    {
     "data": {
      "text/html": [
       "<div>\n",
       "<style scoped>\n",
       "    .dataframe tbody tr th:only-of-type {\n",
       "        vertical-align: middle;\n",
       "    }\n",
       "\n",
       "    .dataframe tbody tr th {\n",
       "        vertical-align: top;\n",
       "    }\n",
       "\n",
       "    .dataframe thead th {\n",
       "        text-align: right;\n",
       "    }\n",
       "</style>\n",
       "<table border=\"1\" class=\"dataframe\">\n",
       "  <thead>\n",
       "    <tr style=\"text-align: right;\">\n",
       "      <th></th>\n",
       "      <th>central_atom_id</th>\n",
       "      <th>neighboring_atom_id</th>\n",
       "      <th>rel_distance</th>\n",
       "      <th>rel_x</th>\n",
       "      <th>rel_y</th>\n",
       "      <th>rel_z</th>\n",
       "      <th>unitcell_x</th>\n",
       "      <th>unitcell_y</th>\n",
       "      <th>unitcell_z</th>\n",
       "      <th>central_atom_symbol</th>\n",
       "      <th>neighboring_atom_symbol</th>\n",
       "    </tr>\n",
       "  </thead>\n",
       "  <tbody>\n",
       "    <tr>\n",
       "      <th>0</th>\n",
       "      <td>1</td>\n",
       "      <td>1</td>\n",
       "      <td>0.000000</td>\n",
       "      <td>0.000000</td>\n",
       "      <td>0.000000</td>\n",
       "      <td>0.000000</td>\n",
       "      <td>0</td>\n",
       "      <td>0</td>\n",
       "      <td>0</td>\n",
       "      <td>C</td>\n",
       "      <td>C</td>\n",
       "    </tr>\n",
       "    <tr>\n",
       "      <th>1</th>\n",
       "      <td>1</td>\n",
       "      <td>9</td>\n",
       "      <td>1.282630</td>\n",
       "      <td>0.000000</td>\n",
       "      <td>1.281885</td>\n",
       "      <td>-0.043713</td>\n",
       "      <td>0</td>\n",
       "      <td>0</td>\n",
       "      <td>0</td>\n",
       "      <td>C</td>\n",
       "      <td>O</td>\n",
       "    </tr>\n",
       "    <tr>\n",
       "      <th>2</th>\n",
       "      <td>1</td>\n",
       "      <td>13</td>\n",
       "      <td>1.289100</td>\n",
       "      <td>1.112990</td>\n",
       "      <td>-0.650283</td>\n",
       "      <td>0.012857</td>\n",
       "      <td>0</td>\n",
       "      <td>0</td>\n",
       "      <td>0</td>\n",
       "      <td>C</td>\n",
       "      <td>O</td>\n",
       "    </tr>\n",
       "    <tr>\n",
       "      <th>3</th>\n",
       "      <td>1</td>\n",
       "      <td>16</td>\n",
       "      <td>1.289100</td>\n",
       "      <td>-1.112990</td>\n",
       "      <td>-0.650283</td>\n",
       "      <td>0.012857</td>\n",
       "      <td>0</td>\n",
       "      <td>0</td>\n",
       "      <td>0</td>\n",
       "      <td>C</td>\n",
       "      <td>O</td>\n",
       "    </tr>\n",
       "  </tbody>\n",
       "</table>\n",
       "</div>"
      ],
      "text/plain": [
       "  central_atom_id neighboring_atom_id  rel_distance     rel_x     rel_y  \\\n",
       "0               1                   1      0.000000  0.000000  0.000000   \n",
       "1               1                   9      1.282630  0.000000  1.281885   \n",
       "2               1                  13      1.289100  1.112990 -0.650283   \n",
       "3               1                  16      1.289100 -1.112990 -0.650283   \n",
       "\n",
       "      rel_z  unitcell_x  unitcell_y  unitcell_z central_atom_symbol  \\\n",
       "0  0.000000           0           0           0                   C   \n",
       "1 -0.043713           0           0           0                   C   \n",
       "2  0.012857           0           0           0                   C   \n",
       "3  0.012857           0           0           0                   C   \n",
       "\n",
       "  neighboring_atom_symbol  \n",
       "0                       C  \n",
       "1                       O  \n",
       "2                       O  \n",
       "3                       O  "
      ]
     },
     "execution_count": 54,
     "metadata": {},
     "output_type": "execute_result"
    }
   ],
   "source": [
    "df_nnlist.iloc[ids['1']].sort_values(by='rel_distance')"
   ]
  },
  {
   "cell_type": "code",
   "execution_count": 56,
   "id": "6fd5c5b0-22a6-4649-bf21-e9a05daf72ed",
   "metadata": {
    "tags": []
   },
   "outputs": [
    {
     "data": {
      "text/plain": [
       "['C', 'O', 'O', 'O']"
      ]
     },
     "execution_count": 56,
     "metadata": {},
     "output_type": "execute_result"
    }
   ],
   "source": [
    "df_nnlist.iloc[ids['1']].sort_values(by='rel_distance')['neighboring_atom_symbol'].tolist()"
   ]
  },
  {
   "cell_type": "code",
   "execution_count": 57,
   "id": "8ce55e8a-6146-426a-af53-f69b29cd9f6c",
   "metadata": {
    "tags": []
   },
   "outputs": [
    {
     "data": {
      "text/plain": [
       "['O', 'O', 'O']"
      ]
     },
     "execution_count": 57,
     "metadata": {},
     "output_type": "execute_result"
    }
   ],
   "source": [
    "df_nnlist.iloc[ids['1']].sort_values(by='rel_distance')['neighboring_atom_symbol'].tolist()[1:4]"
   ]
  },
  {
   "cell_type": "code",
   "execution_count": 61,
   "id": "1189f172-298e-415e-9143-5f3f8149d889",
   "metadata": {
    "tags": []
   },
   "outputs": [
    {
     "data": {
      "text/plain": [
       "True"
      ]
     },
     "execution_count": 61,
     "metadata": {},
     "output_type": "execute_result"
    }
   ],
   "source": [
    "set(df_nnlist.iloc[ids['1']].sort_values(by='rel_distance')['neighboring_atom_symbol'].tolist()[1:4]) == {'O'}"
   ]
  },
  {
   "cell_type": "code",
   "execution_count": 80,
   "id": "2533e15a-4722-4898-932f-3efb360f93e5",
   "metadata": {
    "tags": []
   },
   "outputs": [
    {
     "name": "stdout",
     "output_type": "stream",
     "text": [
      "1 Int64Index([0, 1, 2, 3], dtype='int64')\n",
      "2 Int64Index([4, 5, 6, 7], dtype='int64')\n",
      "3 Int64Index([8, 9, 10, 11], dtype='int64')\n",
      "4 Int64Index([12, 13, 14, 15], dtype='int64')\n"
     ]
    }
   ],
   "source": [
    "for k, v in dict_.items():\n",
    "    print(k, v)"
   ]
  },
  {
   "cell_type": "code",
   "execution_count": 81,
   "id": "9f5c0157-ea88-4854-9dcd-7f7c906168ce",
   "metadata": {
    "tags": []
   },
   "outputs": [],
   "source": [
    "bool_list_3 = []\n",
    "for k, v in dict_.items():\n",
    "    bool_list_3.append(set(df_nnlist.iloc[dict_[k]].sort_values(by='rel_distance')['neighboring_atom_symbol'].tolist()[1:4]) == {'O'})"
   ]
  },
  {
   "cell_type": "code",
   "execution_count": 82,
   "id": "bfc9bdb4-0d09-469a-9dac-059caf074648",
   "metadata": {
    "tags": []
   },
   "outputs": [
    {
     "data": {
      "text/plain": [
       "[True, True, True, True]"
      ]
     },
     "execution_count": 82,
     "metadata": {},
     "output_type": "execute_result"
    }
   ],
   "source": [
    "bool_list_3"
   ]
  },
  {
   "cell_type": "code",
   "execution_count": 93,
   "id": "9a9c5411-7008-459a-b1b3-a45d648b5d6b",
   "metadata": {
    "tags": []
   },
   "outputs": [],
   "source": [
    "bool_list_3 = []\n",
    "for k, v in dict_.items():\n",
    "    bool_list_3.append(set(df_nnlist.iloc[dict_[k]].sort_values(by='rel_distance')['neighboring_atom_symbol'].tolist()[1:4]) == {'O'})\n",
    "df_nnlist_central_atom_ids_fillterd_3 = np.array(list(dict_.keys()))[bool_list_3]\n",
    "filtered_3_df_nnlist_group_dict = {key: dict_[key] for key in dict_.keys() if key in df_nnlist_central_atom_ids_fillterd_3}"
   ]
  },
  {
   "cell_type": "code",
   "execution_count": null,
   "id": "4a4f24a6-a9a7-4c09-8377-76a169ca69cc",
   "metadata": {},
   "outputs": [],
   "source": []
  },
  {
   "cell_type": "markdown",
   "id": "c21c029f-5ab1-448d-a8d6-b863fd2a15ae",
   "metadata": {},
   "source": [
    "#### 3．の関数化"
   ]
  },
  {
   "cell_type": "code",
   "execution_count": 18,
   "id": "395668ec-3ba2-4963-b185-77e05aa6cd1e",
   "metadata": {
    "tags": []
   },
   "outputs": [],
   "source": [
    "def filter_3(df_nnlist, dict_2):\n",
    "    bool_list_3 = []\n",
    "    for k, v in dict_2.items():\n",
    "        bool_list_3.append(set(df_nnlist.iloc[dict_2[k]].sort_values(by='rel_distance')['neighboring_atom_symbol'].tolist()[1:4]) == {'O'})\n",
    "    df_nnlist_central_atom_ids_fillterd_3 = np.array(list(dict_2.keys()))[bool_list_3]\n",
    "    filtered_3_df_nnlist_group_dict = {key: dict_2[key] for key in dict_2.keys() if key in df_nnlist_central_atom_ids_fillterd_3}\n",
    "    bool_filter_3 = len(df_nnlist_central_atom_ids_fillterd_3) >= 1\n",
    "    return bool_filter_3, filtered_3_df_nnlist_group_dict"
   ]
  },
  {
   "cell_type": "code",
   "execution_count": 19,
   "id": "fa0a4486-6b22-4423-b3e6-bdf0e4424999",
   "metadata": {
    "tags": []
   },
   "outputs": [],
   "source": [
    "bool_3, dict_3 = filter_3(df_nnlist=df_nnlist, dict_2=dict_2)"
   ]
  },
  {
   "cell_type": "code",
   "execution_count": 20,
   "id": "9289e259-58a7-47b2-bd7a-8f0439a195e7",
   "metadata": {
    "tags": []
   },
   "outputs": [
    {
     "data": {
      "text/plain": [
       "True"
      ]
     },
     "execution_count": 20,
     "metadata": {},
     "output_type": "execute_result"
    }
   ],
   "source": [
    "bool_3"
   ]
  },
  {
   "cell_type": "code",
   "execution_count": 21,
   "id": "a34b7945-6b3f-4432-88ed-fa6851b803d0",
   "metadata": {
    "tags": []
   },
   "outputs": [
    {
     "data": {
      "text/plain": [
       "{'5': Int64Index([148, 149, 150, 151, 152, 153, 154, 155, 156, 157, 158, 159, 160,\n",
       "             161, 162, 163, 164, 165, 166, 167, 168, 169, 170, 171, 172, 173,\n",
       "             174, 175],\n",
       "            dtype='int64'),\n",
       " '6': Int64Index([176, 177, 178, 179, 180, 181, 182, 183, 184, 185, 186, 187, 188,\n",
       "             189, 190, 191, 192, 193, 194, 195, 196, 197, 198, 199, 200, 201,\n",
       "             202, 203],\n",
       "            dtype='int64'),\n",
       " '7': Int64Index([204, 205, 206, 207, 208, 209, 210, 211, 212, 213, 214, 215, 216,\n",
       "             217, 218, 219, 220, 221, 222, 223, 224, 225, 226, 227, 228, 229,\n",
       "             230, 231],\n",
       "            dtype='int64'),\n",
       " '8': Int64Index([232, 233, 234, 235, 236, 237, 238, 239, 240, 241, 242, 243, 244,\n",
       "             245, 246, 247, 248, 249, 250, 251, 252, 253, 254, 255, 256, 257,\n",
       "             258, 259],\n",
       "            dtype='int64')}"
      ]
     },
     "execution_count": 21,
     "metadata": {},
     "output_type": "execute_result"
    }
   ],
   "source": [
    "dict_3"
   ]
  },
  {
   "cell_type": "code",
   "execution_count": null,
   "id": "3a8eb9d2-7f9b-407b-8469-dcd2b068e6dc",
   "metadata": {},
   "outputs": [],
   "source": []
  },
  {
   "cell_type": "markdown",
   "id": "289b8ea4-7126-49c2-bf8a-69140b009563",
   "metadata": {},
   "source": [
    "### 4．2．の中心原子Cに対して4番目に近い原子が存在しない．→ 条件1をクリア．それ以外→アウト\n"
   ]
  },
  {
   "cell_type": "code",
   "execution_count": null,
   "id": "ba2439d9-60d3-4dd5-bbb6-82d42d3c1e0c",
   "metadata": {},
   "outputs": [],
   "source": []
  },
  {
   "cell_type": "code",
   "execution_count": 29,
   "id": "5f96f5f6-275a-4590-9664-6058bd4e5b08",
   "metadata": {
    "tags": []
   },
   "outputs": [
    {
     "data": {
      "text/plain": [
       "['C', 'O', 'O', 'O']"
      ]
     },
     "execution_count": 29,
     "metadata": {},
     "output_type": "execute_result"
    }
   ],
   "source": [
    "df_nnlist.iloc[dict_3['1']].sort_values(by='rel_distance')['neighboring_atom_symbol'].tolist()"
   ]
  },
  {
   "cell_type": "code",
   "execution_count": 30,
   "id": "72e86265-1f4b-4c85-b559-d8ddff22fb8a",
   "metadata": {
    "tags": []
   },
   "outputs": [
    {
     "data": {
      "text/plain": [
       "4"
      ]
     },
     "execution_count": 30,
     "metadata": {},
     "output_type": "execute_result"
    }
   ],
   "source": [
    "len(df_nnlist.iloc[dict_3['1']].sort_values(by='rel_distance')['neighboring_atom_symbol'].tolist())"
   ]
  },
  {
   "cell_type": "code",
   "execution_count": 22,
   "id": "cd176d82-3428-469c-8c46-d7e64df70b4a",
   "metadata": {
    "tags": []
   },
   "outputs": [],
   "source": [
    "def filter_4(df_nnlist, dict_3):\n",
    "    bool_list_4 = []\n",
    "    for k, v in dict_3.items():\n",
    "        bool_list_4.append(len(df_nnlist.iloc[dict_3[k]].sort_values(by='rel_distance')['neighboring_atom_symbol'].tolist()) == 4)\n",
    "    df_nnlist_central_atom_ids_fillterd_4 = np.array(list(dict_3.keys()))[bool_list_4]\n",
    "    filtered_4_df_nnlist_group_dict = {key: dict_3[key] for key in dict_3.keys() if key in df_nnlist_central_atom_ids_fillterd_4}\n",
    "    bool_filter_4 = len(df_nnlist_central_atom_ids_fillterd_4) >= 1\n",
    "    return bool_filter_4, filtered_4_df_nnlist_group_dict"
   ]
  },
  {
   "cell_type": "code",
   "execution_count": 23,
   "id": "381d63b7-4df0-4920-8bb6-59adfe738474",
   "metadata": {
    "tags": []
   },
   "outputs": [],
   "source": [
    "bool_4, dict_4 = filter_4(df_nnlist=df_nnlist, dict_3=dict_3)"
   ]
  },
  {
   "cell_type": "code",
   "execution_count": 24,
   "id": "c3d52d39-07db-46ec-abc9-8a736fcaefa0",
   "metadata": {
    "tags": []
   },
   "outputs": [
    {
     "data": {
      "text/plain": [
       "False"
      ]
     },
     "execution_count": 24,
     "metadata": {},
     "output_type": "execute_result"
    }
   ],
   "source": [
    "bool_4"
   ]
  },
  {
   "cell_type": "code",
   "execution_count": 25,
   "id": "81c6cb1e-4327-48e9-9ef0-eece28f9a801",
   "metadata": {
    "tags": []
   },
   "outputs": [
    {
     "data": {
      "text/plain": [
       "{}"
      ]
     },
     "execution_count": 25,
     "metadata": {},
     "output_type": "execute_result"
    }
   ],
   "source": [
    "dict_4"
   ]
  },
  {
   "cell_type": "markdown",
   "id": "2f23ad80-b930-4fa7-87b8-0138279de4b7",
   "metadata": {},
   "source": [
    "### 5．2．の中心原子Cに対して4番目に近い原子が，Cに3番目に近い原子OとCのCO距離より大きい．→ 条件1をクリア．"
   ]
  },
  {
   "cell_type": "code",
   "execution_count": 17,
   "id": "a5ab51bb-8010-49b3-b6bc-9b510d914910",
   "metadata": {
    "tags": []
   },
   "outputs": [
    {
     "data": {
      "text/plain": [
       "{'1': Int64Index([0, 1, 2, 3], dtype='int64'),\n",
       " '2': Int64Index([4, 5, 6, 7], dtype='int64'),\n",
       " '3': Int64Index([8, 9, 10, 11], dtype='int64'),\n",
       " '4': Int64Index([12, 13, 14, 15], dtype='int64')}"
      ]
     },
     "execution_count": 17,
     "metadata": {},
     "output_type": "execute_result"
    }
   ],
   "source": [
    "dict_4"
   ]
  },
  {
   "cell_type": "code",
   "execution_count": 18,
   "id": "0e8e1e15-be83-4f2b-8c78-189dfbdb3b82",
   "metadata": {
    "tags": []
   },
   "outputs": [
    {
     "data": {
      "text/html": [
       "<div>\n",
       "<style scoped>\n",
       "    .dataframe tbody tr th:only-of-type {\n",
       "        vertical-align: middle;\n",
       "    }\n",
       "\n",
       "    .dataframe tbody tr th {\n",
       "        vertical-align: top;\n",
       "    }\n",
       "\n",
       "    .dataframe thead th {\n",
       "        text-align: right;\n",
       "    }\n",
       "</style>\n",
       "<table border=\"1\" class=\"dataframe\">\n",
       "  <thead>\n",
       "    <tr style=\"text-align: right;\">\n",
       "      <th></th>\n",
       "      <th>central_atom_id</th>\n",
       "      <th>neighboring_atom_id</th>\n",
       "      <th>rel_distance</th>\n",
       "      <th>rel_x</th>\n",
       "      <th>rel_y</th>\n",
       "      <th>rel_z</th>\n",
       "      <th>unitcell_x</th>\n",
       "      <th>unitcell_y</th>\n",
       "      <th>unitcell_z</th>\n",
       "      <th>central_atom_symbol</th>\n",
       "      <th>neighboring_atom_symbol</th>\n",
       "    </tr>\n",
       "  </thead>\n",
       "  <tbody>\n",
       "    <tr>\n",
       "      <th>0</th>\n",
       "      <td>1</td>\n",
       "      <td>1</td>\n",
       "      <td>0.000000</td>\n",
       "      <td>0.000000</td>\n",
       "      <td>0.000000</td>\n",
       "      <td>0.000000</td>\n",
       "      <td>0</td>\n",
       "      <td>0</td>\n",
       "      <td>0</td>\n",
       "      <td>C</td>\n",
       "      <td>C</td>\n",
       "    </tr>\n",
       "    <tr>\n",
       "      <th>1</th>\n",
       "      <td>1</td>\n",
       "      <td>9</td>\n",
       "      <td>1.282630</td>\n",
       "      <td>0.000000</td>\n",
       "      <td>1.281885</td>\n",
       "      <td>-0.043713</td>\n",
       "      <td>0</td>\n",
       "      <td>0</td>\n",
       "      <td>0</td>\n",
       "      <td>C</td>\n",
       "      <td>O</td>\n",
       "    </tr>\n",
       "    <tr>\n",
       "      <th>2</th>\n",
       "      <td>1</td>\n",
       "      <td>13</td>\n",
       "      <td>1.289100</td>\n",
       "      <td>1.112990</td>\n",
       "      <td>-0.650283</td>\n",
       "      <td>0.012857</td>\n",
       "      <td>0</td>\n",
       "      <td>0</td>\n",
       "      <td>0</td>\n",
       "      <td>C</td>\n",
       "      <td>O</td>\n",
       "    </tr>\n",
       "    <tr>\n",
       "      <th>3</th>\n",
       "      <td>1</td>\n",
       "      <td>16</td>\n",
       "      <td>1.289100</td>\n",
       "      <td>-1.112990</td>\n",
       "      <td>-0.650283</td>\n",
       "      <td>0.012857</td>\n",
       "      <td>0</td>\n",
       "      <td>0</td>\n",
       "      <td>0</td>\n",
       "      <td>C</td>\n",
       "      <td>O</td>\n",
       "    </tr>\n",
       "  </tbody>\n",
       "</table>\n",
       "</div>"
      ],
      "text/plain": [
       "  central_atom_id neighboring_atom_id  rel_distance     rel_x     rel_y  \\\n",
       "0               1                   1      0.000000  0.000000  0.000000   \n",
       "1               1                   9      1.282630  0.000000  1.281885   \n",
       "2               1                  13      1.289100  1.112990 -0.650283   \n",
       "3               1                  16      1.289100 -1.112990 -0.650283   \n",
       "\n",
       "      rel_z  unitcell_x  unitcell_y  unitcell_z central_atom_symbol  \\\n",
       "0  0.000000           0           0           0                   C   \n",
       "1 -0.043713           0           0           0                   C   \n",
       "2  0.012857           0           0           0                   C   \n",
       "3  0.012857           0           0           0                   C   \n",
       "\n",
       "  neighboring_atom_symbol  \n",
       "0                       C  \n",
       "1                       O  \n",
       "2                       O  \n",
       "3                       O  "
      ]
     },
     "execution_count": 18,
     "metadata": {},
     "output_type": "execute_result"
    }
   ],
   "source": [
    "df_nnlist.iloc[dict_4['1']].sort_values(by='rel_distance')"
   ]
  },
  {
   "cell_type": "code",
   "execution_count": 19,
   "id": "dac209cc-6280-41fd-804b-2eba180d3ff8",
   "metadata": {
    "tags": []
   },
   "outputs": [
    {
     "data": {
      "text/plain": [
       "0   0.000000\n",
       "1   1.282630\n",
       "2   1.289100\n",
       "3   1.289100\n",
       "Name: rel_distance, dtype: float64"
      ]
     },
     "execution_count": 19,
     "metadata": {},
     "output_type": "execute_result"
    }
   ],
   "source": [
    "df_nnlist.iloc[dict_4['1']].sort_values(by='rel_distance')['rel_distance']"
   ]
  },
  {
   "cell_type": "code",
   "execution_count": 24,
   "id": "b3f80011-656a-4d18-9aca-91a1d5445678",
   "metadata": {
    "tags": []
   },
   "outputs": [
    {
     "data": {
      "text/plain": [
       "1.2891"
      ]
     },
     "execution_count": 24,
     "metadata": {},
     "output_type": "execute_result"
    }
   ],
   "source": [
    "third_CO_bond_dist = df_nnlist.iloc[dict_4['1']].sort_values(by='rel_distance')['rel_distance'].tolist()[3]\n",
    "third_CO_bond_dist"
   ]
  },
  {
   "cell_type": "code",
   "execution_count": 22,
   "id": "f16dbd08-b223-4c22-8518-b9e366180578",
   "metadata": {
    "tags": []
   },
   "outputs": [],
   "source": [
    "forth_dist = df_nnlist.iloc[dict_4['1']].sort_values(by='rel_distance')['rel_distance'].tolist()[4]"
   ]
  },
  {
   "cell_type": "code",
   "execution_count": null,
   "id": "837e108e-7353-46a8-9ef3-0d9e86a41fd5",
   "metadata": {},
   "outputs": [],
   "source": [
    "third_CO_bond_dist < forth_dist"
   ]
  },
  {
   "cell_type": "code",
   "execution_count": null,
   "id": "f76ffd19-da01-46e9-b92b-05653552f3b4",
   "metadata": {},
   "outputs": [],
   "source": [
    "bool_list_5 = []\n",
    "for k, v in dict_4.items():\n",
    "    third_CO_bond_dist = df_nnlist.iloc[dict_4[k]].sort_values(by='rel_distance')['rel_distance'].tolist()[3]\n",
    "    forth_dist = df_nnlist.iloc[dict_4['1']].sort_values(by='rel_distance')['rel_distance'].tolist()[4]\n",
    "    bool_list_5.append(third_CO_bond_dist < forth_dist)\n",
    "df_nnlist_central_atom_ids_fillterd_5 = np.array(list(dict_4.keys()))[bool_list_5]"
   ]
  },
  {
   "cell_type": "code",
   "execution_count": 28,
   "id": "4ea0f74f-947c-49b0-86eb-40792ce6a306",
   "metadata": {
    "tags": []
   },
   "outputs": [],
   "source": [
    "def filter_5(df_nnlist, dict_3):\n",
    "    bool_list_5 = []\n",
    "    for k, v in dict_3.items():\n",
    "        third_CO_bond_dist = df_nnlist.iloc[dict_3[k]].sort_values(by='rel_distance')['rel_distance'].tolist()[3]\n",
    "        forth_dist = df_nnlist.iloc[dict_3[k]].sort_values(by='rel_distance')['rel_distance'].tolist()[4]\n",
    "        bool_list_5.append(third_CO_bond_dist < forth_dist)\n",
    "    df_nnlist_central_atom_ids_fillterd_5 = np.array(list(dict_3.keys()))[bool_list_5]\n",
    "    filtered_5_df_nnlist_group_dict = {key: dict_3[key] for key in dict_3.keys() if key in df_nnlist_central_atom_ids_fillterd_5}\n",
    "    bool_filter_5 = len(df_nnlist_central_atom_ids_fillterd_5) >= 1\n",
    "\n",
    "    return bool_filter_5, filtered_5_df_nnlist_group_dict"
   ]
  },
  {
   "cell_type": "code",
   "execution_count": 29,
   "id": "e198ee90-f6e1-4a74-8277-d3195495deaf",
   "metadata": {},
   "outputs": [],
   "source": [
    "bool_5, dict_5 = filter_5(df_nnlist=df_nnlist, dict_3=dict_3)"
   ]
  },
  {
   "cell_type": "code",
   "execution_count": 30,
   "id": "fe446101-82f7-4945-a180-0dd7623de98e",
   "metadata": {
    "tags": []
   },
   "outputs": [
    {
     "data": {
      "text/plain": [
       "True"
      ]
     },
     "execution_count": 30,
     "metadata": {},
     "output_type": "execute_result"
    }
   ],
   "source": [
    "bool_5"
   ]
  },
  {
   "cell_type": "code",
   "execution_count": null,
   "id": "1cc2a6c2-c88c-4fa7-aa3e-b1dbcfaeeab6",
   "metadata": {},
   "outputs": [],
   "source": []
  },
  {
   "cell_type": "code",
   "execution_count": null,
   "id": "d9079068-8035-4a86-839f-a6eb31db8061",
   "metadata": {},
   "outputs": [],
   "source": []
  },
  {
   "cell_type": "code",
   "execution_count": null,
   "id": "be369e13-8327-4aec-90de-3ac763c05da9",
   "metadata": {},
   "outputs": [],
   "source": []
  },
  {
   "cell_type": "markdown",
   "id": "ec33f866-e670-46a2-a4f3-6ad1551c4484",
   "metadata": {},
   "source": [
    "### 6．3．の3つの原子O全てに対して，3．の中心の原子Cとの距離以内に，中心原子C以外の別の原子が存在しない．"
   ]
  },
  {
   "cell_type": "code",
   "execution_count": 32,
   "id": "db1e3a59-7870-4dfa-81ca-c8640313f45d",
   "metadata": {
    "tags": []
   },
   "outputs": [
    {
     "data": {
      "text/plain": [
       "{'5': Int64Index([148, 149, 150, 151, 152, 153, 154, 155, 156, 157, 158, 159, 160,\n",
       "             161, 162, 163, 164, 165, 166, 167, 168, 169, 170, 171, 172, 173,\n",
       "             174, 175],\n",
       "            dtype='int64'),\n",
       " '6': Int64Index([176, 177, 178, 179, 180, 181, 182, 183, 184, 185, 186, 187, 188,\n",
       "             189, 190, 191, 192, 193, 194, 195, 196, 197, 198, 199, 200, 201,\n",
       "             202, 203],\n",
       "            dtype='int64'),\n",
       " '7': Int64Index([204, 205, 206, 207, 208, 209, 210, 211, 212, 213, 214, 215, 216,\n",
       "             217, 218, 219, 220, 221, 222, 223, 224, 225, 226, 227, 228, 229,\n",
       "             230, 231],\n",
       "            dtype='int64'),\n",
       " '8': Int64Index([232, 233, 234, 235, 236, 237, 238, 239, 240, 241, 242, 243, 244,\n",
       "             245, 246, 247, 248, 249, 250, 251, 252, 253, 254, 255, 256, 257,\n",
       "             258, 259],\n",
       "            dtype='int64')}"
      ]
     },
     "execution_count": 32,
     "metadata": {},
     "output_type": "execute_result"
    }
   ],
   "source": [
    "dict_5"
   ]
  },
  {
   "cell_type": "code",
   "execution_count": 37,
   "id": "566aaeb3-dcf4-4050-be41-fca0218ea224",
   "metadata": {
    "tags": []
   },
   "outputs": [
    {
     "data": {
      "text/html": [
       "<div>\n",
       "<style scoped>\n",
       "    .dataframe tbody tr th:only-of-type {\n",
       "        vertical-align: middle;\n",
       "    }\n",
       "\n",
       "    .dataframe tbody tr th {\n",
       "        vertical-align: top;\n",
       "    }\n",
       "\n",
       "    .dataframe thead th {\n",
       "        text-align: right;\n",
       "    }\n",
       "</style>\n",
       "<table border=\"1\" class=\"dataframe\">\n",
       "  <thead>\n",
       "    <tr style=\"text-align: right;\">\n",
       "      <th></th>\n",
       "      <th>central_atom_id</th>\n",
       "      <th>neighboring_atom_id</th>\n",
       "      <th>rel_distance</th>\n",
       "      <th>rel_x</th>\n",
       "      <th>rel_y</th>\n",
       "      <th>rel_z</th>\n",
       "      <th>unitcell_x</th>\n",
       "      <th>unitcell_y</th>\n",
       "      <th>unitcell_z</th>\n",
       "      <th>central_atom_symbol</th>\n",
       "      <th>neighboring_atom_symbol</th>\n",
       "    </tr>\n",
       "  </thead>\n",
       "  <tbody>\n",
       "    <tr>\n",
       "      <th>154</th>\n",
       "      <td>5</td>\n",
       "      <td>5</td>\n",
       "      <td>0.000000</td>\n",
       "      <td>0.000000</td>\n",
       "      <td>0.000000</td>\n",
       "      <td>0.000000</td>\n",
       "      <td>0</td>\n",
       "      <td>0</td>\n",
       "      <td>0</td>\n",
       "      <td>C</td>\n",
       "      <td>C</td>\n",
       "    </tr>\n",
       "    <tr>\n",
       "      <th>157</th>\n",
       "      <td>5</td>\n",
       "      <td>9</td>\n",
       "      <td>1.282630</td>\n",
       "      <td>0.000000</td>\n",
       "      <td>1.281885</td>\n",
       "      <td>-0.043713</td>\n",
       "      <td>0</td>\n",
       "      <td>0</td>\n",
       "      <td>0</td>\n",
       "      <td>C</td>\n",
       "      <td>O</td>\n",
       "    </tr>\n",
       "    <tr>\n",
       "      <th>165</th>\n",
       "      <td>5</td>\n",
       "      <td>13</td>\n",
       "      <td>1.289100</td>\n",
       "      <td>1.112990</td>\n",
       "      <td>-0.650283</td>\n",
       "      <td>0.012857</td>\n",
       "      <td>0</td>\n",
       "      <td>0</td>\n",
       "      <td>0</td>\n",
       "      <td>C</td>\n",
       "      <td>O</td>\n",
       "    </tr>\n",
       "    <tr>\n",
       "      <th>169</th>\n",
       "      <td>5</td>\n",
       "      <td>16</td>\n",
       "      <td>1.289100</td>\n",
       "      <td>-1.112990</td>\n",
       "      <td>-0.650283</td>\n",
       "      <td>0.012857</td>\n",
       "      <td>0</td>\n",
       "      <td>0</td>\n",
       "      <td>0</td>\n",
       "      <td>C</td>\n",
       "      <td>O</td>\n",
       "    </tr>\n",
       "    <tr>\n",
       "      <th>148</th>\n",
       "      <td>5</td>\n",
       "      <td>1</td>\n",
       "      <td>3.209053</td>\n",
       "      <td>0.000000</td>\n",
       "      <td>-3.030710</td>\n",
       "      <td>-1.054900</td>\n",
       "      <td>0</td>\n",
       "      <td>0</td>\n",
       "      <td>0</td>\n",
       "      <td>C</td>\n",
       "      <td>Ba</td>\n",
       "    </tr>\n",
       "    <tr>\n",
       "      <th>153</th>\n",
       "      <td>5</td>\n",
       "      <td>4</td>\n",
       "      <td>3.211550</td>\n",
       "      <td>2.656300</td>\n",
       "      <td>1.417190</td>\n",
       "      <td>-1.117899</td>\n",
       "      <td>0</td>\n",
       "      <td>0</td>\n",
       "      <td>0</td>\n",
       "      <td>C</td>\n",
       "      <td>Ba</td>\n",
       "    </tr>\n",
       "    <tr>\n",
       "      <th>152</th>\n",
       "      <td>5</td>\n",
       "      <td>4</td>\n",
       "      <td>3.211550</td>\n",
       "      <td>-2.656300</td>\n",
       "      <td>1.417190</td>\n",
       "      <td>-1.117899</td>\n",
       "      <td>-1</td>\n",
       "      <td>0</td>\n",
       "      <td>0</td>\n",
       "      <td>C</td>\n",
       "      <td>Ba</td>\n",
       "    </tr>\n",
       "    <tr>\n",
       "      <th>155</th>\n",
       "      <td>5</td>\n",
       "      <td>6</td>\n",
       "      <td>3.216612</td>\n",
       "      <td>0.000000</td>\n",
       "      <td>-0.124541</td>\n",
       "      <td>-3.214200</td>\n",
       "      <td>0</td>\n",
       "      <td>0</td>\n",
       "      <td>0</td>\n",
       "      <td>C</td>\n",
       "      <td>C</td>\n",
       "    </tr>\n",
       "    <tr>\n",
       "      <th>156</th>\n",
       "      <td>5</td>\n",
       "      <td>6</td>\n",
       "      <td>3.216612</td>\n",
       "      <td>0.000000</td>\n",
       "      <td>-0.124541</td>\n",
       "      <td>3.214200</td>\n",
       "      <td>0</td>\n",
       "      <td>0</td>\n",
       "      <td>1</td>\n",
       "      <td>C</td>\n",
       "      <td>C</td>\n",
       "    </tr>\n",
       "    <tr>\n",
       "      <th>166</th>\n",
       "      <td>5</td>\n",
       "      <td>14</td>\n",
       "      <td>3.429832</td>\n",
       "      <td>-1.112990</td>\n",
       "      <td>0.525742</td>\n",
       "      <td>-3.201343</td>\n",
       "      <td>0</td>\n",
       "      <td>0</td>\n",
       "      <td>0</td>\n",
       "      <td>C</td>\n",
       "      <td>O</td>\n",
       "    </tr>\n",
       "    <tr>\n",
       "      <th>171</th>\n",
       "      <td>5</td>\n",
       "      <td>17</td>\n",
       "      <td>3.429832</td>\n",
       "      <td>1.112990</td>\n",
       "      <td>0.525742</td>\n",
       "      <td>-3.201343</td>\n",
       "      <td>0</td>\n",
       "      <td>0</td>\n",
       "      <td>0</td>\n",
       "      <td>C</td>\n",
       "      <td>O</td>\n",
       "    </tr>\n",
       "    <tr>\n",
       "      <th>172</th>\n",
       "      <td>5</td>\n",
       "      <td>17</td>\n",
       "      <td>3.453845</td>\n",
       "      <td>1.112990</td>\n",
       "      <td>0.525742</td>\n",
       "      <td>3.227057</td>\n",
       "      <td>0</td>\n",
       "      <td>0</td>\n",
       "      <td>1</td>\n",
       "      <td>C</td>\n",
       "      <td>O</td>\n",
       "    </tr>\n",
       "    <tr>\n",
       "      <th>167</th>\n",
       "      <td>5</td>\n",
       "      <td>14</td>\n",
       "      <td>3.453845</td>\n",
       "      <td>-1.112990</td>\n",
       "      <td>0.525742</td>\n",
       "      <td>3.227057</td>\n",
       "      <td>0</td>\n",
       "      <td>0</td>\n",
       "      <td>1</td>\n",
       "      <td>C</td>\n",
       "      <td>O</td>\n",
       "    </tr>\n",
       "    <tr>\n",
       "      <th>159</th>\n",
       "      <td>5</td>\n",
       "      <td>10</td>\n",
       "      <td>3.468432</td>\n",
       "      <td>0.000000</td>\n",
       "      <td>-1.406426</td>\n",
       "      <td>3.170487</td>\n",
       "      <td>0</td>\n",
       "      <td>0</td>\n",
       "      <td>1</td>\n",
       "      <td>C</td>\n",
       "      <td>O</td>\n",
       "    </tr>\n",
       "    <tr>\n",
       "      <th>158</th>\n",
       "      <td>5</td>\n",
       "      <td>10</td>\n",
       "      <td>3.548525</td>\n",
       "      <td>0.000000</td>\n",
       "      <td>-1.406426</td>\n",
       "      <td>-3.257913</td>\n",
       "      <td>0</td>\n",
       "      <td>0</td>\n",
       "      <td>0</td>\n",
       "      <td>C</td>\n",
       "      <td>O</td>\n",
       "    </tr>\n",
       "    <tr>\n",
       "      <th>149</th>\n",
       "      <td>5</td>\n",
       "      <td>2</td>\n",
       "      <td>3.620551</td>\n",
       "      <td>0.000000</td>\n",
       "      <td>2.906169</td>\n",
       "      <td>2.159300</td>\n",
       "      <td>0</td>\n",
       "      <td>1</td>\n",
       "      <td>1</td>\n",
       "      <td>C</td>\n",
       "      <td>Ba</td>\n",
       "    </tr>\n",
       "    <tr>\n",
       "      <th>151</th>\n",
       "      <td>5</td>\n",
       "      <td>3</td>\n",
       "      <td>3.718514</td>\n",
       "      <td>2.656300</td>\n",
       "      <td>-1.541731</td>\n",
       "      <td>2.096301</td>\n",
       "      <td>0</td>\n",
       "      <td>0</td>\n",
       "      <td>1</td>\n",
       "      <td>C</td>\n",
       "      <td>Ba</td>\n",
       "    </tr>\n",
       "    <tr>\n",
       "      <th>150</th>\n",
       "      <td>5</td>\n",
       "      <td>3</td>\n",
       "      <td>3.718514</td>\n",
       "      <td>-2.656300</td>\n",
       "      <td>-1.541731</td>\n",
       "      <td>2.096301</td>\n",
       "      <td>-1</td>\n",
       "      <td>0</td>\n",
       "      <td>1</td>\n",
       "      <td>C</td>\n",
       "      <td>Ba</td>\n",
       "    </tr>\n",
       "    <tr>\n",
       "      <th>161</th>\n",
       "      <td>5</td>\n",
       "      <td>11</td>\n",
       "      <td>4.181383</td>\n",
       "      <td>2.656300</td>\n",
       "      <td>3.041474</td>\n",
       "      <td>1.085114</td>\n",
       "      <td>0</td>\n",
       "      <td>1</td>\n",
       "      <td>1</td>\n",
       "      <td>C</td>\n",
       "      <td>O</td>\n",
       "    </tr>\n",
       "    <tr>\n",
       "      <th>160</th>\n",
       "      <td>5</td>\n",
       "      <td>11</td>\n",
       "      <td>4.181383</td>\n",
       "      <td>-2.656300</td>\n",
       "      <td>3.041474</td>\n",
       "      <td>1.085114</td>\n",
       "      <td>-1</td>\n",
       "      <td>1</td>\n",
       "      <td>1</td>\n",
       "      <td>C</td>\n",
       "      <td>O</td>\n",
       "    </tr>\n",
       "    <tr>\n",
       "      <th>170</th>\n",
       "      <td>5</td>\n",
       "      <td>16</td>\n",
       "      <td>4.249678</td>\n",
       "      <td>4.199610</td>\n",
       "      <td>-0.650283</td>\n",
       "      <td>0.012857</td>\n",
       "      <td>1</td>\n",
       "      <td>0</td>\n",
       "      <td>0</td>\n",
       "      <td>C</td>\n",
       "      <td>O</td>\n",
       "    </tr>\n",
       "    <tr>\n",
       "      <th>164</th>\n",
       "      <td>5</td>\n",
       "      <td>13</td>\n",
       "      <td>4.249678</td>\n",
       "      <td>-4.199610</td>\n",
       "      <td>-0.650283</td>\n",
       "      <td>0.012857</td>\n",
       "      <td>-1</td>\n",
       "      <td>0</td>\n",
       "      <td>0</td>\n",
       "      <td>C</td>\n",
       "      <td>O</td>\n",
       "    </tr>\n",
       "    <tr>\n",
       "      <th>168</th>\n",
       "      <td>5</td>\n",
       "      <td>15</td>\n",
       "      <td>4.338552</td>\n",
       "      <td>1.543310</td>\n",
       "      <td>-3.922158</td>\n",
       "      <td>1.028544</td>\n",
       "      <td>0</td>\n",
       "      <td>0</td>\n",
       "      <td>1</td>\n",
       "      <td>C</td>\n",
       "      <td>O</td>\n",
       "    </tr>\n",
       "    <tr>\n",
       "      <th>174</th>\n",
       "      <td>5</td>\n",
       "      <td>19</td>\n",
       "      <td>4.338552</td>\n",
       "      <td>-1.543310</td>\n",
       "      <td>-3.922158</td>\n",
       "      <td>1.028544</td>\n",
       "      <td>-1</td>\n",
       "      <td>0</td>\n",
       "      <td>1</td>\n",
       "      <td>C</td>\n",
       "      <td>O</td>\n",
       "    </tr>\n",
       "    <tr>\n",
       "      <th>173</th>\n",
       "      <td>5</td>\n",
       "      <td>18</td>\n",
       "      <td>4.645513</td>\n",
       "      <td>-1.543310</td>\n",
       "      <td>3.797617</td>\n",
       "      <td>-2.185656</td>\n",
       "      <td>-1</td>\n",
       "      <td>1</td>\n",
       "      <td>0</td>\n",
       "      <td>C</td>\n",
       "      <td>O</td>\n",
       "    </tr>\n",
       "    <tr>\n",
       "      <th>175</th>\n",
       "      <td>5</td>\n",
       "      <td>20</td>\n",
       "      <td>4.645513</td>\n",
       "      <td>1.543310</td>\n",
       "      <td>3.797617</td>\n",
       "      <td>-2.185656</td>\n",
       "      <td>0</td>\n",
       "      <td>1</td>\n",
       "      <td>0</td>\n",
       "      <td>C</td>\n",
       "      <td>O</td>\n",
       "    </tr>\n",
       "    <tr>\n",
       "      <th>163</th>\n",
       "      <td>5</td>\n",
       "      <td>12</td>\n",
       "      <td>4.648934</td>\n",
       "      <td>2.656300</td>\n",
       "      <td>-3.166015</td>\n",
       "      <td>-2.129086</td>\n",
       "      <td>0</td>\n",
       "      <td>0</td>\n",
       "      <td>0</td>\n",
       "      <td>C</td>\n",
       "      <td>O</td>\n",
       "    </tr>\n",
       "    <tr>\n",
       "      <th>162</th>\n",
       "      <td>5</td>\n",
       "      <td>12</td>\n",
       "      <td>4.648934</td>\n",
       "      <td>-2.656300</td>\n",
       "      <td>-3.166015</td>\n",
       "      <td>-2.129086</td>\n",
       "      <td>-1</td>\n",
       "      <td>0</td>\n",
       "      <td>0</td>\n",
       "      <td>C</td>\n",
       "      <td>O</td>\n",
       "    </tr>\n",
       "  </tbody>\n",
       "</table>\n",
       "</div>"
      ],
      "text/plain": [
       "    central_atom_id neighboring_atom_id  rel_distance     rel_x     rel_y  \\\n",
       "154               5                   5      0.000000  0.000000  0.000000   \n",
       "157               5                   9      1.282630  0.000000  1.281885   \n",
       "165               5                  13      1.289100  1.112990 -0.650283   \n",
       "169               5                  16      1.289100 -1.112990 -0.650283   \n",
       "148               5                   1      3.209053  0.000000 -3.030710   \n",
       "153               5                   4      3.211550  2.656300  1.417190   \n",
       "152               5                   4      3.211550 -2.656300  1.417190   \n",
       "155               5                   6      3.216612  0.000000 -0.124541   \n",
       "156               5                   6      3.216612  0.000000 -0.124541   \n",
       "166               5                  14      3.429832 -1.112990  0.525742   \n",
       "171               5                  17      3.429832  1.112990  0.525742   \n",
       "172               5                  17      3.453845  1.112990  0.525742   \n",
       "167               5                  14      3.453845 -1.112990  0.525742   \n",
       "159               5                  10      3.468432  0.000000 -1.406426   \n",
       "158               5                  10      3.548525  0.000000 -1.406426   \n",
       "149               5                   2      3.620551  0.000000  2.906169   \n",
       "151               5                   3      3.718514  2.656300 -1.541731   \n",
       "150               5                   3      3.718514 -2.656300 -1.541731   \n",
       "161               5                  11      4.181383  2.656300  3.041474   \n",
       "160               5                  11      4.181383 -2.656300  3.041474   \n",
       "170               5                  16      4.249678  4.199610 -0.650283   \n",
       "164               5                  13      4.249678 -4.199610 -0.650283   \n",
       "168               5                  15      4.338552  1.543310 -3.922158   \n",
       "174               5                  19      4.338552 -1.543310 -3.922158   \n",
       "173               5                  18      4.645513 -1.543310  3.797617   \n",
       "175               5                  20      4.645513  1.543310  3.797617   \n",
       "163               5                  12      4.648934  2.656300 -3.166015   \n",
       "162               5                  12      4.648934 -2.656300 -3.166015   \n",
       "\n",
       "        rel_z  unitcell_x  unitcell_y  unitcell_z central_atom_symbol  \\\n",
       "154  0.000000           0           0           0                   C   \n",
       "157 -0.043713           0           0           0                   C   \n",
       "165  0.012857           0           0           0                   C   \n",
       "169  0.012857           0           0           0                   C   \n",
       "148 -1.054900           0           0           0                   C   \n",
       "153 -1.117899           0           0           0                   C   \n",
       "152 -1.117899          -1           0           0                   C   \n",
       "155 -3.214200           0           0           0                   C   \n",
       "156  3.214200           0           0           1                   C   \n",
       "166 -3.201343           0           0           0                   C   \n",
       "171 -3.201343           0           0           0                   C   \n",
       "172  3.227057           0           0           1                   C   \n",
       "167  3.227057           0           0           1                   C   \n",
       "159  3.170487           0           0           1                   C   \n",
       "158 -3.257913           0           0           0                   C   \n",
       "149  2.159300           0           1           1                   C   \n",
       "151  2.096301           0           0           1                   C   \n",
       "150  2.096301          -1           0           1                   C   \n",
       "161  1.085114           0           1           1                   C   \n",
       "160  1.085114          -1           1           1                   C   \n",
       "170  0.012857           1           0           0                   C   \n",
       "164  0.012857          -1           0           0                   C   \n",
       "168  1.028544           0           0           1                   C   \n",
       "174  1.028544          -1           0           1                   C   \n",
       "173 -2.185656          -1           1           0                   C   \n",
       "175 -2.185656           0           1           0                   C   \n",
       "163 -2.129086           0           0           0                   C   \n",
       "162 -2.129086          -1           0           0                   C   \n",
       "\n",
       "    neighboring_atom_symbol  \n",
       "154                       C  \n",
       "157                       O  \n",
       "165                       O  \n",
       "169                       O  \n",
       "148                      Ba  \n",
       "153                      Ba  \n",
       "152                      Ba  \n",
       "155                       C  \n",
       "156                       C  \n",
       "166                       O  \n",
       "171                       O  \n",
       "172                       O  \n",
       "167                       O  \n",
       "159                       O  \n",
       "158                       O  \n",
       "149                      Ba  \n",
       "151                      Ba  \n",
       "150                      Ba  \n",
       "161                       O  \n",
       "160                       O  \n",
       "170                       O  \n",
       "164                       O  \n",
       "168                       O  \n",
       "174                       O  \n",
       "173                       O  \n",
       "175                       O  \n",
       "163                       O  \n",
       "162                       O  "
      ]
     },
     "execution_count": 37,
     "metadata": {},
     "output_type": "execute_result"
    }
   ],
   "source": [
    "df_nnlist.iloc[dict_3['5']].sort_values(by='rel_distance')"
   ]
  },
  {
   "cell_type": "code",
   "execution_count": 36,
   "id": "e9099c6f-e15e-46e5-8f0d-02cee730edd5",
   "metadata": {
    "tags": []
   },
   "outputs": [
    {
     "data": {
      "text/plain": [
       "Int64Index([154, 157, 165, 169, 148, 153, 152, 155, 156, 166, 171, 172, 167,\n",
       "            159, 158, 149, 151, 150, 161, 160, 170, 164, 168, 174, 173, 175,\n",
       "            163, 162],\n",
       "           dtype='int64')"
      ]
     },
     "execution_count": 36,
     "metadata": {},
     "output_type": "execute_result"
    }
   ],
   "source": [
    "df_nnlist.iloc[dict_3['5']].sort_values(by='rel_distance').index"
   ]
  },
  {
   "cell_type": "code",
   "execution_count": 41,
   "id": "aefd7ea6-6ea1-4fac-98a3-7a01a51d73e6",
   "metadata": {
    "tags": []
   },
   "outputs": [
    {
     "data": {
      "text/plain": [
       "Int64Index([157, 165, 169], dtype='int64')"
      ]
     },
     "execution_count": 41,
     "metadata": {},
     "output_type": "execute_result"
    }
   ],
   "source": [
    "# C周りのO３つのindex\n",
    "indices = df_nnlist.iloc[dict_3['5']].sort_values(by='rel_distance').index[1:4]\n",
    "indices"
   ]
  },
  {
   "cell_type": "code",
   "execution_count": 40,
   "id": "b1bea686-eb4b-44e8-a138-0771a250eeef",
   "metadata": {
    "tags": []
   },
   "outputs": [
    {
     "data": {
      "text/html": [
       "<div>\n",
       "<style scoped>\n",
       "    .dataframe tbody tr th:only-of-type {\n",
       "        vertical-align: middle;\n",
       "    }\n",
       "\n",
       "    .dataframe tbody tr th {\n",
       "        vertical-align: top;\n",
       "    }\n",
       "\n",
       "    .dataframe thead th {\n",
       "        text-align: right;\n",
       "    }\n",
       "</style>\n",
       "<table border=\"1\" class=\"dataframe\">\n",
       "  <thead>\n",
       "    <tr style=\"text-align: right;\">\n",
       "      <th></th>\n",
       "      <th>central_atom_id</th>\n",
       "      <th>neighboring_atom_id</th>\n",
       "      <th>rel_distance</th>\n",
       "      <th>rel_x</th>\n",
       "      <th>rel_y</th>\n",
       "      <th>rel_z</th>\n",
       "      <th>unitcell_x</th>\n",
       "      <th>unitcell_y</th>\n",
       "      <th>unitcell_z</th>\n",
       "      <th>central_atom_symbol</th>\n",
       "      <th>neighboring_atom_symbol</th>\n",
       "    </tr>\n",
       "  </thead>\n",
       "  <tbody>\n",
       "    <tr>\n",
       "      <th>157</th>\n",
       "      <td>5</td>\n",
       "      <td>9</td>\n",
       "      <td>1.282630</td>\n",
       "      <td>0.000000</td>\n",
       "      <td>1.281885</td>\n",
       "      <td>-0.043713</td>\n",
       "      <td>0</td>\n",
       "      <td>0</td>\n",
       "      <td>0</td>\n",
       "      <td>C</td>\n",
       "      <td>O</td>\n",
       "    </tr>\n",
       "    <tr>\n",
       "      <th>165</th>\n",
       "      <td>5</td>\n",
       "      <td>13</td>\n",
       "      <td>1.289100</td>\n",
       "      <td>1.112990</td>\n",
       "      <td>-0.650283</td>\n",
       "      <td>0.012857</td>\n",
       "      <td>0</td>\n",
       "      <td>0</td>\n",
       "      <td>0</td>\n",
       "      <td>C</td>\n",
       "      <td>O</td>\n",
       "    </tr>\n",
       "    <tr>\n",
       "      <th>169</th>\n",
       "      <td>5</td>\n",
       "      <td>16</td>\n",
       "      <td>1.289100</td>\n",
       "      <td>-1.112990</td>\n",
       "      <td>-0.650283</td>\n",
       "      <td>0.012857</td>\n",
       "      <td>0</td>\n",
       "      <td>0</td>\n",
       "      <td>0</td>\n",
       "      <td>C</td>\n",
       "      <td>O</td>\n",
       "    </tr>\n",
       "  </tbody>\n",
       "</table>\n",
       "</div>"
      ],
      "text/plain": [
       "    central_atom_id neighboring_atom_id  rel_distance     rel_x     rel_y  \\\n",
       "157               5                   9      1.282630  0.000000  1.281885   \n",
       "165               5                  13      1.289100  1.112990 -0.650283   \n",
       "169               5                  16      1.289100 -1.112990 -0.650283   \n",
       "\n",
       "        rel_z  unitcell_x  unitcell_y  unitcell_z central_atom_symbol  \\\n",
       "157 -0.043713           0           0           0                   C   \n",
       "165  0.012857           0           0           0                   C   \n",
       "169  0.012857           0           0           0                   C   \n",
       "\n",
       "    neighboring_atom_symbol  \n",
       "157                       O  \n",
       "165                       O  \n",
       "169                       O  "
      ]
     },
     "execution_count": 40,
     "metadata": {},
     "output_type": "execute_result"
    }
   ],
   "source": [
    "df_nnlist.iloc[indices]"
   ]
  },
  {
   "cell_type": "code",
   "execution_count": 44,
   "id": "8d34266a-bab3-4563-8bdd-01791d395cb5",
   "metadata": {
    "tags": []
   },
   "outputs": [
    {
     "data": {
      "text/plain": [
       "157     9\n",
       "165    13\n",
       "169    16\n",
       "dtype: object"
      ]
     },
     "execution_count": 44,
     "metadata": {},
     "output_type": "execute_result"
    }
   ],
   "source": [
    "df_nnlist.iloc[indices].apply(lambda row: row['neighboring_atom_id'], axis = 1)"
   ]
  },
  {
   "cell_type": "code",
   "execution_count": 45,
   "id": "0bc02339-4326-4d89-873e-ca39b4dac541",
   "metadata": {
    "tags": []
   },
   "outputs": [
    {
     "data": {
      "text/plain": [
       "157    {'9': 1.28263}\n",
       "165    {'13': 1.2891}\n",
       "169    {'16': 1.2891}\n",
       "dtype: object"
      ]
     },
     "execution_count": 45,
     "metadata": {},
     "output_type": "execute_result"
    }
   ],
   "source": [
    "df_nnlist.iloc[indices].apply(lambda row: {row['neighboring_atom_id']: row['rel_distance']}, axis = 1)"
   ]
  },
  {
   "cell_type": "code",
   "execution_count": 50,
   "id": "2cfa42ef-5ff1-4865-a9dc-42018857be28",
   "metadata": {
    "tags": []
   },
   "outputs": [
    {
     "data": {
      "text/plain": [
       "['9', '13', '16']"
      ]
     },
     "execution_count": 50,
     "metadata": {},
     "output_type": "execute_result"
    }
   ],
   "source": [
    "O_ids = df_nnlist.iloc[indices].apply(lambda row: row['neighboring_atom_id'], axis = 1).tolist()\n",
    "O_ids"
   ]
  },
  {
   "cell_type": "code",
   "execution_count": 66,
   "id": "124a8a03-f53a-4a5b-ac14-1ad05f283075",
   "metadata": {
    "tags": []
   },
   "outputs": [
    {
     "data": {
      "text/html": [
       "<div>\n",
       "<style scoped>\n",
       "    .dataframe tbody tr th:only-of-type {\n",
       "        vertical-align: middle;\n",
       "    }\n",
       "\n",
       "    .dataframe tbody tr th {\n",
       "        vertical-align: top;\n",
       "    }\n",
       "\n",
       "    .dataframe thead th {\n",
       "        text-align: right;\n",
       "    }\n",
       "</style>\n",
       "<table border=\"1\" class=\"dataframe\">\n",
       "  <thead>\n",
       "    <tr style=\"text-align: right;\">\n",
       "      <th></th>\n",
       "      <th>central_atom_id</th>\n",
       "      <th>neighboring_atom_id</th>\n",
       "      <th>rel_distance</th>\n",
       "      <th>rel_x</th>\n",
       "      <th>rel_y</th>\n",
       "      <th>rel_z</th>\n",
       "      <th>unitcell_x</th>\n",
       "      <th>unitcell_y</th>\n",
       "      <th>unitcell_z</th>\n",
       "      <th>central_atom_symbol</th>\n",
       "      <th>neighboring_atom_symbol</th>\n",
       "    </tr>\n",
       "  </thead>\n",
       "  <tbody>\n",
       "    <tr>\n",
       "      <th>275</th>\n",
       "      <td>9</td>\n",
       "      <td>9</td>\n",
       "      <td>0.000000</td>\n",
       "      <td>0.000000</td>\n",
       "      <td>0.000000</td>\n",
       "      <td>0.000000</td>\n",
       "      <td>0</td>\n",
       "      <td>0</td>\n",
       "      <td>0</td>\n",
       "      <td>O</td>\n",
       "      <td>O</td>\n",
       "    </tr>\n",
       "    <tr>\n",
       "      <th>268</th>\n",
       "      <td>9</td>\n",
       "      <td>5</td>\n",
       "      <td>1.282630</td>\n",
       "      <td>0.000000</td>\n",
       "      <td>-1.281885</td>\n",
       "      <td>0.043713</td>\n",
       "      <td>0</td>\n",
       "      <td>0</td>\n",
       "      <td>0</td>\n",
       "      <td>O</td>\n",
       "      <td>C</td>\n",
       "    </tr>\n",
       "    <tr>\n",
       "      <th>285</th>\n",
       "      <td>9</td>\n",
       "      <td>16</td>\n",
       "      <td>2.230520</td>\n",
       "      <td>-1.112990</td>\n",
       "      <td>-1.932168</td>\n",
       "      <td>0.056570</td>\n",
       "      <td>0</td>\n",
       "      <td>0</td>\n",
       "      <td>0</td>\n",
       "      <td>O</td>\n",
       "      <td>O</td>\n",
       "    </tr>\n",
       "    <tr>\n",
       "      <th>281</th>\n",
       "      <td>9</td>\n",
       "      <td>13</td>\n",
       "      <td>2.230520</td>\n",
       "      <td>1.112990</td>\n",
       "      <td>-1.932168</td>\n",
       "      <td>0.056570</td>\n",
       "      <td>0</td>\n",
       "      <td>0</td>\n",
       "      <td>0</td>\n",
       "      <td>O</td>\n",
       "      <td>O</td>\n",
       "    </tr>\n",
       "    <tr>\n",
       "      <th>263</th>\n",
       "      <td>9</td>\n",
       "      <td>2</td>\n",
       "      <td>2.737072</td>\n",
       "      <td>0.000000</td>\n",
       "      <td>1.624284</td>\n",
       "      <td>2.203013</td>\n",
       "      <td>0</td>\n",
       "      <td>1</td>\n",
       "      <td>1</td>\n",
       "      <td>O</td>\n",
       "      <td>Ba</td>\n",
       "    </tr>\n",
       "    <tr>\n",
       "      <th>266</th>\n",
       "      <td>9</td>\n",
       "      <td>4</td>\n",
       "      <td>2.868469</td>\n",
       "      <td>-2.656300</td>\n",
       "      <td>0.135305</td>\n",
       "      <td>-1.074186</td>\n",
       "      <td>-1</td>\n",
       "      <td>0</td>\n",
       "      <td>0</td>\n",
       "      <td>O</td>\n",
       "      <td>Ba</td>\n",
       "    </tr>\n",
       "    <tr>\n",
       "      <th>267</th>\n",
       "      <td>9</td>\n",
       "      <td>4</td>\n",
       "      <td>2.868469</td>\n",
       "      <td>2.656300</td>\n",
       "      <td>0.135305</td>\n",
       "      <td>-1.074186</td>\n",
       "      <td>0</td>\n",
       "      <td>0</td>\n",
       "      <td>0</td>\n",
       "      <td>O</td>\n",
       "      <td>Ba</td>\n",
       "    </tr>\n",
       "    <tr>\n",
       "      <th>279</th>\n",
       "      <td>9</td>\n",
       "      <td>11</td>\n",
       "      <td>3.380286</td>\n",
       "      <td>2.656300</td>\n",
       "      <td>1.759589</td>\n",
       "      <td>1.128827</td>\n",
       "      <td>0</td>\n",
       "      <td>1</td>\n",
       "      <td>1</td>\n",
       "      <td>O</td>\n",
       "      <td>O</td>\n",
       "    </tr>\n",
       "    <tr>\n",
       "      <th>278</th>\n",
       "      <td>9</td>\n",
       "      <td>11</td>\n",
       "      <td>3.380286</td>\n",
       "      <td>-2.656300</td>\n",
       "      <td>1.759589</td>\n",
       "      <td>1.128827</td>\n",
       "      <td>-1</td>\n",
       "      <td>1</td>\n",
       "      <td>1</td>\n",
       "      <td>O</td>\n",
       "      <td>O</td>\n",
       "    </tr>\n",
       "    <tr>\n",
       "      <th>287</th>\n",
       "      <td>9</td>\n",
       "      <td>17</td>\n",
       "      <td>3.432364</td>\n",
       "      <td>1.112990</td>\n",
       "      <td>-0.756143</td>\n",
       "      <td>-3.157630</td>\n",
       "      <td>0</td>\n",
       "      <td>0</td>\n",
       "      <td>0</td>\n",
       "      <td>O</td>\n",
       "      <td>O</td>\n",
       "    </tr>\n",
       "    <tr>\n",
       "      <th>282</th>\n",
       "      <td>9</td>\n",
       "      <td>14</td>\n",
       "      <td>3.432364</td>\n",
       "      <td>-1.112990</td>\n",
       "      <td>-0.756143</td>\n",
       "      <td>-3.157630</td>\n",
       "      <td>0</td>\n",
       "      <td>0</td>\n",
       "      <td>0</td>\n",
       "      <td>O</td>\n",
       "      <td>O</td>\n",
       "    </tr>\n",
       "    <tr>\n",
       "      <th>269</th>\n",
       "      <td>9</td>\n",
       "      <td>6</td>\n",
       "      <td>3.468432</td>\n",
       "      <td>0.000000</td>\n",
       "      <td>-1.406426</td>\n",
       "      <td>-3.170487</td>\n",
       "      <td>0</td>\n",
       "      <td>0</td>\n",
       "      <td>0</td>\n",
       "      <td>O</td>\n",
       "      <td>C</td>\n",
       "    </tr>\n",
       "    <tr>\n",
       "      <th>288</th>\n",
       "      <td>9</td>\n",
       "      <td>17</td>\n",
       "      <td>3.536726</td>\n",
       "      <td>1.112990</td>\n",
       "      <td>-0.756143</td>\n",
       "      <td>3.270770</td>\n",
       "      <td>0</td>\n",
       "      <td>0</td>\n",
       "      <td>1</td>\n",
       "      <td>O</td>\n",
       "      <td>O</td>\n",
       "    </tr>\n",
       "    <tr>\n",
       "      <th>283</th>\n",
       "      <td>9</td>\n",
       "      <td>14</td>\n",
       "      <td>3.536726</td>\n",
       "      <td>-1.112990</td>\n",
       "      <td>-0.756143</td>\n",
       "      <td>3.270770</td>\n",
       "      <td>0</td>\n",
       "      <td>0</td>\n",
       "      <td>1</td>\n",
       "      <td>O</td>\n",
       "      <td>O</td>\n",
       "    </tr>\n",
       "    <tr>\n",
       "      <th>270</th>\n",
       "      <td>9</td>\n",
       "      <td>6</td>\n",
       "      <td>3.548525</td>\n",
       "      <td>0.000000</td>\n",
       "      <td>-1.406426</td>\n",
       "      <td>3.257913</td>\n",
       "      <td>0</td>\n",
       "      <td>0</td>\n",
       "      <td>1</td>\n",
       "      <td>O</td>\n",
       "      <td>C</td>\n",
       "    </tr>\n",
       "    <tr>\n",
       "      <th>289</th>\n",
       "      <td>9</td>\n",
       "      <td>18</td>\n",
       "      <td>3.646729</td>\n",
       "      <td>-1.543310</td>\n",
       "      <td>2.515732</td>\n",
       "      <td>-2.141943</td>\n",
       "      <td>-1</td>\n",
       "      <td>1</td>\n",
       "      <td>0</td>\n",
       "      <td>O</td>\n",
       "      <td>O</td>\n",
       "    </tr>\n",
       "    <tr>\n",
       "      <th>291</th>\n",
       "      <td>9</td>\n",
       "      <td>20</td>\n",
       "      <td>3.646729</td>\n",
       "      <td>1.543310</td>\n",
       "      <td>2.515732</td>\n",
       "      <td>-2.141943</td>\n",
       "      <td>0</td>\n",
       "      <td>1</td>\n",
       "      <td>0</td>\n",
       "      <td>O</td>\n",
       "      <td>O</td>\n",
       "    </tr>\n",
       "    <tr>\n",
       "      <th>290</th>\n",
       "      <td>9</td>\n",
       "      <td>19</td>\n",
       "      <td>4.142537</td>\n",
       "      <td>-1.543310</td>\n",
       "      <td>3.691757</td>\n",
       "      <td>1.072257</td>\n",
       "      <td>-1</td>\n",
       "      <td>1</td>\n",
       "      <td>1</td>\n",
       "      <td>O</td>\n",
       "      <td>O</td>\n",
       "    </tr>\n",
       "    <tr>\n",
       "      <th>284</th>\n",
       "      <td>9</td>\n",
       "      <td>15</td>\n",
       "      <td>4.142537</td>\n",
       "      <td>1.543310</td>\n",
       "      <td>3.691757</td>\n",
       "      <td>1.072257</td>\n",
       "      <td>0</td>\n",
       "      <td>1</td>\n",
       "      <td>1</td>\n",
       "      <td>O</td>\n",
       "      <td>O</td>\n",
       "    </tr>\n",
       "    <tr>\n",
       "      <th>272</th>\n",
       "      <td>9</td>\n",
       "      <td>7</td>\n",
       "      <td>4.181383</td>\n",
       "      <td>2.656300</td>\n",
       "      <td>3.041474</td>\n",
       "      <td>1.085114</td>\n",
       "      <td>0</td>\n",
       "      <td>1</td>\n",
       "      <td>1</td>\n",
       "      <td>O</td>\n",
       "      <td>C</td>\n",
       "    </tr>\n",
       "    <tr>\n",
       "      <th>271</th>\n",
       "      <td>9</td>\n",
       "      <td>7</td>\n",
       "      <td>4.181383</td>\n",
       "      <td>-2.656300</td>\n",
       "      <td>3.041474</td>\n",
       "      <td>1.085114</td>\n",
       "      <td>-1</td>\n",
       "      <td>1</td>\n",
       "      <td>1</td>\n",
       "      <td>O</td>\n",
       "      <td>C</td>\n",
       "    </tr>\n",
       "    <tr>\n",
       "      <th>277</th>\n",
       "      <td>9</td>\n",
       "      <td>10</td>\n",
       "      <td>4.190238</td>\n",
       "      <td>0.000000</td>\n",
       "      <td>-2.688311</td>\n",
       "      <td>3.214200</td>\n",
       "      <td>0</td>\n",
       "      <td>0</td>\n",
       "      <td>1</td>\n",
       "      <td>O</td>\n",
       "      <td>O</td>\n",
       "    </tr>\n",
       "    <tr>\n",
       "      <th>276</th>\n",
       "      <td>9</td>\n",
       "      <td>10</td>\n",
       "      <td>4.190238</td>\n",
       "      <td>0.000000</td>\n",
       "      <td>-2.688311</td>\n",
       "      <td>-3.214200</td>\n",
       "      <td>0</td>\n",
       "      <td>0</td>\n",
       "      <td>0</td>\n",
       "      <td>O</td>\n",
       "      <td>O</td>\n",
       "    </tr>\n",
       "    <tr>\n",
       "      <th>265</th>\n",
       "      <td>9</td>\n",
       "      <td>3</td>\n",
       "      <td>4.428137</td>\n",
       "      <td>2.656300</td>\n",
       "      <td>-2.823616</td>\n",
       "      <td>2.140014</td>\n",
       "      <td>0</td>\n",
       "      <td>0</td>\n",
       "      <td>1</td>\n",
       "      <td>O</td>\n",
       "      <td>Ba</td>\n",
       "    </tr>\n",
       "    <tr>\n",
       "      <th>264</th>\n",
       "      <td>9</td>\n",
       "      <td>3</td>\n",
       "      <td>4.428137</td>\n",
       "      <td>-2.656300</td>\n",
       "      <td>-2.823616</td>\n",
       "      <td>2.140014</td>\n",
       "      <td>-1</td>\n",
       "      <td>0</td>\n",
       "      <td>1</td>\n",
       "      <td>O</td>\n",
       "      <td>Ba</td>\n",
       "    </tr>\n",
       "    <tr>\n",
       "      <th>260</th>\n",
       "      <td>9</td>\n",
       "      <td>1</td>\n",
       "      <td>4.429557</td>\n",
       "      <td>0.000000</td>\n",
       "      <td>-4.312595</td>\n",
       "      <td>-1.011187</td>\n",
       "      <td>0</td>\n",
       "      <td>0</td>\n",
       "      <td>0</td>\n",
       "      <td>O</td>\n",
       "      <td>Ba</td>\n",
       "    </tr>\n",
       "    <tr>\n",
       "      <th>262</th>\n",
       "      <td>9</td>\n",
       "      <td>2</td>\n",
       "      <td>4.526831</td>\n",
       "      <td>0.000000</td>\n",
       "      <td>1.624284</td>\n",
       "      <td>-4.225387</td>\n",
       "      <td>0</td>\n",
       "      <td>1</td>\n",
       "      <td>0</td>\n",
       "      <td>O</td>\n",
       "      <td>Ba</td>\n",
       "    </tr>\n",
       "    <tr>\n",
       "      <th>280</th>\n",
       "      <td>9</td>\n",
       "      <td>13</td>\n",
       "      <td>4.623116</td>\n",
       "      <td>-4.199610</td>\n",
       "      <td>-1.932168</td>\n",
       "      <td>0.056570</td>\n",
       "      <td>-1</td>\n",
       "      <td>0</td>\n",
       "      <td>0</td>\n",
       "      <td>O</td>\n",
       "      <td>O</td>\n",
       "    </tr>\n",
       "    <tr>\n",
       "      <th>286</th>\n",
       "      <td>9</td>\n",
       "      <td>16</td>\n",
       "      <td>4.623116</td>\n",
       "      <td>4.199610</td>\n",
       "      <td>-1.932168</td>\n",
       "      <td>0.056570</td>\n",
       "      <td>1</td>\n",
       "      <td>0</td>\n",
       "      <td>0</td>\n",
       "      <td>O</td>\n",
       "      <td>O</td>\n",
       "    </tr>\n",
       "    <tr>\n",
       "      <th>274</th>\n",
       "      <td>9</td>\n",
       "      <td>8</td>\n",
       "      <td>4.648934</td>\n",
       "      <td>2.656300</td>\n",
       "      <td>3.166015</td>\n",
       "      <td>-2.129086</td>\n",
       "      <td>0</td>\n",
       "      <td>1</td>\n",
       "      <td>0</td>\n",
       "      <td>O</td>\n",
       "      <td>C</td>\n",
       "    </tr>\n",
       "    <tr>\n",
       "      <th>273</th>\n",
       "      <td>9</td>\n",
       "      <td>8</td>\n",
       "      <td>4.648934</td>\n",
       "      <td>-2.656300</td>\n",
       "      <td>3.166015</td>\n",
       "      <td>-2.129086</td>\n",
       "      <td>-1</td>\n",
       "      <td>1</td>\n",
       "      <td>0</td>\n",
       "      <td>O</td>\n",
       "      <td>C</td>\n",
       "    </tr>\n",
       "    <tr>\n",
       "      <th>261</th>\n",
       "      <td>9</td>\n",
       "      <td>1</td>\n",
       "      <td>4.693428</td>\n",
       "      <td>0.000000</td>\n",
       "      <td>4.583205</td>\n",
       "      <td>-1.011187</td>\n",
       "      <td>0</td>\n",
       "      <td>1</td>\n",
       "      <td>0</td>\n",
       "      <td>O</td>\n",
       "      <td>Ba</td>\n",
       "    </tr>\n",
       "  </tbody>\n",
       "</table>\n",
       "</div>"
      ],
      "text/plain": [
       "    central_atom_id neighboring_atom_id  rel_distance     rel_x     rel_y  \\\n",
       "275               9                   9      0.000000  0.000000  0.000000   \n",
       "268               9                   5      1.282630  0.000000 -1.281885   \n",
       "285               9                  16      2.230520 -1.112990 -1.932168   \n",
       "281               9                  13      2.230520  1.112990 -1.932168   \n",
       "263               9                   2      2.737072  0.000000  1.624284   \n",
       "266               9                   4      2.868469 -2.656300  0.135305   \n",
       "267               9                   4      2.868469  2.656300  0.135305   \n",
       "279               9                  11      3.380286  2.656300  1.759589   \n",
       "278               9                  11      3.380286 -2.656300  1.759589   \n",
       "287               9                  17      3.432364  1.112990 -0.756143   \n",
       "282               9                  14      3.432364 -1.112990 -0.756143   \n",
       "269               9                   6      3.468432  0.000000 -1.406426   \n",
       "288               9                  17      3.536726  1.112990 -0.756143   \n",
       "283               9                  14      3.536726 -1.112990 -0.756143   \n",
       "270               9                   6      3.548525  0.000000 -1.406426   \n",
       "289               9                  18      3.646729 -1.543310  2.515732   \n",
       "291               9                  20      3.646729  1.543310  2.515732   \n",
       "290               9                  19      4.142537 -1.543310  3.691757   \n",
       "284               9                  15      4.142537  1.543310  3.691757   \n",
       "272               9                   7      4.181383  2.656300  3.041474   \n",
       "271               9                   7      4.181383 -2.656300  3.041474   \n",
       "277               9                  10      4.190238  0.000000 -2.688311   \n",
       "276               9                  10      4.190238  0.000000 -2.688311   \n",
       "265               9                   3      4.428137  2.656300 -2.823616   \n",
       "264               9                   3      4.428137 -2.656300 -2.823616   \n",
       "260               9                   1      4.429557  0.000000 -4.312595   \n",
       "262               9                   2      4.526831  0.000000  1.624284   \n",
       "280               9                  13      4.623116 -4.199610 -1.932168   \n",
       "286               9                  16      4.623116  4.199610 -1.932168   \n",
       "274               9                   8      4.648934  2.656300  3.166015   \n",
       "273               9                   8      4.648934 -2.656300  3.166015   \n",
       "261               9                   1      4.693428  0.000000  4.583205   \n",
       "\n",
       "        rel_z  unitcell_x  unitcell_y  unitcell_z central_atom_symbol  \\\n",
       "275  0.000000           0           0           0                   O   \n",
       "268  0.043713           0           0           0                   O   \n",
       "285  0.056570           0           0           0                   O   \n",
       "281  0.056570           0           0           0                   O   \n",
       "263  2.203013           0           1           1                   O   \n",
       "266 -1.074186          -1           0           0                   O   \n",
       "267 -1.074186           0           0           0                   O   \n",
       "279  1.128827           0           1           1                   O   \n",
       "278  1.128827          -1           1           1                   O   \n",
       "287 -3.157630           0           0           0                   O   \n",
       "282 -3.157630           0           0           0                   O   \n",
       "269 -3.170487           0           0           0                   O   \n",
       "288  3.270770           0           0           1                   O   \n",
       "283  3.270770           0           0           1                   O   \n",
       "270  3.257913           0           0           1                   O   \n",
       "289 -2.141943          -1           1           0                   O   \n",
       "291 -2.141943           0           1           0                   O   \n",
       "290  1.072257          -1           1           1                   O   \n",
       "284  1.072257           0           1           1                   O   \n",
       "272  1.085114           0           1           1                   O   \n",
       "271  1.085114          -1           1           1                   O   \n",
       "277  3.214200           0           0           1                   O   \n",
       "276 -3.214200           0           0           0                   O   \n",
       "265  2.140014           0           0           1                   O   \n",
       "264  2.140014          -1           0           1                   O   \n",
       "260 -1.011187           0           0           0                   O   \n",
       "262 -4.225387           0           1           0                   O   \n",
       "280  0.056570          -1           0           0                   O   \n",
       "286  0.056570           1           0           0                   O   \n",
       "274 -2.129086           0           1           0                   O   \n",
       "273 -2.129086          -1           1           0                   O   \n",
       "261 -1.011187           0           1           0                   O   \n",
       "\n",
       "    neighboring_atom_symbol  \n",
       "275                       O  \n",
       "268                       C  \n",
       "285                       O  \n",
       "281                       O  \n",
       "263                      Ba  \n",
       "266                      Ba  \n",
       "267                      Ba  \n",
       "279                       O  \n",
       "278                       O  \n",
       "287                       O  \n",
       "282                       O  \n",
       "269                       C  \n",
       "288                       O  \n",
       "283                       O  \n",
       "270                       C  \n",
       "289                       O  \n",
       "291                       O  \n",
       "290                       O  \n",
       "284                       O  \n",
       "272                       C  \n",
       "271                       C  \n",
       "277                       O  \n",
       "276                       O  \n",
       "265                      Ba  \n",
       "264                      Ba  \n",
       "260                      Ba  \n",
       "262                      Ba  \n",
       "280                       O  \n",
       "286                       O  \n",
       "274                       C  \n",
       "273                       C  \n",
       "261                      Ba  "
      ]
     },
     "execution_count": 66,
     "metadata": {},
     "output_type": "execute_result"
    }
   ],
   "source": [
    "df_nnlist[df_nnlist['central_atom_id'] == O_ids[0]].sort_values('rel_distance')"
   ]
  },
  {
   "cell_type": "code",
   "execution_count": 68,
   "id": "ad58fdd2-f3c1-4e89-b443-45e2e569ce55",
   "metadata": {
    "tags": []
   },
   "outputs": [
    {
     "data": {
      "text/plain": [
       "['O',\n",
       " 'C',\n",
       " 'O',\n",
       " 'O',\n",
       " 'Ba',\n",
       " 'Ba',\n",
       " 'Ba',\n",
       " 'O',\n",
       " 'O',\n",
       " 'O',\n",
       " 'O',\n",
       " 'C',\n",
       " 'O',\n",
       " 'O',\n",
       " 'C',\n",
       " 'O',\n",
       " 'O',\n",
       " 'O',\n",
       " 'O',\n",
       " 'C',\n",
       " 'C',\n",
       " 'O',\n",
       " 'O',\n",
       " 'Ba',\n",
       " 'Ba',\n",
       " 'Ba',\n",
       " 'Ba',\n",
       " 'O',\n",
       " 'O',\n",
       " 'C',\n",
       " 'C',\n",
       " 'Ba']"
      ]
     },
     "execution_count": 68,
     "metadata": {},
     "output_type": "execute_result"
    }
   ],
   "source": [
    "df_nnlist[df_nnlist['central_atom_id'] == O_ids[0]].sort_values('rel_distance')['neighboring_atom_symbol'].tolist()"
   ]
  },
  {
   "cell_type": "code",
   "execution_count": 70,
   "id": "25f5cdba-a59a-4d8a-8055-25ea02b3e27e",
   "metadata": {
    "tags": []
   },
   "outputs": [
    {
     "data": {
      "text/plain": [
       "True"
      ]
     },
     "execution_count": 70,
     "metadata": {},
     "output_type": "execute_result"
    }
   ],
   "source": [
    "df_nnlist[df_nnlist['central_atom_id'] == O_ids[0]].sort_values('rel_distance')['neighboring_atom_symbol'].tolist()[1] == 'C'"
   ]
  },
  {
   "cell_type": "code",
   "execution_count": 95,
   "id": "6f6cded2-f44e-4326-846e-13ffa3cc0ccd",
   "metadata": {
    "tags": []
   },
   "outputs": [],
   "source": [
    "bool_list_6 = []\n",
    "for k, v in dict_3.items():\n",
    "    df_nnlist.iloc[dict_3[k]].sort_values(by='rel_distance')\n",
    "    # C周りのO３つのindex\n",
    "    indices = df_nnlist.iloc[dict_3[k]].sort_values(by='rel_distance').index[1:4]\n",
    "    O_ids = df_nnlist.iloc[indices].apply(lambda row: row['neighboring_atom_id'], axis = 1).tolist()\n",
    "    for O_id in O_ids:\n",
    "        bool_list_temp = []\n",
    "        bool_list_temp.append(df_nnlist[df_nnlist['central_atom_id'] == O_id].sort_values('rel_distance')['neighboring_atom_symbol'].tolist()[1] == 'C')\n",
    "    if set(bool_list_temp) == {True}:\n",
    "        bool_list_6.append(True)"
   ]
  },
  {
   "cell_type": "code",
   "execution_count": 93,
   "id": "1c789a5b-def9-4371-a082-a958e19dcfd8",
   "metadata": {
    "tags": []
   },
   "outputs": [
    {
     "data": {
      "text/plain": [
       "[True, True, True, True]"
      ]
     },
     "execution_count": 93,
     "metadata": {},
     "output_type": "execute_result"
    }
   ],
   "source": [
    "bool_list_6"
   ]
  },
  {
   "cell_type": "code",
   "execution_count": 105,
   "id": "f1cebd7e-8ff1-44c5-8b3e-1286e7bdc1ec",
   "metadata": {
    "tags": []
   },
   "outputs": [
    {
     "data": {
      "text/plain": [
       "array(['5', '6', '7', '8'], dtype='<U1')"
      ]
     },
     "execution_count": 105,
     "metadata": {},
     "output_type": "execute_result"
    }
   ],
   "source": [
    "C_ids = np.array(list(dict_3.keys()))[bool_list_6]\n",
    "C_ids"
   ]
  },
  {
   "cell_type": "markdown",
   "id": "61f4c08e-aa83-44e9-b23d-e205cd2b40af",
   "metadata": {},
   "source": [
    "### 6．の関数化"
   ]
  },
  {
   "cell_type": "code",
   "execution_count": 114,
   "id": "1ea29bbf-d352-4885-b68a-1052c9640ee8",
   "metadata": {
    "tags": []
   },
   "outputs": [],
   "source": [
    "def filter_6(df_nnlist, dict_3):\n",
    "    bool_list_6 = []\n",
    "    for k, v in dict_3.items():\n",
    "        df_nnlist.iloc[dict_3[k]].sort_values(by='rel_distance')\n",
    "        # C周りのO３つのindex\n",
    "        indices = df_nnlist.iloc[dict_3[k]].sort_values(by='rel_distance').index[1:4]\n",
    "        O_ids = df_nnlist.iloc[indices].apply(lambda row: row['neighboring_atom_id'], axis = 1).tolist()\n",
    "        for O_id in O_ids:\n",
    "            bool_list_temp = []\n",
    "            bool_list_temp.append(df_nnlist[df_nnlist['central_atom_id'] == O_id].sort_values('rel_distance')['neighboring_atom_symbol'].tolist()[1] == 'C')\n",
    "        if set(bool_list_temp) == {True}:\n",
    "            bool_list_6.append(True)\n",
    "    C_ids = np.array(list(dict_3.keys()))[bool_list_6]\n",
    "    bool_filter_6 = len(bool_list_6) >= 1\n",
    "        \n",
    "    return bool_filter_6, C_ids"
   ]
  },
  {
   "cell_type": "code",
   "execution_count": 117,
   "id": "e0cb74c2-2a5b-4c14-bd91-6d6194b10ad3",
   "metadata": {
    "tags": []
   },
   "outputs": [],
   "source": [
    "bool_6, C_ids = filter_6(df_nnlist=df_nnlist, dict_3=dict_3)"
   ]
  },
  {
   "cell_type": "code",
   "execution_count": 118,
   "id": "1c576253-8b63-44a4-af0b-4bf550e6f7a9",
   "metadata": {
    "tags": []
   },
   "outputs": [
    {
     "data": {
      "text/plain": [
       "True"
      ]
     },
     "execution_count": 118,
     "metadata": {},
     "output_type": "execute_result"
    }
   ],
   "source": [
    "bool_6"
   ]
  },
  {
   "cell_type": "code",
   "execution_count": 119,
   "id": "dabf54e8-7005-48db-8c56-5066a300c6a0",
   "metadata": {
    "tags": []
   },
   "outputs": [
    {
     "data": {
      "text/plain": [
       "array(['5', '6', '7', '8'], dtype='<U1')"
      ]
     },
     "execution_count": 119,
     "metadata": {},
     "output_type": "execute_result"
    }
   ],
   "source": [
    "C_ids"
   ]
  }
 ],
 "metadata": {
  "kernelspec": {
   "display_name": "Python 3 (ipykernel)",
   "language": "python",
   "name": "python3"
  },
  "language_info": {
   "codemirror_mode": {
    "name": "ipython",
    "version": 3
   },
   "file_extension": ".py",
   "mimetype": "text/x-python",
   "name": "python",
   "nbconvert_exporter": "python",
   "pygments_lexer": "ipython3",
   "version": "3.10.12"
  }
 },
 "nbformat": 4,
 "nbformat_minor": 5
}
